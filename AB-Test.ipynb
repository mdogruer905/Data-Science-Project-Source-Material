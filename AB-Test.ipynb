{
 "cells": [
  {
   "cell_type": "markdown",
   "metadata": {},
   "source": [
    "# GERÇEK BİR VERİ SETİ ÜZERİNDE A/B TESTİ UYGULAMASI"
   ]
  },
  {
   "attachments": {},
   "cell_type": "markdown",
   "metadata": {},
   "source": [
    "![AB-Testi.png](https://www.vargonen.com/blog/wp-content/uploads/2020/05/ab-testi-nedir.png)"
   ]
  },
  {
   "cell_type": "markdown",
   "metadata": {},
   "source": [
    "> ****A/B TESTİ,İKİ BAĞIMSIZ UYGULAMANIN BİRBİRİYLE KARŞILAŞTIRILIP,KARŞILAŞTIRILAN PARAMETRELER ARASINDA İSTATİKSEL OLARAK FARK VAR MIDIRIN CEVABINI VERİR.**"
   ]
  },
  {
   "cell_type": "markdown",
   "metadata": {},
   "source": [
    "**İŞ PROBLEMİMİZ:\n",
    "Bir e-ticaret şirketi bir platformda satış yapıyor, satış yaptığı  sitenin giriş ekranında değişikliğe gitmek istiyor ve satışlarda, ürün görüntülemelerinde ve tıklamalarında  istatiksel olarak bir farklılık olup olmadığını bilmek istiyor.**"
   ]
  },
  {
   "cell_type": "markdown",
   "metadata": {},
   "source": [
    "> **H0: MEVCUT DURUMUN GETİRİSİYLE DEĞİŞİKLİK SONRASI GETİRİ ARASINDA İSTATİKSEL OLARAK ANLAMLI BİR FARK YOKTUR.\n",
    "> H1:...FARK VARDIR.**"
   ]
  },
  {
   "cell_type": "code",
   "execution_count": 21,
   "metadata": {
    "_cell_guid": "b1076dfc-b9ad-4769-8c92-a6c4dae69d19",
    "_uuid": "8f2839f25d086af736a60e9eeb907d3b93b6e0e5",
    "execution": {
     "iopub.execute_input": "2021-06-21T17:51:40.108897Z",
     "iopub.status.busy": "2021-06-21T17:51:40.108528Z",
     "iopub.status.idle": "2021-06-21T17:51:40.115834Z",
     "shell.execute_reply": "2021-06-21T17:51:40.115046Z",
     "shell.execute_reply.started": "2021-06-21T17:51:40.108865Z"
    }
   },
   "outputs": [],
   "source": [
    "\n",
    "import numpy as np \n",
    "import pandas as pd\n",
    "import pandas as pd\n",
    "import matplotlib.pyplot as plt\n",
    "from scipy.stats import ttest_1samp, shapiro, levene, ttest_ind, mannwhitneyu\n",
    "pd.set_option('display.max_columns', None)\n",
    "pd.set_option('display.max_rows', 10)\n",
    "pd.set_option('display.float_format', lambda x: '%.5f' % x)"
   ]
  },
  {
   "cell_type": "code",
   "execution_count": 22,
   "metadata": {
    "execution": {
     "iopub.execute_input": "2021-06-21T17:51:40.117375Z",
     "iopub.status.busy": "2021-06-21T17:51:40.116978Z",
     "iopub.status.idle": "2021-06-21T17:51:46.696429Z",
     "shell.execute_reply": "2021-06-21T17:51:46.695202Z",
     "shell.execute_reply.started": "2021-06-21T17:51:40.117346Z"
    }
   },
   "outputs": [
    {
     "name": "stdout",
     "output_type": "stream",
     "text": [
      "Requirement already satisfied: openpyxl in /opt/conda/lib/python3.7/site-packages (3.0.7)\n",
      "Requirement already satisfied: et-xmlfile in /opt/conda/lib/python3.7/site-packages (from openpyxl) (1.1.0)\n"
     ]
    }
   ],
   "source": [
    "#excel dosyalarını açabilmek için\n",
    "!pip install openpyxl"
   ]
  },
  {
   "cell_type": "code",
   "execution_count": 23,
   "metadata": {
    "execution": {
     "iopub.execute_input": "2021-06-21T17:51:46.699302Z",
     "iopub.status.busy": "2021-06-21T17:51:46.698973Z",
     "iopub.status.idle": "2021-06-21T17:51:46.774747Z",
     "shell.execute_reply": "2021-06-21T17:51:46.773678Z",
     "shell.execute_reply.started": "2021-06-21T17:51:46.699263Z"
    }
   },
   "outputs": [],
   "source": [
    "#control ve test verilerini okutuyorum\n",
    "data=pd.read_excel(\"../input/ab-test/ab_testing.xlsx\",sheet_name=\"Control Group\")\n",
    "data_test=pd.read_excel(\"../input/ab-test/ab_testing.xlsx\",sheet_name=\"Test Group\")"
   ]
  },
  {
   "cell_type": "code",
   "execution_count": 24,
   "metadata": {
    "execution": {
     "iopub.execute_input": "2021-06-21T17:51:46.776562Z",
     "iopub.status.busy": "2021-06-21T17:51:46.776259Z",
     "iopub.status.idle": "2021-06-21T17:51:46.794437Z",
     "shell.execute_reply": "2021-06-21T17:51:46.793234Z",
     "shell.execute_reply.started": "2021-06-21T17:51:46.776530Z"
    }
   },
   "outputs": [
    {
     "data": {
      "text/html": [
       "<div>\n",
       "<style scoped>\n",
       "    .dataframe tbody tr th:only-of-type {\n",
       "        vertical-align: middle;\n",
       "    }\n",
       "\n",
       "    .dataframe tbody tr th {\n",
       "        vertical-align: top;\n",
       "    }\n",
       "\n",
       "    .dataframe thead th {\n",
       "        text-align: right;\n",
       "    }\n",
       "</style>\n",
       "<table border=\"1\" class=\"dataframe\">\n",
       "  <thead>\n",
       "    <tr style=\"text-align: right;\">\n",
       "      <th></th>\n",
       "      <th>Impression</th>\n",
       "      <th>Click</th>\n",
       "      <th>Purchase</th>\n",
       "      <th>Earning</th>\n",
       "      <th>Unnamed: 4</th>\n",
       "      <th>Unnamed: 5</th>\n",
       "      <th>Unnamed: 6</th>\n",
       "      <th>Unnamed: 7</th>\n",
       "      <th>Unnamed: 8</th>\n",
       "      <th>Unnamed: 9</th>\n",
       "      <th>Unnamed: 10</th>\n",
       "      <th>Unnamed: 11</th>\n",
       "      <th>Unnamed: 12</th>\n",
       "      <th>Unnamed: 13</th>\n",
       "    </tr>\n",
       "  </thead>\n",
       "  <tbody>\n",
       "    <tr>\n",
       "      <th>0</th>\n",
       "      <td>82529.45927</td>\n",
       "      <td>6090.07732</td>\n",
       "      <td>665.21125</td>\n",
       "      <td>2311.27714</td>\n",
       "      <td>NaN</td>\n",
       "      <td>NaN</td>\n",
       "      <td>NaN</td>\n",
       "      <td>NaN</td>\n",
       "      <td>NaN</td>\n",
       "      <td>NaN</td>\n",
       "      <td>NaN</td>\n",
       "      <td>NaN</td>\n",
       "      <td>NaN</td>\n",
       "      <td>NaN</td>\n",
       "    </tr>\n",
       "    <tr>\n",
       "      <th>1</th>\n",
       "      <td>98050.45193</td>\n",
       "      <td>3382.86179</td>\n",
       "      <td>315.08489</td>\n",
       "      <td>1742.80686</td>\n",
       "      <td>NaN</td>\n",
       "      <td>NaN</td>\n",
       "      <td>NaN</td>\n",
       "      <td>NaN</td>\n",
       "      <td>NaN</td>\n",
       "      <td>NaN</td>\n",
       "      <td>NaN</td>\n",
       "      <td>NaN</td>\n",
       "      <td>NaN</td>\n",
       "      <td>NaN</td>\n",
       "    </tr>\n",
       "    <tr>\n",
       "      <th>2</th>\n",
       "      <td>82696.02355</td>\n",
       "      <td>4167.96575</td>\n",
       "      <td>458.08374</td>\n",
       "      <td>1797.82745</td>\n",
       "      <td>NaN</td>\n",
       "      <td>NaN</td>\n",
       "      <td>NaN</td>\n",
       "      <td>NaN</td>\n",
       "      <td>NaN</td>\n",
       "      <td>NaN</td>\n",
       "      <td>NaN</td>\n",
       "      <td>NaN</td>\n",
       "      <td>NaN</td>\n",
       "      <td>NaN</td>\n",
       "    </tr>\n",
       "    <tr>\n",
       "      <th>3</th>\n",
       "      <td>109914.40040</td>\n",
       "      <td>4910.88224</td>\n",
       "      <td>487.09077</td>\n",
       "      <td>1696.22918</td>\n",
       "      <td>NaN</td>\n",
       "      <td>NaN</td>\n",
       "      <td>NaN</td>\n",
       "      <td>NaN</td>\n",
       "      <td>NaN</td>\n",
       "      <td>NaN</td>\n",
       "      <td>NaN</td>\n",
       "      <td>NaN</td>\n",
       "      <td>NaN</td>\n",
       "      <td>NaN</td>\n",
       "    </tr>\n",
       "    <tr>\n",
       "      <th>4</th>\n",
       "      <td>108457.76263</td>\n",
       "      <td>5987.65581</td>\n",
       "      <td>441.03405</td>\n",
       "      <td>1543.72018</td>\n",
       "      <td>NaN</td>\n",
       "      <td>NaN</td>\n",
       "      <td>NaN</td>\n",
       "      <td>NaN</td>\n",
       "      <td>NaN</td>\n",
       "      <td>NaN</td>\n",
       "      <td>NaN</td>\n",
       "      <td>NaN</td>\n",
       "      <td>NaN</td>\n",
       "      <td>NaN</td>\n",
       "    </tr>\n",
       "  </tbody>\n",
       "</table>\n",
       "</div>"
      ],
      "text/plain": [
       "    Impression      Click  Purchase    Earning  Unnamed: 4  Unnamed: 5  \\\n",
       "0  82529.45927 6090.07732 665.21125 2311.27714         NaN         NaN   \n",
       "1  98050.45193 3382.86179 315.08489 1742.80686         NaN         NaN   \n",
       "2  82696.02355 4167.96575 458.08374 1797.82745         NaN         NaN   \n",
       "3 109914.40040 4910.88224 487.09077 1696.22918         NaN         NaN   \n",
       "4 108457.76263 5987.65581 441.03405 1543.72018         NaN         NaN   \n",
       "\n",
       "   Unnamed: 6  Unnamed: 7  Unnamed: 8  Unnamed: 9  Unnamed: 10  Unnamed: 11  \\\n",
       "0         NaN         NaN         NaN         NaN          NaN          NaN   \n",
       "1         NaN         NaN         NaN         NaN          NaN          NaN   \n",
       "2         NaN         NaN         NaN         NaN          NaN          NaN   \n",
       "3         NaN         NaN         NaN         NaN          NaN          NaN   \n",
       "4         NaN         NaN         NaN         NaN          NaN          NaN   \n",
       "\n",
       "   Unnamed: 12  Unnamed: 13  \n",
       "0          NaN          NaN  \n",
       "1          NaN          NaN  \n",
       "2          NaN          NaN  \n",
       "3          NaN          NaN  \n",
       "4          NaN          NaN  "
      ]
     },
     "execution_count": 24,
     "metadata": {},
     "output_type": "execute_result"
    }
   ],
   "source": [
    "data.head()"
   ]
  },
  {
   "cell_type": "code",
   "execution_count": 25,
   "metadata": {
    "execution": {
     "iopub.execute_input": "2021-06-21T17:51:46.796225Z",
     "iopub.status.busy": "2021-06-21T17:51:46.795896Z",
     "iopub.status.idle": "2021-06-21T17:51:46.808360Z",
     "shell.execute_reply": "2021-06-21T17:51:46.807519Z",
     "shell.execute_reply.started": "2021-06-21T17:51:46.796192Z"
    }
   },
   "outputs": [],
   "source": [
    "data=data[['Impression', 'Click', 'Purchase', 'Earning']]"
   ]
  },
  {
   "cell_type": "code",
   "execution_count": 26,
   "metadata": {
    "execution": {
     "iopub.execute_input": "2021-06-21T17:51:46.810017Z",
     "iopub.status.busy": "2021-06-21T17:51:46.809710Z",
     "iopub.status.idle": "2021-06-21T17:51:46.828277Z",
     "shell.execute_reply": "2021-06-21T17:51:46.827279Z",
     "shell.execute_reply.started": "2021-06-21T17:51:46.809986Z"
    }
   },
   "outputs": [
    {
     "data": {
      "text/html": [
       "<div>\n",
       "<style scoped>\n",
       "    .dataframe tbody tr th:only-of-type {\n",
       "        vertical-align: middle;\n",
       "    }\n",
       "\n",
       "    .dataframe tbody tr th {\n",
       "        vertical-align: top;\n",
       "    }\n",
       "\n",
       "    .dataframe thead th {\n",
       "        text-align: right;\n",
       "    }\n",
       "</style>\n",
       "<table border=\"1\" class=\"dataframe\">\n",
       "  <thead>\n",
       "    <tr style=\"text-align: right;\">\n",
       "      <th></th>\n",
       "      <th>Impression</th>\n",
       "      <th>Click</th>\n",
       "      <th>Purchase</th>\n",
       "      <th>Earning</th>\n",
       "    </tr>\n",
       "  </thead>\n",
       "  <tbody>\n",
       "    <tr>\n",
       "      <th>0</th>\n",
       "      <td>82529.45927</td>\n",
       "      <td>6090.07732</td>\n",
       "      <td>665.21125</td>\n",
       "      <td>2311.27714</td>\n",
       "    </tr>\n",
       "    <tr>\n",
       "      <th>1</th>\n",
       "      <td>98050.45193</td>\n",
       "      <td>3382.86179</td>\n",
       "      <td>315.08489</td>\n",
       "      <td>1742.80686</td>\n",
       "    </tr>\n",
       "    <tr>\n",
       "      <th>2</th>\n",
       "      <td>82696.02355</td>\n",
       "      <td>4167.96575</td>\n",
       "      <td>458.08374</td>\n",
       "      <td>1797.82745</td>\n",
       "    </tr>\n",
       "    <tr>\n",
       "      <th>3</th>\n",
       "      <td>109914.40040</td>\n",
       "      <td>4910.88224</td>\n",
       "      <td>487.09077</td>\n",
       "      <td>1696.22918</td>\n",
       "    </tr>\n",
       "    <tr>\n",
       "      <th>4</th>\n",
       "      <td>108457.76263</td>\n",
       "      <td>5987.65581</td>\n",
       "      <td>441.03405</td>\n",
       "      <td>1543.72018</td>\n",
       "    </tr>\n",
       "  </tbody>\n",
       "</table>\n",
       "</div>"
      ],
      "text/plain": [
       "    Impression      Click  Purchase    Earning\n",
       "0  82529.45927 6090.07732 665.21125 2311.27714\n",
       "1  98050.45193 3382.86179 315.08489 1742.80686\n",
       "2  82696.02355 4167.96575 458.08374 1797.82745\n",
       "3 109914.40040 4910.88224 487.09077 1696.22918\n",
       "4 108457.76263 5987.65581 441.03405 1543.72018"
      ]
     },
     "execution_count": 26,
     "metadata": {},
     "output_type": "execute_result"
    }
   ],
   "source": [
    "data.head()"
   ]
  },
  {
   "cell_type": "code",
   "execution_count": 27,
   "metadata": {
    "execution": {
     "iopub.execute_input": "2021-06-21T17:51:46.831052Z",
     "iopub.status.busy": "2021-06-21T17:51:46.830458Z",
     "iopub.status.idle": "2021-06-21T17:51:46.837976Z",
     "shell.execute_reply": "2021-06-21T17:51:46.836964Z",
     "shell.execute_reply.started": "2021-06-21T17:51:46.831016Z"
    }
   },
   "outputs": [],
   "source": [
    "data_test=data_test[['Impression', 'Click', 'Purchase', 'Earning']]"
   ]
  },
  {
   "cell_type": "code",
   "execution_count": 28,
   "metadata": {
    "execution": {
     "iopub.execute_input": "2021-06-21T17:51:46.840135Z",
     "iopub.status.busy": "2021-06-21T17:51:46.839791Z",
     "iopub.status.idle": "2021-06-21T17:51:46.853570Z",
     "shell.execute_reply": "2021-06-21T17:51:46.852370Z",
     "shell.execute_reply.started": "2021-06-21T17:51:46.840103Z"
    }
   },
   "outputs": [
    {
     "data": {
      "text/plain": [
       "550.8940587702316"
      ]
     },
     "execution_count": 28,
     "metadata": {},
     "output_type": "execute_result"
    }
   ],
   "source": [
    "#satın alım sayılarının her iki veride de ortalamasına bakıyorum.\n",
    "data[\"Purchase\"].mean() "
   ]
  },
  {
   "cell_type": "code",
   "execution_count": 29,
   "metadata": {
    "execution": {
     "iopub.execute_input": "2021-06-21T17:51:46.855333Z",
     "iopub.status.busy": "2021-06-21T17:51:46.854978Z",
     "iopub.status.idle": "2021-06-21T17:51:46.869839Z",
     "shell.execute_reply": "2021-06-21T17:51:46.868812Z",
     "shell.execute_reply.started": "2021-06-21T17:51:46.855302Z"
    }
   },
   "outputs": [
    {
     "data": {
      "text/plain": [
       "582.1060966484677"
      ]
     },
     "execution_count": 29,
     "metadata": {},
     "output_type": "execute_result"
    }
   ],
   "source": [
    "data_test[\"Purchase\"].mean()"
   ]
  },
  {
   "cell_type": "markdown",
   "metadata": {},
   "source": [
    "İki veri arasında matematiksel olarak fark var bir de istatiksel olarak var mı ona bakalım."
   ]
  },
  {
   "cell_type": "code",
   "execution_count": 30,
   "metadata": {
    "execution": {
     "iopub.execute_input": "2021-06-21T17:51:46.871584Z",
     "iopub.status.busy": "2021-06-21T17:51:46.871289Z",
     "iopub.status.idle": "2021-06-21T17:51:46.883617Z",
     "shell.execute_reply": "2021-06-21T17:51:46.882621Z",
     "shell.execute_reply.started": "2021-06-21T17:51:46.871556Z"
    }
   },
   "outputs": [
    {
     "name": "stdout",
     "output_type": "stream",
     "text": [
      "Test Stat = 0.9773, p-value = 0.5891\n"
     ]
    }
   ],
   "source": [
    "#normallik testini kontrol verisindeki purchase değerlerine uyguluyorum.\n",
    "test_stat, pvalue = shapiro(data['Purchase'])\n",
    "print('Test Stat = %.4f, p-value = %.4f' % (test_stat, pvalue))"
   ]
  },
  {
   "cell_type": "code",
   "execution_count": 31,
   "metadata": {
    "execution": {
     "iopub.execute_input": "2021-06-21T17:51:46.885558Z",
     "iopub.status.busy": "2021-06-21T17:51:46.885118Z",
     "iopub.status.idle": "2021-06-21T17:51:46.896708Z",
     "shell.execute_reply": "2021-06-21T17:51:46.895588Z",
     "shell.execute_reply.started": "2021-06-21T17:51:46.885526Z"
    }
   },
   "outputs": [
    {
     "name": "stdout",
     "output_type": "stream",
     "text": [
      "Test Stat = 0.9589, p-value = 0.1541\n"
     ]
    }
   ],
   "source": [
    "#normallik testini test veri setindeki purchase değerlerine uyguluyorum.\n",
    "test_stat, pvalue = shapiro(data_test['Purchase'])\n",
    "print('Test Stat = %.4f, p-value = %.4f' % (test_stat, pvalue))"
   ]
  },
  {
   "cell_type": "code",
   "execution_count": 32,
   "metadata": {
    "execution": {
     "iopub.execute_input": "2021-06-21T17:51:46.898629Z",
     "iopub.status.busy": "2021-06-21T17:51:46.898268Z",
     "iopub.status.idle": "2021-06-21T17:51:46.911825Z",
     "shell.execute_reply": "2021-06-21T17:51:46.910626Z",
     "shell.execute_reply.started": "2021-06-21T17:51:46.898593Z"
    }
   },
   "outputs": [
    {
     "name": "stdout",
     "output_type": "stream",
     "text": [
      "Test Stat = 2.6393, p-value = 0.1083\n"
     ]
    }
   ],
   "source": [
    "#varyansların homojen olup olmadığını kontrol ediyorum\n",
    "test_stat, pvalue = levene(data[\"Purchase\"],data_test[\"Purchase\"])\n",
    "print('Test Stat = %.4f, p-value = %.4f' % (test_stat, pvalue))"
   ]
  },
  {
   "cell_type": "markdown",
   "metadata": {},
   "source": [
    "p-value değerleri 0.05'ten büyük olduğundan h0 reddedilemez ve varsayımlar sağlandığından bağımsız iki örneklem t testi yapılır."
   ]
  },
  {
   "cell_type": "code",
   "execution_count": 33,
   "metadata": {
    "execution": {
     "iopub.execute_input": "2021-06-21T17:51:46.913963Z",
     "iopub.status.busy": "2021-06-21T17:51:46.913355Z",
     "iopub.status.idle": "2021-06-21T17:51:46.927162Z",
     "shell.execute_reply": "2021-06-21T17:51:46.926138Z",
     "shell.execute_reply.started": "2021-06-21T17:51:46.913924Z"
    }
   },
   "outputs": [
    {
     "name": "stdout",
     "output_type": "stream",
     "text": [
      "Test Stat = -0.9416, p-value = 0.3493\n"
     ]
    }
   ],
   "source": [
    "#bağımsız iki örneklem t testi uygulaması\n",
    "#equal_ver=True varyansların homojen olduğunu belirtir varyanslar homojen değilse \n",
    "# yani yalnızca normallik varsayımının sağlandığı durumlarda bu parametreye false değeri girilir.\n",
    "test_stat, pvalue = ttest_ind(data[\"Purchase\"],data_test[\"Purchase\"],\n",
    "                              equal_var=True)\n",
    "print('Test Stat = %.4f, p-value = %.4f' % (test_stat, pvalue))"
   ]
  },
  {
   "cell_type": "markdown",
   "metadata": {},
   "source": [
    "p-value değeri 0.05'ten büyük olduğundan h0 reddedilemez yani mevcut durumun getirisiyle değişiklik sonrası getiri arasında istatiksel olarak anlamlı bir fark yoktur."
   ]
  },
  {
   "cell_type": "code",
   "execution_count": 34,
   "metadata": {
    "execution": {
     "iopub.execute_input": "2021-06-21T17:51:46.928754Z",
     "iopub.status.busy": "2021-06-21T17:51:46.928464Z",
     "iopub.status.idle": "2021-06-21T17:51:46.939848Z",
     "shell.execute_reply": "2021-06-21T17:51:46.938823Z",
     "shell.execute_reply.started": "2021-06-21T17:51:46.928726Z"
    }
   },
   "outputs": [],
   "source": [
    "#a/b testini fonksiyonlaştırıyorum.\n",
    "def statistics(dataframe1,dataframe2,transaction1):\n",
    "    p=0.05\n",
    "    test_stat, pvalue1 = shapiro(dataframe1[transaction1])\n",
    "    test_stat, pvalue2 = shapiro(dataframe2[transaction1])\n",
    "    test_stat, pvalue3 = levene(dataframe1[transaction1], dataframe2[transaction1])\n",
    "    if pvalue1>p and pvalue2>p and pvalue3>p:\n",
    "        test_stat, pvalue4 = ttest_ind(dataframe1[transaction1], dataframe2[transaction1],equal_var=True)\n",
    "        print(f\"pvalue değeri:{pvalue4}\")\n",
    "        if pvalue4 > p:\n",
    "            print(f\"{pvalue4} bu sayı {p}'den büyüktür, H0 reddedilemez\")\n",
    "        else:\n",
    "            print(f\"{pvalue4} bu sayı {p}'den küçüktür, H0 red\")\n",
    "    elif pvalue1>p and pvalue2>p and pvalue3<p:\n",
    "        test_stat, pvalue4 = ttest_ind(dataframe1[transaction1], dataframe2[transaction1], equal_var=False)\n",
    "        print(f\"pvalue değeri:{pvalue4}\")\n",
    "        if pvalue4 > p:\n",
    "            print(f\"{pvalue4} bu sayı {p}'den büyüktür, H0 reddedilemez\")\n",
    "        else:\n",
    "            print(f\"{pvalue4} bu sayı {p}'den küçüktür,H0 red\")\n",
    "    elif (pvalue1>p and pvalue2<p) or (pvalue1<p and pvalue2>p) or (pvalue1<p and pvalue2<p):\n",
    "        test_stat, pvalue = mannwhitneyu(dataframe1[transaction1],\n",
    "                                         dataframe2[transaction1])\n",
    "        print(f\"pvalue değeri:{pvalue}\")\n",
    "        if pvalue>p:\n",
    "            print(f\"{pvalue} bu sayı {p}'den büyüktür, H0 reddedilemez\")\n",
    "        else:\n",
    "            print(f\"{pvalue} bu sayı {p}'den küçüktür, H0 red\")"
   ]
  },
  {
   "cell_type": "code",
   "execution_count": 35,
   "metadata": {
    "execution": {
     "iopub.execute_input": "2021-06-21T17:51:46.941381Z",
     "iopub.status.busy": "2021-06-21T17:51:46.941087Z",
     "iopub.status.idle": "2021-06-21T17:51:46.960535Z",
     "shell.execute_reply": "2021-06-21T17:51:46.959703Z",
     "shell.execute_reply.started": "2021-06-21T17:51:46.941354Z"
    }
   },
   "outputs": [
    {
     "name": "stdout",
     "output_type": "stream",
     "text": [
      "pvalue değeri:0.34932579202108416\n",
      "0.34932579202108416 bu sayı 0.05'den büyüktür, H0 reddedilemez\n"
     ]
    }
   ],
   "source": [
    "#güzel oldu :)\n",
    "statistics(data,data_test,\"Purchase\")"
   ]
  },
  {
   "cell_type": "code",
   "execution_count": 36,
   "metadata": {
    "execution": {
     "iopub.execute_input": "2021-06-21T17:51:46.962225Z",
     "iopub.status.busy": "2021-06-21T17:51:46.961778Z",
     "iopub.status.idle": "2021-06-21T17:51:46.975762Z",
     "shell.execute_reply": "2021-06-21T17:51:46.974980Z",
     "shell.execute_reply.started": "2021-06-21T17:51:46.962169Z"
    }
   },
   "outputs": [],
   "source": [
    "def statistics2(dataframe1,dataframe2,transaction1,transaction2):\n",
    "    p=0.05\n",
    "    test_stat, pvalue1 = shapiro(dataframe1.groupby(transaction1)[transaction2].mean())\n",
    "    test_stat, pvalue2 = shapiro(dataframe2.groupby(transaction1)[transaction2].mean())\n",
    "    test_stat, pvalue3 = levene(dataframe1.groupby(transaction1)[transaction2].mean(),\n",
    "                                dataframe2.groupby(transaction1)[transaction2].mean())\n",
    "    if pvalue1>p and pvalue2>p and pvalue3>p:\n",
    "        test_stat, pvalue4 = ttest_ind(dataframe1.groupby(transaction1)[transaction2].mean(),dataframe2.groupby(transaction1)[transaction2].mean(),equal_var=True)\n",
    "        print(f\"pvalue değeri:{pvalue4}\")\n",
    "        if pvalue4 > p:\n",
    "            print(f\"{pvalue4} bu sayı {p}'den büyüktür, H0 reddedilemez\")\n",
    "        else:\n",
    "            print(f\"{pvalue4} bu sayı {p}'den küçüktür, H0 red\")\n",
    "    elif pvalue1 > p and pvalue2 > p and pvalue3 < p:\n",
    "        test_stat, pvalue4 = ttest_ind(dataframe1.groupby(transaction1)[transaction2].mean(),dataframe2.groupby(transaction1)[transaction2].mean(), equal_var=False)\n",
    "        if pvalue4 > p:\n",
    "            print(f\"{pvalue4} bu sayı {p}'den büyüktür, H0 reddedilemez\")\n",
    "        else:\n",
    "            print(f\"{pvalue4} bu sayı {p}'den küçüktür, H0 red\")\n",
    "    elif (pvalue1>p and pvalue2<p) or (pvalue1<p and pvalue2>p) or (pvalue1<p and pvalue2<p):\n",
    "        test_stat, pvalue4 = mannwhitneyu(dataframe1.groupby(transaction1)[transaction2].mean(),\n",
    "                                          dataframe2.groupby(transaction1)[transaction2].mean())\n",
    "        if pvalue4 > p:\n",
    "            print(f\"{pvalue4} bu sayı {p}'den büyüktür, H0 reddedilemez\")\n",
    "        else:\n",
    "            print(f\"{pvalue4} bu sayı {p}'den küçüktür, H0 red\")\n"
   ]
  },
  {
   "cell_type": "markdown",
   "metadata": {},
   "source": [
    "> *  **H0:  Mevcut durumda tıklanmalara karşılık satın alım sayısının ortalaması ile değişiklik sorası tıklanmalara karşılık satın alım sayısının ortalaması arasında istatiksel olarak anlamlı bir fark yoktur.****\n",
    "> * **H1:  ...fark vardır.****"
   ]
  },
  {
   "cell_type": "code",
   "execution_count": 37,
   "metadata": {
    "execution": {
     "iopub.execute_input": "2021-06-21T17:51:46.977051Z",
     "iopub.status.busy": "2021-06-21T17:51:46.976769Z",
     "iopub.status.idle": "2021-06-21T17:51:46.996577Z",
     "shell.execute_reply": "2021-06-21T17:51:46.995524Z",
     "shell.execute_reply.started": "2021-06-21T17:51:46.977024Z"
    }
   },
   "outputs": [
    {
     "data": {
      "text/plain": [
       "Purchase   22035.76235\n",
       "dtype: float64"
      ]
     },
     "execution_count": 37,
     "metadata": {},
     "output_type": "execute_result"
    }
   ],
   "source": [
    "data.groupby(\"Click\")[[\"Purchase\"]].mean().sum()"
   ]
  },
  {
   "cell_type": "code",
   "execution_count": 38,
   "metadata": {
    "execution": {
     "iopub.execute_input": "2021-06-21T17:51:46.998560Z",
     "iopub.status.busy": "2021-06-21T17:51:46.998110Z",
     "iopub.status.idle": "2021-06-21T17:51:47.012876Z",
     "shell.execute_reply": "2021-06-21T17:51:47.011876Z",
     "shell.execute_reply.started": "2021-06-21T17:51:46.998514Z"
    }
   },
   "outputs": [
    {
     "data": {
      "text/plain": [
       "Purchase   23284.24387\n",
       "dtype: float64"
      ]
     },
     "execution_count": 38,
     "metadata": {},
     "output_type": "execute_result"
    }
   ],
   "source": [
    "data_test.groupby(\"Click\")[[\"Purchase\"]].mean().sum()"
   ]
  },
  {
   "cell_type": "markdown",
   "metadata": {},
   "source": [
    "ikisi arasında matematiksel olarak farklılık var."
   ]
  },
  {
   "cell_type": "code",
   "execution_count": 39,
   "metadata": {
    "execution": {
     "iopub.execute_input": "2021-06-21T17:51:47.016673Z",
     "iopub.status.busy": "2021-06-21T17:51:47.016298Z",
     "iopub.status.idle": "2021-06-21T17:51:47.030955Z",
     "shell.execute_reply": "2021-06-21T17:51:47.029987Z",
     "shell.execute_reply.started": "2021-06-21T17:51:47.016639Z"
    }
   },
   "outputs": [
    {
     "name": "stdout",
     "output_type": "stream",
     "text": [
      "pvalue değeri:0.34932579202108416\n",
      "0.34932579202108416 bu sayı 0.05'den büyüktür, H0 reddedilemez\n"
     ]
    }
   ],
   "source": [
    "statistics2(data,data_test,\"Click\",\"Purchase\")"
   ]
  },
  {
   "cell_type": "markdown",
   "metadata": {},
   "source": [
    "> **HER İKİ ANALİZDE DE H0 REDDEDİLEMEDİĞİNDEN ARALARINDA İSTATİKSEL OLARAK ANLAMLI BİR FARKLILIK YOKTUR DİYOR VE MEVCUT(ESKİ) YÖNTEMLE DEVAM EDİYORUZ.**"
   ]
  },
  {
   "cell_type": "code",
   "execution_count": null,
   "metadata": {},
   "outputs": [],
   "source": []
  }
 ],
 "metadata": {
  "kernelspec": {
   "display_name": "Python 3",
   "language": "python",
   "name": "python3"
  },
  "language_info": {
   "codemirror_mode": {
    "name": "ipython",
    "version": 3
   },
   "file_extension": ".py",
   "mimetype": "text/x-python",
   "name": "python",
   "nbconvert_exporter": "python",
   "pygments_lexer": "ipython3",
   "version": "3.8.12"
  }
 },
 "nbformat": 4,
 "nbformat_minor": 4
}
