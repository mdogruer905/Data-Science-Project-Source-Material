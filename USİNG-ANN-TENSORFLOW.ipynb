{
 "cells": [
  {
   "cell_type": "markdown",
   "id": "contrary-parallel",
   "metadata": {
    "papermill": {
     "duration": 0.023514,
     "end_time": "2021-07-01T16:14:35.622248",
     "exception": false,
     "start_time": "2021-07-01T16:14:35.598734",
     "status": "completed"
    },
    "tags": []
   },
   "source": [
    "<p style = \"font-size : 50px; color : #532e1c ; font-family : 'Comic Sans MS'; text-align : center; background-color : #bedcfa; border-radius: 5px 5px;\"><strong>Churn Modelling Using ANN</strong></p>\n",
    "\n",
    "### Dataset Link \n",
    "#### [Here](https://www.kaggle.com/aakash50897/churn-modellingcsv)"
   ]
  },
  {
   "cell_type": "code",
   "execution_count": 1,
   "id": "mathematical-farming",
   "metadata": {
    "execution": {
     "iopub.execute_input": "2021-07-01T16:14:35.671297Z",
     "iopub.status.busy": "2021-07-01T16:14:35.670104Z",
     "iopub.status.idle": "2021-07-01T16:14:36.620795Z",
     "shell.execute_reply": "2021-07-01T16:14:36.621379Z",
     "shell.execute_reply.started": "2021-05-20T18:51:08.041044Z"
    },
    "papermill": {
     "duration": 0.976833,
     "end_time": "2021-07-01T16:14:36.621859",
     "exception": false,
     "start_time": "2021-07-01T16:14:35.645026",
     "status": "completed"
    },
    "tags": []
   },
   "outputs": [],
   "source": [
    "# necessary imports \n",
    "\n",
    "import pandas as pd\n",
    "import numpy as np\n",
    "import matplotlib.pyplot as plt\n",
    "import seaborn as sns\n",
    "\n",
    "import warnings\n",
    "warnings.filterwarnings('ignore')\n",
    "\n",
    "plt.style.use('fivethirtyeight')\n",
    "%matplotlib inline"
   ]
  },
  {
   "cell_type": "code",
   "execution_count": 2,
   "id": "identical-supervisor",
   "metadata": {
    "execution": {
     "iopub.execute_input": "2021-07-01T16:14:36.676033Z",
     "iopub.status.busy": "2021-07-01T16:14:36.675271Z",
     "iopub.status.idle": "2021-07-01T16:14:36.784509Z",
     "shell.execute_reply": "2021-07-01T16:14:36.785052Z",
     "shell.execute_reply.started": "2021-05-20T18:51:08.052875Z"
    },
    "papermill": {
     "duration": 0.139125,
     "end_time": "2021-07-01T16:14:36.785271",
     "exception": false,
     "start_time": "2021-07-01T16:14:36.646146",
     "status": "completed"
    },
    "tags": []
   },
   "outputs": [
    {
     "data": {
      "text/html": [
       "<div>\n",
       "<style scoped>\n",
       "    .dataframe tbody tr th:only-of-type {\n",
       "        vertical-align: middle;\n",
       "    }\n",
       "\n",
       "    .dataframe tbody tr th {\n",
       "        vertical-align: top;\n",
       "    }\n",
       "\n",
       "    .dataframe thead th {\n",
       "        text-align: right;\n",
       "    }\n",
       "</style>\n",
       "<table border=\"1\" class=\"dataframe\">\n",
       "  <thead>\n",
       "    <tr style=\"text-align: right;\">\n",
       "      <th></th>\n",
       "      <th>RowNumber</th>\n",
       "      <th>CustomerId</th>\n",
       "      <th>Surname</th>\n",
       "      <th>CreditScore</th>\n",
       "      <th>Geography</th>\n",
       "      <th>Gender</th>\n",
       "      <th>Age</th>\n",
       "      <th>Tenure</th>\n",
       "      <th>Balance</th>\n",
       "      <th>NumOfProducts</th>\n",
       "      <th>HasCrCard</th>\n",
       "      <th>IsActiveMember</th>\n",
       "      <th>EstimatedSalary</th>\n",
       "      <th>Exited</th>\n",
       "    </tr>\n",
       "  </thead>\n",
       "  <tbody>\n",
       "    <tr>\n",
       "      <th>0</th>\n",
       "      <td>1</td>\n",
       "      <td>15634602</td>\n",
       "      <td>Hargrave</td>\n",
       "      <td>619</td>\n",
       "      <td>France</td>\n",
       "      <td>Female</td>\n",
       "      <td>42</td>\n",
       "      <td>2</td>\n",
       "      <td>0.00</td>\n",
       "      <td>1</td>\n",
       "      <td>1</td>\n",
       "      <td>1</td>\n",
       "      <td>101348.88</td>\n",
       "      <td>1</td>\n",
       "    </tr>\n",
       "    <tr>\n",
       "      <th>1</th>\n",
       "      <td>2</td>\n",
       "      <td>15647311</td>\n",
       "      <td>Hill</td>\n",
       "      <td>608</td>\n",
       "      <td>Spain</td>\n",
       "      <td>Female</td>\n",
       "      <td>41</td>\n",
       "      <td>1</td>\n",
       "      <td>83807.86</td>\n",
       "      <td>1</td>\n",
       "      <td>0</td>\n",
       "      <td>1</td>\n",
       "      <td>112542.58</td>\n",
       "      <td>0</td>\n",
       "    </tr>\n",
       "    <tr>\n",
       "      <th>2</th>\n",
       "      <td>3</td>\n",
       "      <td>15619304</td>\n",
       "      <td>Onio</td>\n",
       "      <td>502</td>\n",
       "      <td>France</td>\n",
       "      <td>Female</td>\n",
       "      <td>42</td>\n",
       "      <td>8</td>\n",
       "      <td>159660.80</td>\n",
       "      <td>3</td>\n",
       "      <td>1</td>\n",
       "      <td>0</td>\n",
       "      <td>113931.57</td>\n",
       "      <td>1</td>\n",
       "    </tr>\n",
       "    <tr>\n",
       "      <th>3</th>\n",
       "      <td>4</td>\n",
       "      <td>15701354</td>\n",
       "      <td>Boni</td>\n",
       "      <td>699</td>\n",
       "      <td>France</td>\n",
       "      <td>Female</td>\n",
       "      <td>39</td>\n",
       "      <td>1</td>\n",
       "      <td>0.00</td>\n",
       "      <td>2</td>\n",
       "      <td>0</td>\n",
       "      <td>0</td>\n",
       "      <td>93826.63</td>\n",
       "      <td>0</td>\n",
       "    </tr>\n",
       "    <tr>\n",
       "      <th>4</th>\n",
       "      <td>5</td>\n",
       "      <td>15737888</td>\n",
       "      <td>Mitchell</td>\n",
       "      <td>850</td>\n",
       "      <td>Spain</td>\n",
       "      <td>Female</td>\n",
       "      <td>43</td>\n",
       "      <td>2</td>\n",
       "      <td>125510.82</td>\n",
       "      <td>1</td>\n",
       "      <td>1</td>\n",
       "      <td>1</td>\n",
       "      <td>79084.10</td>\n",
       "      <td>0</td>\n",
       "    </tr>\n",
       "  </tbody>\n",
       "</table>\n",
       "</div>"
      ],
      "text/plain": [
       "   RowNumber  CustomerId   Surname  CreditScore Geography  Gender  Age  \\\n",
       "0          1    15634602  Hargrave          619    France  Female   42   \n",
       "1          2    15647311      Hill          608     Spain  Female   41   \n",
       "2          3    15619304      Onio          502    France  Female   42   \n",
       "3          4    15701354      Boni          699    France  Female   39   \n",
       "4          5    15737888  Mitchell          850     Spain  Female   43   \n",
       "\n",
       "   Tenure    Balance  NumOfProducts  HasCrCard  IsActiveMember  \\\n",
       "0       2       0.00              1          1               1   \n",
       "1       1   83807.86              1          0               1   \n",
       "2       8  159660.80              3          1               0   \n",
       "3       1       0.00              2          0               0   \n",
       "4       2  125510.82              1          1               1   \n",
       "\n",
       "   EstimatedSalary  Exited  \n",
       "0        101348.88       1  \n",
       "1        112542.58       0  \n",
       "2        113931.57       1  \n",
       "3         93826.63       0  \n",
       "4         79084.10       0  "
      ]
     },
     "execution_count": 2,
     "metadata": {},
     "output_type": "execute_result"
    }
   ],
   "source": [
    "df = pd.read_csv('../input/churn-modelling/Churn_Modelling.csv')\n",
    "df.head()"
   ]
  },
  {
   "cell_type": "code",
   "execution_count": 3,
   "id": "unknown-malaysia",
   "metadata": {
    "execution": {
     "iopub.execute_input": "2021-07-01T16:14:36.844846Z",
     "iopub.status.busy": "2021-07-01T16:14:36.844095Z",
     "iopub.status.idle": "2021-07-01T16:14:36.896250Z",
     "shell.execute_reply": "2021-07-01T16:14:36.895712Z",
     "shell.execute_reply.started": "2021-05-20T18:51:08.100138Z"
    },
    "papermill": {
     "duration": 0.086911,
     "end_time": "2021-07-01T16:14:36.896409",
     "exception": false,
     "start_time": "2021-07-01T16:14:36.809498",
     "status": "completed"
    },
    "tags": []
   },
   "outputs": [
    {
     "data": {
      "text/html": [
       "<div>\n",
       "<style scoped>\n",
       "    .dataframe tbody tr th:only-of-type {\n",
       "        vertical-align: middle;\n",
       "    }\n",
       "\n",
       "    .dataframe tbody tr th {\n",
       "        vertical-align: top;\n",
       "    }\n",
       "\n",
       "    .dataframe thead th {\n",
       "        text-align: right;\n",
       "    }\n",
       "</style>\n",
       "<table border=\"1\" class=\"dataframe\">\n",
       "  <thead>\n",
       "    <tr style=\"text-align: right;\">\n",
       "      <th></th>\n",
       "      <th>RowNumber</th>\n",
       "      <th>CustomerId</th>\n",
       "      <th>CreditScore</th>\n",
       "      <th>Age</th>\n",
       "      <th>Tenure</th>\n",
       "      <th>Balance</th>\n",
       "      <th>NumOfProducts</th>\n",
       "      <th>HasCrCard</th>\n",
       "      <th>IsActiveMember</th>\n",
       "      <th>EstimatedSalary</th>\n",
       "      <th>Exited</th>\n",
       "    </tr>\n",
       "  </thead>\n",
       "  <tbody>\n",
       "    <tr>\n",
       "      <th>count</th>\n",
       "      <td>10000.00000</td>\n",
       "      <td>1.000000e+04</td>\n",
       "      <td>10000.000000</td>\n",
       "      <td>10000.000000</td>\n",
       "      <td>10000.000000</td>\n",
       "      <td>10000.000000</td>\n",
       "      <td>10000.000000</td>\n",
       "      <td>10000.00000</td>\n",
       "      <td>10000.000000</td>\n",
       "      <td>10000.000000</td>\n",
       "      <td>10000.000000</td>\n",
       "    </tr>\n",
       "    <tr>\n",
       "      <th>mean</th>\n",
       "      <td>5000.50000</td>\n",
       "      <td>1.569094e+07</td>\n",
       "      <td>650.528800</td>\n",
       "      <td>38.921800</td>\n",
       "      <td>5.012800</td>\n",
       "      <td>76485.889288</td>\n",
       "      <td>1.530200</td>\n",
       "      <td>0.70550</td>\n",
       "      <td>0.515100</td>\n",
       "      <td>100090.239881</td>\n",
       "      <td>0.203700</td>\n",
       "    </tr>\n",
       "    <tr>\n",
       "      <th>std</th>\n",
       "      <td>2886.89568</td>\n",
       "      <td>7.193619e+04</td>\n",
       "      <td>96.653299</td>\n",
       "      <td>10.487806</td>\n",
       "      <td>2.892174</td>\n",
       "      <td>62397.405202</td>\n",
       "      <td>0.581654</td>\n",
       "      <td>0.45584</td>\n",
       "      <td>0.499797</td>\n",
       "      <td>57510.492818</td>\n",
       "      <td>0.402769</td>\n",
       "    </tr>\n",
       "    <tr>\n",
       "      <th>min</th>\n",
       "      <td>1.00000</td>\n",
       "      <td>1.556570e+07</td>\n",
       "      <td>350.000000</td>\n",
       "      <td>18.000000</td>\n",
       "      <td>0.000000</td>\n",
       "      <td>0.000000</td>\n",
       "      <td>1.000000</td>\n",
       "      <td>0.00000</td>\n",
       "      <td>0.000000</td>\n",
       "      <td>11.580000</td>\n",
       "      <td>0.000000</td>\n",
       "    </tr>\n",
       "    <tr>\n",
       "      <th>25%</th>\n",
       "      <td>2500.75000</td>\n",
       "      <td>1.562853e+07</td>\n",
       "      <td>584.000000</td>\n",
       "      <td>32.000000</td>\n",
       "      <td>3.000000</td>\n",
       "      <td>0.000000</td>\n",
       "      <td>1.000000</td>\n",
       "      <td>0.00000</td>\n",
       "      <td>0.000000</td>\n",
       "      <td>51002.110000</td>\n",
       "      <td>0.000000</td>\n",
       "    </tr>\n",
       "    <tr>\n",
       "      <th>50%</th>\n",
       "      <td>5000.50000</td>\n",
       "      <td>1.569074e+07</td>\n",
       "      <td>652.000000</td>\n",
       "      <td>37.000000</td>\n",
       "      <td>5.000000</td>\n",
       "      <td>97198.540000</td>\n",
       "      <td>1.000000</td>\n",
       "      <td>1.00000</td>\n",
       "      <td>1.000000</td>\n",
       "      <td>100193.915000</td>\n",
       "      <td>0.000000</td>\n",
       "    </tr>\n",
       "    <tr>\n",
       "      <th>75%</th>\n",
       "      <td>7500.25000</td>\n",
       "      <td>1.575323e+07</td>\n",
       "      <td>718.000000</td>\n",
       "      <td>44.000000</td>\n",
       "      <td>7.000000</td>\n",
       "      <td>127644.240000</td>\n",
       "      <td>2.000000</td>\n",
       "      <td>1.00000</td>\n",
       "      <td>1.000000</td>\n",
       "      <td>149388.247500</td>\n",
       "      <td>0.000000</td>\n",
       "    </tr>\n",
       "    <tr>\n",
       "      <th>max</th>\n",
       "      <td>10000.00000</td>\n",
       "      <td>1.581569e+07</td>\n",
       "      <td>850.000000</td>\n",
       "      <td>92.000000</td>\n",
       "      <td>10.000000</td>\n",
       "      <td>250898.090000</td>\n",
       "      <td>4.000000</td>\n",
       "      <td>1.00000</td>\n",
       "      <td>1.000000</td>\n",
       "      <td>199992.480000</td>\n",
       "      <td>1.000000</td>\n",
       "    </tr>\n",
       "  </tbody>\n",
       "</table>\n",
       "</div>"
      ],
      "text/plain": [
       "         RowNumber    CustomerId   CreditScore           Age        Tenure  \\\n",
       "count  10000.00000  1.000000e+04  10000.000000  10000.000000  10000.000000   \n",
       "mean    5000.50000  1.569094e+07    650.528800     38.921800      5.012800   \n",
       "std     2886.89568  7.193619e+04     96.653299     10.487806      2.892174   \n",
       "min        1.00000  1.556570e+07    350.000000     18.000000      0.000000   \n",
       "25%     2500.75000  1.562853e+07    584.000000     32.000000      3.000000   \n",
       "50%     5000.50000  1.569074e+07    652.000000     37.000000      5.000000   \n",
       "75%     7500.25000  1.575323e+07    718.000000     44.000000      7.000000   \n",
       "max    10000.00000  1.581569e+07    850.000000     92.000000     10.000000   \n",
       "\n",
       "             Balance  NumOfProducts    HasCrCard  IsActiveMember  \\\n",
       "count   10000.000000   10000.000000  10000.00000    10000.000000   \n",
       "mean    76485.889288       1.530200      0.70550        0.515100   \n",
       "std     62397.405202       0.581654      0.45584        0.499797   \n",
       "min         0.000000       1.000000      0.00000        0.000000   \n",
       "25%         0.000000       1.000000      0.00000        0.000000   \n",
       "50%     97198.540000       1.000000      1.00000        1.000000   \n",
       "75%    127644.240000       2.000000      1.00000        1.000000   \n",
       "max    250898.090000       4.000000      1.00000        1.000000   \n",
       "\n",
       "       EstimatedSalary        Exited  \n",
       "count     10000.000000  10000.000000  \n",
       "mean     100090.239881      0.203700  \n",
       "std       57510.492818      0.402769  \n",
       "min          11.580000      0.000000  \n",
       "25%       51002.110000      0.000000  \n",
       "50%      100193.915000      0.000000  \n",
       "75%      149388.247500      0.000000  \n",
       "max      199992.480000      1.000000  "
      ]
     },
     "execution_count": 3,
     "metadata": {},
     "output_type": "execute_result"
    }
   ],
   "source": [
    "df.describe()"
   ]
  },
  {
   "cell_type": "code",
   "execution_count": 4,
   "id": "aging-kruger",
   "metadata": {
    "execution": {
     "iopub.execute_input": "2021-07-01T16:14:36.953835Z",
     "iopub.status.busy": "2021-07-01T16:14:36.953133Z",
     "iopub.status.idle": "2021-07-01T16:14:36.970514Z",
     "shell.execute_reply": "2021-07-01T16:14:36.969790Z",
     "shell.execute_reply.started": "2021-05-20T18:51:08.149969Z"
    },
    "papermill": {
     "duration": 0.051241,
     "end_time": "2021-07-01T16:14:36.970667",
     "exception": false,
     "start_time": "2021-07-01T16:14:36.919426",
     "status": "completed"
    },
    "tags": []
   },
   "outputs": [
    {
     "name": "stdout",
     "output_type": "stream",
     "text": [
      "<class 'pandas.core.frame.DataFrame'>\n",
      "RangeIndex: 10000 entries, 0 to 9999\n",
      "Data columns (total 14 columns):\n",
      " #   Column           Non-Null Count  Dtype  \n",
      "---  ------           --------------  -----  \n",
      " 0   RowNumber        10000 non-null  int64  \n",
      " 1   CustomerId       10000 non-null  int64  \n",
      " 2   Surname          10000 non-null  object \n",
      " 3   CreditScore      10000 non-null  int64  \n",
      " 4   Geography        10000 non-null  object \n",
      " 5   Gender           10000 non-null  object \n",
      " 6   Age              10000 non-null  int64  \n",
      " 7   Tenure           10000 non-null  int64  \n",
      " 8   Balance          10000 non-null  float64\n",
      " 9   NumOfProducts    10000 non-null  int64  \n",
      " 10  HasCrCard        10000 non-null  int64  \n",
      " 11  IsActiveMember   10000 non-null  int64  \n",
      " 12  EstimatedSalary  10000 non-null  float64\n",
      " 13  Exited           10000 non-null  int64  \n",
      "dtypes: float64(2), int64(9), object(3)\n",
      "memory usage: 1.1+ MB\n"
     ]
    }
   ],
   "source": [
    "df.info()"
   ]
  },
  {
   "cell_type": "markdown",
   "id": "recreational-cocktail",
   "metadata": {
    "papermill": {
     "duration": 0.02262,
     "end_time": "2021-07-01T16:14:37.016637",
     "exception": false,
     "start_time": "2021-07-01T16:14:36.994017",
     "status": "completed"
    },
    "tags": []
   },
   "source": [
    "<p style = \"font-size : 35px; color : #34656d ; font-family : 'Comic Sans MS'; text-align : center; background-color : #f9b208; border-radius: 5px 5px;\"><strong>Exploratory Data Analysis (EDA)</strong></p> "
   ]
  },
  {
   "cell_type": "code",
   "execution_count": 5,
   "id": "protective-trunk",
   "metadata": {
    "execution": {
     "iopub.execute_input": "2021-07-01T16:14:37.078694Z",
     "iopub.status.busy": "2021-07-01T16:14:37.077648Z",
     "iopub.status.idle": "2021-07-01T16:14:37.082530Z",
     "shell.execute_reply": "2021-07-01T16:14:37.081955Z",
     "shell.execute_reply.started": "2021-05-20T18:51:08.168923Z"
    },
    "papermill": {
     "duration": 0.040742,
     "end_time": "2021-07-01T16:14:37.082708",
     "exception": false,
     "start_time": "2021-07-01T16:14:37.041966",
     "status": "completed"
    },
    "tags": []
   },
   "outputs": [
    {
     "data": {
      "text/plain": [
       "RowNumber          0\n",
       "CustomerId         0\n",
       "Surname            0\n",
       "CreditScore        0\n",
       "Geography          0\n",
       "Gender             0\n",
       "Age                0\n",
       "Tenure             0\n",
       "Balance            0\n",
       "NumOfProducts      0\n",
       "HasCrCard          0\n",
       "IsActiveMember     0\n",
       "EstimatedSalary    0\n",
       "Exited             0\n",
       "dtype: int64"
      ]
     },
     "execution_count": 5,
     "metadata": {},
     "output_type": "execute_result"
    }
   ],
   "source": [
    "# checking for null values\n",
    "\n",
    "df.isna().sum()"
   ]
  },
  {
   "cell_type": "code",
   "execution_count": 6,
   "id": "latin-decrease",
   "metadata": {
    "execution": {
     "iopub.execute_input": "2021-07-01T16:14:37.159579Z",
     "iopub.status.busy": "2021-07-01T16:14:37.149972Z",
     "iopub.status.idle": "2021-07-01T16:14:37.311191Z",
     "shell.execute_reply": "2021-07-01T16:14:37.311901Z",
     "shell.execute_reply.started": "2021-05-20T18:51:08.184805Z"
    },
    "papermill": {
     "duration": 0.204197,
     "end_time": "2021-07-01T16:14:37.312142",
     "exception": false,
     "start_time": "2021-07-01T16:14:37.107945",
     "status": "completed"
    },
    "tags": []
   },
   "outputs": [
    {
     "data": {
      "image/png": "[encoded data removed]",
      "text/plain": [
       "<Figure size 400x300 with 1 Axes>"
      ]
     },
     "metadata": {},
     "output_type": "display_data"
    }
   ],
   "source": [
    "values = df.Exited.value_counts()\n",
    "labels = ['Not Exited', 'Exited']\n",
    "\n",
    "fig, ax = plt.subplots(figsize = (4, 3), dpi = 100)\n",
    "explode = (0, 0.09)\n",
    "\n",
    "patches, texts, autotexts = ax.pie(values, labels = labels, autopct = '%1.2f%%', shadow = True,\n",
    "                                   startangle = 90, explode = explode)\n",
    "\n",
    "plt.setp(texts, color = 'grey')\n",
    "plt.setp(autotexts, size = 8, color = 'white')\n",
    "autotexts[1].set_color('black')\n",
    "plt.show()"
   ]
  },
  {
   "cell_type": "markdown",
   "id": "lightweight-simpson",
   "metadata": {
    "papermill": {
     "duration": 0.026487,
     "end_time": "2021-07-01T16:14:37.364764",
     "exception": false,
     "start_time": "2021-07-01T16:14:37.338277",
     "status": "completed"
    },
    "tags": []
   },
   "source": [
    "<p style = \"font-size : 20px; color : #34656d ; font-family : 'Comic Sans MS'; \"><strong>20% of the customers have churned and 80% haven't.</strong></p> "
   ]
  },
  {
   "cell_type": "code",
   "execution_count": 7,
   "id": "occupied-folks",
   "metadata": {
    "execution": {
     "iopub.execute_input": "2021-07-01T16:14:37.419458Z",
     "iopub.status.busy": "2021-07-01T16:14:37.418778Z",
     "iopub.status.idle": "2021-07-01T16:14:38.808871Z",
     "shell.execute_reply": "2021-07-01T16:14:38.808197Z",
     "shell.execute_reply.started": "2021-05-20T18:51:08.312962Z"
    },
    "papermill": {
     "duration": 1.419045,
     "end_time": "2021-07-01T16:14:38.809024",
     "exception": false,
     "start_time": "2021-07-01T16:14:37.389979",
     "status": "completed"
    },
    "tags": []
   },
   "outputs": [
    {
     "data": {
      "image/png": "[encoded data removed]",
      "text/plain": [
       "<Figure size 1296x1080 with 6 Axes>"
      ]
     },
     "metadata": {
      "needs_background": "light"
     },
     "output_type": "display_data"
    }
   ],
   "source": [
    "# visualizing categorical variables\n",
    "\n",
    "fig, ax = plt.subplots(3, 2, figsize = (18, 15))\n",
    "\n",
    "sns.countplot('Geography', hue = 'Exited', data = df, ax = ax[0][0])\n",
    "sns.countplot('Gender', hue = 'Exited', data = df, ax = ax[0][1])\n",
    "sns.countplot('Tenure', hue = 'Exited', data = df, ax = ax[1][0])\n",
    "sns.countplot('NumOfProducts', hue = 'Exited', data = df, ax = ax[1][1])\n",
    "sns.countplot('HasCrCard', hue = 'Exited', data = df, ax = ax[2][0])\n",
    "sns.countplot('IsActiveMember', hue = 'Exited', data = df, ax = ax[2][1])\n",
    "\n",
    "plt.tight_layout()\n",
    "plt.show()"
   ]
  },
  {
   "cell_type": "markdown",
   "id": "exempt-irrigation",
   "metadata": {
    "papermill": {
     "duration": 0.025343,
     "end_time": "2021-07-01T16:14:38.860757",
     "exception": false,
     "start_time": "2021-07-01T16:14:38.835414",
     "status": "completed"
    },
    "tags": []
   },
   "source": [
    "<p style = \"font-size : 30px; color : #4e8d7c ; font-family : 'Comic Sans MS';\"><strong>From above Plots we can conclude that:-</strong></p>\n",
    "\n",
    "<ul>\n",
    "    <li style = \"color : #03506f; font-size : 18px; font-family : 'Comic Sans MS';\"><strong>Majority of the customers are from france but most customers which churned are from germany maybe because of lack of resources as there are not many customers.</strong></li>\n",
    "    <li style = \"color : #03506f; font-size : 18px; font-family : 'Comic Sans MS';\"><strong>The proportion of female customers churning is also greater than that of female customers.</strong></li>\n",
    "    <li style = \"color : #03506f; font-size : 18px; font-family : 'Comic Sans MS';\"><strong>Majority of customers have tenure between 1 to 9 and churing rate is also high between these tenures.</strong></li>\n",
    "    <li style = \"color : #03506f; font-size : 18px; font-family : 'Comic Sans MS';\"><strong>Most of the customers have 1 or 2 products and most customers which churned are having 1 products maybe they are not satisfied so they are churning.</strong></li>\n",
    "    <li style = \"color : #03506f; font-size : 18px; font-family : 'Comic Sans MS';\"><strong>Interestingly, majority of customers that churned are those with credit cards but this can be a coincidence as majority of customers have credit cards.</strong></li>\n",
    "    <li style = \"color : #03506f; font-size : 18px; font-family : 'Comic Sans MS';\"><strong>Unsurprisingly the inactive members have a greater churn and the overall proportion of inactive members is also very high.</strong></li>\n"
   ]
  },
  {
   "cell_type": "code",
   "execution_count": 8,
   "id": "proper-revolution",
   "metadata": {
    "execution": {
     "iopub.execute_input": "2021-07-01T16:14:38.923474Z",
     "iopub.status.busy": "2021-07-01T16:14:38.922754Z",
     "iopub.status.idle": "2021-07-01T16:14:39.579062Z",
     "shell.execute_reply": "2021-07-01T16:14:39.579502Z",
     "shell.execute_reply.started": "2021-05-20T18:51:09.472033Z"
    },
    "papermill": {
     "duration": 0.692963,
     "end_time": "2021-07-01T16:14:39.579723",
     "exception": false,
     "start_time": "2021-07-01T16:14:38.886760",
     "status": "completed"
    },
    "tags": []
   },
   "outputs": [
    {
     "data": {
      "image/png": "[encoded data removed]",
      "text/plain": [
       "<Figure size 1152x720 with 4 Axes>"
      ]
     },
     "metadata": {
      "needs_background": "light"
     },
     "output_type": "display_data"
    }
   ],
   "source": [
    "# visualizing continuous variables\n",
    "\n",
    "fig, ax = plt.subplots(2, 2, figsize = (16, 10))\n",
    "\n",
    "sns.boxplot(x = 'Exited', y = 'CreditScore', data = df, ax = ax[0][0])\n",
    "sns.boxplot(x = 'Exited', y = 'Age', data = df, ax = ax[0][1])\n",
    "sns.boxplot(x = 'Exited', y = 'Balance', data = df, ax = ax[1][0])\n",
    "sns.boxplot(x = 'Exited', y = 'EstimatedSalary', data = df, ax = ax[1][1])\n",
    "\n",
    "plt.tight_layout()\n",
    "plt.show()"
   ]
  },
  {
   "cell_type": "markdown",
   "id": "diverse-disease",
   "metadata": {
    "papermill": {
     "duration": 0.026308,
     "end_time": "2021-07-01T16:14:39.633197",
     "exception": false,
     "start_time": "2021-07-01T16:14:39.606889",
     "status": "completed"
    },
    "tags": []
   },
   "source": [
    "<p style = \"font-size : 30px; color : #4e8d7c ; font-family : 'Comic Sans MS';\"><strong>From above Plots we can conclude that:-</strong></p>\n",
    "\n",
    "<ul>\n",
    "    <li style = \"color : #03506f; font-size : 18px; font-family : 'Comic Sans MS';\"><strong>There is no significant difference in credit score distribution etween custers which are churned or not.</strong></li>\n",
    "    <li style = \"color : #03506f; font-size : 18px; font-family : 'Comic Sans MS';\"><strong>The older customers are churning more than younger ones.</strong></li>\n",
    "    <li style = \"color : #03506f; font-size : 18px; font-family : 'Comic Sans MS';\"><strong>Bank is loosing customers with significant bank balance.</strong></li>\n",
    "    <li style = \"color : #03506f; font-size : 18px; font-family : 'Comic Sans MS';\"><strong>Estimated Salary does not have a significant on the likelihood to churn.</strong></li>\n",
    "    <li style = \"color : #03506f; font-size : 18px; font-family : 'Comic Sans MS';\"><strong>Interestingly, majority of customers that churned are those with credit cards but this can be a coincidence as majority of customers have credit cards.</strong></li>\n",
    "    <li style = \"color : #03506f; font-size : 18px; font-family : 'Comic Sans MS';\"><strong>Unsurprisingly the inactive members have a greater churn and the overall proportion of inactive members is also very high.</strong></li>"
   ]
  },
  {
   "cell_type": "code",
   "execution_count": 9,
   "id": "soviet-worthy",
   "metadata": {
    "execution": {
     "iopub.execute_input": "2021-07-01T16:14:39.690275Z",
     "iopub.status.busy": "2021-07-01T16:14:39.689590Z",
     "iopub.status.idle": "2021-07-01T16:14:40.545604Z",
     "shell.execute_reply": "2021-07-01T16:14:40.546113Z",
     "shell.execute_reply.started": "2021-05-20T18:51:10.10147Z"
    },
    "papermill": {
     "duration": 0.88632,
     "end_time": "2021-07-01T16:14:40.546303",
     "exception": false,
     "start_time": "2021-07-01T16:14:39.659983",
     "status": "completed"
    },
    "tags": []
   },
   "outputs": [
    {
     "data": {
      "image/png": "[encoded data removed]",
      "text/plain": [
       "<Figure size 1440x864 with 2 Axes>"
      ]
     },
     "metadata": {
      "needs_background": "light"
     },
     "output_type": "display_data"
    }
   ],
   "source": [
    "# heatmap \n",
    "\n",
    "plt.figure(figsize = (20, 12))\n",
    "\n",
    "corr = df.corr()\n",
    "\n",
    "sns.heatmap(corr, linewidths = 1, annot = True, fmt = \".2f\")\n",
    "plt.show()"
   ]
  },
  {
   "cell_type": "markdown",
   "id": "copyrighted-terrorist",
   "metadata": {
    "papermill": {
     "duration": 0.029279,
     "end_time": "2021-07-01T16:14:40.605244",
     "exception": false,
     "start_time": "2021-07-01T16:14:40.575965",
     "status": "completed"
    },
    "tags": []
   },
   "source": [
    "<p style = \"font-size : 20px; color : #34656d ; font-family : 'Comic Sans MS'; \"><strong>We can say that there is no multicolinearity present in data.</strong></p> "
   ]
  },
  {
   "cell_type": "code",
   "execution_count": 10,
   "id": "universal-buyer",
   "metadata": {
    "execution": {
     "iopub.execute_input": "2021-07-01T16:14:40.666917Z",
     "iopub.status.busy": "2021-07-01T16:14:40.666221Z",
     "iopub.status.idle": "2021-07-01T16:14:40.683669Z",
     "shell.execute_reply": "2021-07-01T16:14:40.683088Z",
     "shell.execute_reply.started": "2021-05-20T18:51:10.927646Z"
    },
    "papermill": {
     "duration": 0.049405,
     "end_time": "2021-07-01T16:14:40.683839",
     "exception": false,
     "start_time": "2021-07-01T16:14:40.634434",
     "status": "completed"
    },
    "tags": []
   },
   "outputs": [
    {
     "data": {
      "text/html": [
       "<div>\n",
       "<style scoped>\n",
       "    .dataframe tbody tr th:only-of-type {\n",
       "        vertical-align: middle;\n",
       "    }\n",
       "\n",
       "    .dataframe tbody tr th {\n",
       "        vertical-align: top;\n",
       "    }\n",
       "\n",
       "    .dataframe thead th {\n",
       "        text-align: right;\n",
       "    }\n",
       "</style>\n",
       "<table border=\"1\" class=\"dataframe\">\n",
       "  <thead>\n",
       "    <tr style=\"text-align: right;\">\n",
       "      <th></th>\n",
       "      <th>CreditScore</th>\n",
       "      <th>Geography</th>\n",
       "      <th>Gender</th>\n",
       "      <th>Age</th>\n",
       "      <th>Tenure</th>\n",
       "      <th>Balance</th>\n",
       "      <th>NumOfProducts</th>\n",
       "      <th>HasCrCard</th>\n",
       "      <th>IsActiveMember</th>\n",
       "      <th>EstimatedSalary</th>\n",
       "      <th>Exited</th>\n",
       "    </tr>\n",
       "  </thead>\n",
       "  <tbody>\n",
       "    <tr>\n",
       "      <th>0</th>\n",
       "      <td>619</td>\n",
       "      <td>France</td>\n",
       "      <td>Female</td>\n",
       "      <td>42</td>\n",
       "      <td>2</td>\n",
       "      <td>0.00</td>\n",
       "      <td>1</td>\n",
       "      <td>1</td>\n",
       "      <td>1</td>\n",
       "      <td>101348.88</td>\n",
       "      <td>1</td>\n",
       "    </tr>\n",
       "    <tr>\n",
       "      <th>1</th>\n",
       "      <td>608</td>\n",
       "      <td>Spain</td>\n",
       "      <td>Female</td>\n",
       "      <td>41</td>\n",
       "      <td>1</td>\n",
       "      <td>83807.86</td>\n",
       "      <td>1</td>\n",
       "      <td>0</td>\n",
       "      <td>1</td>\n",
       "      <td>112542.58</td>\n",
       "      <td>0</td>\n",
       "    </tr>\n",
       "    <tr>\n",
       "      <th>2</th>\n",
       "      <td>502</td>\n",
       "      <td>France</td>\n",
       "      <td>Female</td>\n",
       "      <td>42</td>\n",
       "      <td>8</td>\n",
       "      <td>159660.80</td>\n",
       "      <td>3</td>\n",
       "      <td>1</td>\n",
       "      <td>0</td>\n",
       "      <td>113931.57</td>\n",
       "      <td>1</td>\n",
       "    </tr>\n",
       "    <tr>\n",
       "      <th>3</th>\n",
       "      <td>699</td>\n",
       "      <td>France</td>\n",
       "      <td>Female</td>\n",
       "      <td>39</td>\n",
       "      <td>1</td>\n",
       "      <td>0.00</td>\n",
       "      <td>2</td>\n",
       "      <td>0</td>\n",
       "      <td>0</td>\n",
       "      <td>93826.63</td>\n",
       "      <td>0</td>\n",
       "    </tr>\n",
       "    <tr>\n",
       "      <th>4</th>\n",
       "      <td>850</td>\n",
       "      <td>Spain</td>\n",
       "      <td>Female</td>\n",
       "      <td>43</td>\n",
       "      <td>2</td>\n",
       "      <td>125510.82</td>\n",
       "      <td>1</td>\n",
       "      <td>1</td>\n",
       "      <td>1</td>\n",
       "      <td>79084.10</td>\n",
       "      <td>0</td>\n",
       "    </tr>\n",
       "  </tbody>\n",
       "</table>\n",
       "</div>"
      ],
      "text/plain": [
       "   CreditScore Geography  Gender  Age  Tenure    Balance  NumOfProducts  \\\n",
       "0          619    France  Female   42       2       0.00              1   \n",
       "1          608     Spain  Female   41       1   83807.86              1   \n",
       "2          502    France  Female   42       8  159660.80              3   \n",
       "3          699    France  Female   39       1       0.00              2   \n",
       "4          850     Spain  Female   43       2  125510.82              1   \n",
       "\n",
       "   HasCrCard  IsActiveMember  EstimatedSalary  Exited  \n",
       "0          1               1        101348.88       1  \n",
       "1          0               1        112542.58       0  \n",
       "2          1               0        113931.57       1  \n",
       "3          0               0         93826.63       0  \n",
       "4          1               1         79084.10       0  "
      ]
     },
     "execution_count": 10,
     "metadata": {},
     "output_type": "execute_result"
    }
   ],
   "source": [
    "# dropping useless columns \n",
    "\n",
    "df.drop(columns = ['RowNumber', 'CustomerId', 'Surname'], axis = 1, inplace = True)\n",
    "df.head()"
   ]
  },
  {
   "cell_type": "code",
   "execution_count": 11,
   "id": "hispanic-looking",
   "metadata": {
    "execution": {
     "iopub.execute_input": "2021-07-01T16:14:40.747814Z",
     "iopub.status.busy": "2021-07-01T16:14:40.747137Z",
     "iopub.status.idle": "2021-07-01T16:14:40.755857Z",
     "shell.execute_reply": "2021-07-01T16:14:40.756294Z",
     "shell.execute_reply.started": "2021-05-20T18:51:10.946217Z"
    },
    "papermill": {
     "duration": 0.042791,
     "end_time": "2021-07-01T16:14:40.756491",
     "exception": false,
     "start_time": "2021-07-01T16:14:40.713700",
     "status": "completed"
    },
    "tags": []
   },
   "outputs": [
    {
     "data": {
      "text/plain": [
       "France     5014\n",
       "Germany    2509\n",
       "Spain      2477\n",
       "Name: Geography, dtype: int64"
      ]
     },
     "execution_count": 11,
     "metadata": {},
     "output_type": "execute_result"
    }
   ],
   "source": [
    "df.Geography.value_counts()"
   ]
  },
  {
   "cell_type": "code",
   "execution_count": 12,
   "id": "suburban-helmet",
   "metadata": {
    "execution": {
     "iopub.execute_input": "2021-07-01T16:14:40.820402Z",
     "iopub.status.busy": "2021-07-01T16:14:40.819791Z",
     "iopub.status.idle": "2021-07-01T16:14:40.829403Z",
     "shell.execute_reply": "2021-07-01T16:14:40.829959Z",
     "shell.execute_reply.started": "2021-05-20T18:51:10.962931Z"
    },
    "papermill": {
     "duration": 0.043675,
     "end_time": "2021-07-01T16:14:40.830169",
     "exception": false,
     "start_time": "2021-07-01T16:14:40.786494",
     "status": "completed"
    },
    "tags": []
   },
   "outputs": [],
   "source": [
    "# Encoding categorical variables\n",
    "\n",
    "df['Geography'] = df['Geography'].map({'France' : 0, 'Germany' : 1, 'Spain' : 2})\n",
    "df['Gender'] = df['Gender'].map({'Male' : 0, 'Female' : 1})"
   ]
  },
  {
   "cell_type": "code",
   "execution_count": 13,
   "id": "naked-penetration",
   "metadata": {
    "execution": {
     "iopub.execute_input": "2021-07-01T16:14:40.897183Z",
     "iopub.status.busy": "2021-07-01T16:14:40.896443Z",
     "iopub.status.idle": "2021-07-01T16:14:40.911748Z",
     "shell.execute_reply": "2021-07-01T16:14:40.911155Z",
     "shell.execute_reply.started": "2021-05-20T18:51:10.979493Z"
    },
    "papermill": {
     "duration": 0.051664,
     "end_time": "2021-07-01T16:14:40.911901",
     "exception": false,
     "start_time": "2021-07-01T16:14:40.860237",
     "status": "completed"
    },
    "tags": []
   },
   "outputs": [
    {
     "data": {
      "text/html": [
       "<div>\n",
       "<style scoped>\n",
       "    .dataframe tbody tr th:only-of-type {\n",
       "        vertical-align: middle;\n",
       "    }\n",
       "\n",
       "    .dataframe tbody tr th {\n",
       "        vertical-align: top;\n",
       "    }\n",
       "\n",
       "    .dataframe thead th {\n",
       "        text-align: right;\n",
       "    }\n",
       "</style>\n",
       "<table border=\"1\" class=\"dataframe\">\n",
       "  <thead>\n",
       "    <tr style=\"text-align: right;\">\n",
       "      <th></th>\n",
       "      <th>CreditScore</th>\n",
       "      <th>Geography</th>\n",
       "      <th>Gender</th>\n",
       "      <th>Age</th>\n",
       "      <th>Tenure</th>\n",
       "      <th>Balance</th>\n",
       "      <th>NumOfProducts</th>\n",
       "      <th>HasCrCard</th>\n",
       "      <th>IsActiveMember</th>\n",
       "      <th>EstimatedSalary</th>\n",
       "      <th>Exited</th>\n",
       "    </tr>\n",
       "  </thead>\n",
       "  <tbody>\n",
       "    <tr>\n",
       "      <th>0</th>\n",
       "      <td>619</td>\n",
       "      <td>0</td>\n",
       "      <td>1</td>\n",
       "      <td>42</td>\n",
       "      <td>2</td>\n",
       "      <td>0.00</td>\n",
       "      <td>1</td>\n",
       "      <td>1</td>\n",
       "      <td>1</td>\n",
       "      <td>101348.88</td>\n",
       "      <td>1</td>\n",
       "    </tr>\n",
       "    <tr>\n",
       "      <th>1</th>\n",
       "      <td>608</td>\n",
       "      <td>2</td>\n",
       "      <td>1</td>\n",
       "      <td>41</td>\n",
       "      <td>1</td>\n",
       "      <td>83807.86</td>\n",
       "      <td>1</td>\n",
       "      <td>0</td>\n",
       "      <td>1</td>\n",
       "      <td>112542.58</td>\n",
       "      <td>0</td>\n",
       "    </tr>\n",
       "    <tr>\n",
       "      <th>2</th>\n",
       "      <td>502</td>\n",
       "      <td>0</td>\n",
       "      <td>1</td>\n",
       "      <td>42</td>\n",
       "      <td>8</td>\n",
       "      <td>159660.80</td>\n",
       "      <td>3</td>\n",
       "      <td>1</td>\n",
       "      <td>0</td>\n",
       "      <td>113931.57</td>\n",
       "      <td>1</td>\n",
       "    </tr>\n",
       "    <tr>\n",
       "      <th>3</th>\n",
       "      <td>699</td>\n",
       "      <td>0</td>\n",
       "      <td>1</td>\n",
       "      <td>39</td>\n",
       "      <td>1</td>\n",
       "      <td>0.00</td>\n",
       "      <td>2</td>\n",
       "      <td>0</td>\n",
       "      <td>0</td>\n",
       "      <td>93826.63</td>\n",
       "      <td>0</td>\n",
       "    </tr>\n",
       "    <tr>\n",
       "      <th>4</th>\n",
       "      <td>850</td>\n",
       "      <td>2</td>\n",
       "      <td>1</td>\n",
       "      <td>43</td>\n",
       "      <td>2</td>\n",
       "      <td>125510.82</td>\n",
       "      <td>1</td>\n",
       "      <td>1</td>\n",
       "      <td>1</td>\n",
       "      <td>79084.10</td>\n",
       "      <td>0</td>\n",
       "    </tr>\n",
       "  </tbody>\n",
       "</table>\n",
       "</div>"
      ],
      "text/plain": [
       "   CreditScore  Geography  Gender  Age  Tenure    Balance  NumOfProducts  \\\n",
       "0          619          0       1   42       2       0.00              1   \n",
       "1          608          2       1   41       1   83807.86              1   \n",
       "2          502          0       1   42       8  159660.80              3   \n",
       "3          699          0       1   39       1       0.00              2   \n",
       "4          850          2       1   43       2  125510.82              1   \n",
       "\n",
       "   HasCrCard  IsActiveMember  EstimatedSalary  Exited  \n",
       "0          1               1        101348.88       1  \n",
       "1          0               1        112542.58       0  \n",
       "2          1               0        113931.57       1  \n",
       "3          0               0         93826.63       0  \n",
       "4          1               1         79084.10       0  "
      ]
     },
     "execution_count": 13,
     "metadata": {},
     "output_type": "execute_result"
    }
   ],
   "source": [
    "df.head()"
   ]
  },
  {
   "cell_type": "code",
   "execution_count": 14,
   "id": "russian-creek",
   "metadata": {
    "execution": {
     "iopub.execute_input": "2021-07-01T16:14:40.977574Z",
     "iopub.status.busy": "2021-07-01T16:14:40.976543Z",
     "iopub.status.idle": "2021-07-01T16:14:47.446057Z",
     "shell.execute_reply": "2021-07-01T16:14:47.445294Z",
     "shell.execute_reply.started": "2021-05-20T18:51:37.308644Z"
    },
    "papermill": {
     "duration": 6.503447,
     "end_time": "2021-07-01T16:14:47.446233",
     "exception": false,
     "start_time": "2021-07-01T16:14:40.942786",
     "status": "completed"
    },
    "tags": []
   },
   "outputs": [],
   "source": [
    "# creating features and label \n",
    "\n",
    "from tensorflow.keras.utils import to_categorical\n",
    "\n",
    "X = df.drop('Exited', axis = 1)\n",
    "y = to_categorical(df.Exited)"
   ]
  },
  {
   "cell_type": "code",
   "execution_count": 15,
   "id": "declared-shooting",
   "metadata": {
    "execution": {
     "iopub.execute_input": "2021-07-01T16:14:47.526549Z",
     "iopub.status.busy": "2021-07-01T16:14:47.525547Z",
     "iopub.status.idle": "2021-07-01T16:14:47.784342Z",
     "shell.execute_reply": "2021-07-01T16:14:47.783589Z",
     "shell.execute_reply.started": "2021-05-20T18:51:40.046952Z"
    },
    "papermill": {
     "duration": 0.301846,
     "end_time": "2021-07-01T16:14:47.784502",
     "exception": false,
     "start_time": "2021-07-01T16:14:47.482656",
     "status": "completed"
    },
    "tags": []
   },
   "outputs": [],
   "source": [
    "# splitting data into training set and test set\n",
    "\n",
    "from sklearn.model_selection import train_test_split\n",
    "\n",
    "X_train, X_test, y_train, y_test = train_test_split(X, y, test_size = 0.25)"
   ]
  },
  {
   "cell_type": "code",
   "execution_count": 16,
   "id": "local-wrestling",
   "metadata": {
    "execution": {
     "iopub.execute_input": "2021-07-01T16:14:47.862404Z",
     "iopub.status.busy": "2021-07-01T16:14:47.861076Z",
     "iopub.status.idle": "2021-07-01T16:14:47.872231Z",
     "shell.execute_reply": "2021-07-01T16:14:47.872745Z",
     "shell.execute_reply.started": "2021-05-20T18:51:41.088693Z"
    },
    "papermill": {
     "duration": 0.053566,
     "end_time": "2021-07-01T16:14:47.872965",
     "exception": false,
     "start_time": "2021-07-01T16:14:47.819399",
     "status": "completed"
    },
    "tags": []
   },
   "outputs": [],
   "source": [
    "# Scaling data\n",
    "\n",
    "from sklearn.preprocessing import StandardScaler\n",
    "\n",
    "sc = StandardScaler()\n",
    "X_train = sc.fit_transform(X_train)\n",
    "X_test = sc.transform(X_test)"
   ]
  },
  {
   "cell_type": "markdown",
   "id": "athletic-fountain",
   "metadata": {
    "papermill": {
     "duration": 0.033978,
     "end_time": "2021-07-01T16:14:47.941113",
     "exception": false,
     "start_time": "2021-07-01T16:14:47.907135",
     "status": "completed"
    },
    "tags": []
   },
   "source": [
    "<p style = \"font-size : 35px; color : #34656d ; font-family : 'Comic Sans MS'; text-align : center; background-color : #f9b208; border-radius: 5px 5px;\"><strong>Building ANN </strong></p> "
   ]
  },
  {
   "cell_type": "code",
   "execution_count": 17,
   "id": "lesbian-cornwall",
   "metadata": {
    "execution": {
     "iopub.execute_input": "2021-07-01T16:14:48.021372Z",
     "iopub.status.busy": "2021-07-01T16:14:48.020367Z",
     "iopub.status.idle": "2021-07-01T16:15:31.153394Z",
     "shell.execute_reply": "2021-07-01T16:15:31.152412Z",
     "shell.execute_reply.started": "2021-05-20T19:08:57.191248Z"
    },
    "papermill": {
     "duration": 43.18063,
     "end_time": "2021-07-01T16:15:31.153601",
     "exception": false,
     "start_time": "2021-07-01T16:14:47.972971",
     "status": "completed"
    },
    "tags": []
   },
   "outputs": [
    {
     "name": "stdout",
     "output_type": "stream",
     "text": [
      "Epoch 1/100\n",
      "188/188 [==============================] - 2s 7ms/step - loss: 0.6629 - accuracy: 0.6420 - val_loss: 0.5826 - val_accuracy: 0.7960\n",
      "Epoch 2/100\n",
      "188/188 [==============================] - 0s 2ms/step - loss: 0.5182 - accuracy: 0.7615 - val_loss: 0.4602 - val_accuracy: 0.7993\n",
      "Epoch 3/100\n",
      "188/188 [==============================] - 0s 2ms/step - loss: 0.4109 - accuracy: 0.8271 - val_loss: 0.3974 - val_accuracy: 0.8307\n",
      "Epoch 4/100\n",
      "188/188 [==============================] - 0s 2ms/step - loss: 0.3913 - accuracy: 0.8352 - val_loss: 0.3783 - val_accuracy: 0.8460\n",
      "Epoch 5/100\n",
      "188/188 [==============================] - 0s 2ms/step - loss: 0.3716 - accuracy: 0.8454 - val_loss: 0.3741 - val_accuracy: 0.8473\n",
      "Epoch 6/100\n",
      "188/188 [==============================] - 0s 2ms/step - loss: 0.3768 - accuracy: 0.8444 - val_loss: 0.3754 - val_accuracy: 0.8473\n",
      "Epoch 7/100\n",
      "188/188 [==============================] - 0s 2ms/step - loss: 0.3720 - accuracy: 0.8484 - val_loss: 0.3720 - val_accuracy: 0.8513\n",
      "Epoch 8/100\n",
      "188/188 [==============================] - 0s 2ms/step - loss: 0.3909 - accuracy: 0.8393 - val_loss: 0.3735 - val_accuracy: 0.8507\n",
      "Epoch 9/100\n",
      "188/188 [==============================] - 0s 2ms/step - loss: 0.3609 - accuracy: 0.8485 - val_loss: 0.3689 - val_accuracy: 0.8533\n",
      "Epoch 10/100\n",
      "188/188 [==============================] - 0s 2ms/step - loss: 0.3657 - accuracy: 0.8480 - val_loss: 0.3718 - val_accuracy: 0.8473\n",
      "Epoch 11/100\n",
      "188/188 [==============================] - 0s 2ms/step - loss: 0.3641 - accuracy: 0.8496 - val_loss: 0.3697 - val_accuracy: 0.8447\n",
      "Epoch 12/100\n",
      "188/188 [==============================] - 0s 2ms/step - loss: 0.3841 - accuracy: 0.8296 - val_loss: 0.3718 - val_accuracy: 0.8467\n",
      "Epoch 13/100\n",
      "188/188 [==============================] - 0s 2ms/step - loss: 0.3625 - accuracy: 0.8544 - val_loss: 0.3695 - val_accuracy: 0.8540\n",
      "Epoch 14/100\n",
      "188/188 [==============================] - 0s 2ms/step - loss: 0.3543 - accuracy: 0.8565 - val_loss: 0.3685 - val_accuracy: 0.8473\n",
      "Epoch 15/100\n",
      "188/188 [==============================] - 0s 2ms/step - loss: 0.3662 - accuracy: 0.8493 - val_loss: 0.3610 - val_accuracy: 0.8553\n",
      "Epoch 16/100\n",
      "188/188 [==============================] - 0s 2ms/step - loss: 0.3677 - accuracy: 0.8474 - val_loss: 0.3718 - val_accuracy: 0.8460\n",
      "Epoch 17/100\n",
      "188/188 [==============================] - 0s 2ms/step - loss: 0.3716 - accuracy: 0.8404 - val_loss: 0.3652 - val_accuracy: 0.8533\n",
      "Epoch 18/100\n",
      "188/188 [==============================] - 0s 2ms/step - loss: 0.3603 - accuracy: 0.8564 - val_loss: 0.3713 - val_accuracy: 0.8440\n",
      "Epoch 19/100\n",
      "188/188 [==============================] - 0s 2ms/step - loss: 0.3597 - accuracy: 0.8571 - val_loss: 0.3708 - val_accuracy: 0.8467\n",
      "Epoch 20/100\n",
      "188/188 [==============================] - 0s 2ms/step - loss: 0.3619 - accuracy: 0.8505 - val_loss: 0.3625 - val_accuracy: 0.8533\n",
      "Epoch 21/100\n",
      "188/188 [==============================] - 0s 2ms/step - loss: 0.3699 - accuracy: 0.8484 - val_loss: 0.3672 - val_accuracy: 0.8480\n",
      "Epoch 22/100\n",
      "188/188 [==============================] - 0s 2ms/step - loss: 0.3734 - accuracy: 0.8429 - val_loss: 0.3640 - val_accuracy: 0.8533\n",
      "Epoch 23/100\n",
      "188/188 [==============================] - 1s 3ms/step - loss: 0.3544 - accuracy: 0.8523 - val_loss: 0.3631 - val_accuracy: 0.8513\n",
      "Epoch 24/100\n",
      "188/188 [==============================] - 0s 2ms/step - loss: 0.3671 - accuracy: 0.8494 - val_loss: 0.3690 - val_accuracy: 0.8493\n",
      "Epoch 25/100\n",
      "188/188 [==============================] - 0s 2ms/step - loss: 0.3669 - accuracy: 0.8509 - val_loss: 0.3612 - val_accuracy: 0.8567\n",
      "Epoch 26/100\n",
      "188/188 [==============================] - 0s 3ms/step - loss: 0.3519 - accuracy: 0.8557 - val_loss: 0.3609 - val_accuracy: 0.8533\n",
      "Epoch 27/100\n",
      "188/188 [==============================] - 0s 3ms/step - loss: 0.3585 - accuracy: 0.8530 - val_loss: 0.3618 - val_accuracy: 0.8527\n",
      "Epoch 28/100\n",
      "188/188 [==============================] - 0s 3ms/step - loss: 0.3782 - accuracy: 0.8446 - val_loss: 0.3597 - val_accuracy: 0.8567\n",
      "Epoch 29/100\n",
      "188/188 [==============================] - 0s 2ms/step - loss: 0.3590 - accuracy: 0.8564 - val_loss: 0.3625 - val_accuracy: 0.8520\n",
      "Epoch 30/100\n",
      "188/188 [==============================] - 0s 2ms/step - loss: 0.3667 - accuracy: 0.8419 - val_loss: 0.3654 - val_accuracy: 0.8533\n",
      "Epoch 31/100\n",
      "188/188 [==============================] - 0s 2ms/step - loss: 0.3564 - accuracy: 0.8576 - val_loss: 0.3655 - val_accuracy: 0.8520\n",
      "Epoch 32/100\n",
      "188/188 [==============================] - 0s 3ms/step - loss: 0.3623 - accuracy: 0.8470 - val_loss: 0.3618 - val_accuracy: 0.8553\n",
      "Epoch 33/100\n",
      "188/188 [==============================] - 1s 3ms/step - loss: 0.3638 - accuracy: 0.8441 - val_loss: 0.3618 - val_accuracy: 0.8540\n",
      "Epoch 34/100\n",
      "188/188 [==============================] - 0s 2ms/step - loss: 0.3561 - accuracy: 0.8500 - val_loss: 0.3671 - val_accuracy: 0.8507\n",
      "Epoch 35/100\n",
      "188/188 [==============================] - 0s 3ms/step - loss: 0.3614 - accuracy: 0.8553 - val_loss: 0.3624 - val_accuracy: 0.8520\n",
      "Epoch 36/100\n",
      "188/188 [==============================] - 0s 3ms/step - loss: 0.3590 - accuracy: 0.8529 - val_loss: 0.3603 - val_accuracy: 0.8553\n",
      "Epoch 37/100\n",
      "188/188 [==============================] - 0s 2ms/step - loss: 0.3569 - accuracy: 0.8544 - val_loss: 0.3608 - val_accuracy: 0.8567\n",
      "Epoch 38/100\n",
      "188/188 [==============================] - 0s 2ms/step - loss: 0.3526 - accuracy: 0.8546 - val_loss: 0.3629 - val_accuracy: 0.8540\n",
      "Epoch 39/100\n",
      "188/188 [==============================] - 0s 3ms/step - loss: 0.3676 - accuracy: 0.8497 - val_loss: 0.3663 - val_accuracy: 0.8493\n",
      "Epoch 40/100\n",
      "188/188 [==============================] - 0s 2ms/step - loss: 0.3654 - accuracy: 0.8503 - val_loss: 0.3673 - val_accuracy: 0.8540\n",
      "Epoch 41/100\n",
      "188/188 [==============================] - 0s 2ms/step - loss: 0.3608 - accuracy: 0.8524 - val_loss: 0.3629 - val_accuracy: 0.8607\n",
      "Epoch 42/100\n",
      "188/188 [==============================] - 0s 3ms/step - loss: 0.3641 - accuracy: 0.8493 - val_loss: 0.3662 - val_accuracy: 0.8513\n",
      "Epoch 43/100\n",
      "188/188 [==============================] - 1s 3ms/step - loss: 0.3606 - accuracy: 0.8477 - val_loss: 0.3643 - val_accuracy: 0.8507\n",
      "Epoch 44/100\n",
      "188/188 [==============================] - 0s 3ms/step - loss: 0.3612 - accuracy: 0.8456 - val_loss: 0.3637 - val_accuracy: 0.8507\n",
      "Epoch 45/100\n",
      "188/188 [==============================] - 1s 3ms/step - loss: 0.3637 - accuracy: 0.8504 - val_loss: 0.3619 - val_accuracy: 0.8553\n",
      "Epoch 46/100\n",
      "188/188 [==============================] - 0s 3ms/step - loss: 0.3544 - accuracy: 0.8594 - val_loss: 0.3668 - val_accuracy: 0.8467\n",
      "Epoch 47/100\n",
      "188/188 [==============================] - 0s 2ms/step - loss: 0.3485 - accuracy: 0.8567 - val_loss: 0.3624 - val_accuracy: 0.8533\n",
      "Epoch 48/100\n",
      "188/188 [==============================] - 0s 2ms/step - loss: 0.3673 - accuracy: 0.8460 - val_loss: 0.3658 - val_accuracy: 0.8533\n",
      "Epoch 49/100\n",
      "188/188 [==============================] - 0s 2ms/step - loss: 0.3662 - accuracy: 0.8487 - val_loss: 0.3659 - val_accuracy: 0.8533\n",
      "Epoch 50/100\n",
      "188/188 [==============================] - 0s 2ms/step - loss: 0.3640 - accuracy: 0.8423 - val_loss: 0.3595 - val_accuracy: 0.8560\n",
      "Epoch 51/100\n",
      "188/188 [==============================] - 0s 2ms/step - loss: 0.3723 - accuracy: 0.8430 - val_loss: 0.3617 - val_accuracy: 0.8560\n",
      "Epoch 52/100\n",
      "188/188 [==============================] - 0s 2ms/step - loss: 0.3552 - accuracy: 0.8544 - val_loss: 0.3651 - val_accuracy: 0.8533\n",
      "Epoch 53/100\n",
      "188/188 [==============================] - 0s 2ms/step - loss: 0.3696 - accuracy: 0.8454 - val_loss: 0.3629 - val_accuracy: 0.8587\n",
      "Epoch 54/100\n",
      "188/188 [==============================] - 0s 2ms/step - loss: 0.3531 - accuracy: 0.8544 - val_loss: 0.3620 - val_accuracy: 0.8587\n",
      "Epoch 55/100\n",
      "188/188 [==============================] - 0s 2ms/step - loss: 0.3586 - accuracy: 0.8544 - val_loss: 0.3637 - val_accuracy: 0.8540\n",
      "Epoch 56/100\n",
      "188/188 [==============================] - 0s 2ms/step - loss: 0.3477 - accuracy: 0.8548 - val_loss: 0.3658 - val_accuracy: 0.8567\n",
      "Epoch 57/100\n",
      "188/188 [==============================] - 0s 2ms/step - loss: 0.3526 - accuracy: 0.8524 - val_loss: 0.3642 - val_accuracy: 0.8600\n",
      "Epoch 58/100\n",
      "188/188 [==============================] - 0s 2ms/step - loss: 0.3480 - accuracy: 0.8520 - val_loss: 0.3645 - val_accuracy: 0.8553\n",
      "Epoch 59/100\n",
      "188/188 [==============================] - 0s 2ms/step - loss: 0.3597 - accuracy: 0.8520 - val_loss: 0.3609 - val_accuracy: 0.8620\n",
      "Epoch 60/100\n",
      "188/188 [==============================] - 0s 2ms/step - loss: 0.3521 - accuracy: 0.8557 - val_loss: 0.3592 - val_accuracy: 0.8620\n",
      "Epoch 61/100\n",
      "188/188 [==============================] - 0s 2ms/step - loss: 0.3494 - accuracy: 0.8571 - val_loss: 0.3655 - val_accuracy: 0.8560\n",
      "Epoch 62/100\n",
      "188/188 [==============================] - 0s 2ms/step - loss: 0.3706 - accuracy: 0.8425 - val_loss: 0.3672 - val_accuracy: 0.8507\n",
      "Epoch 63/100\n",
      "188/188 [==============================] - 0s 2ms/step - loss: 0.3715 - accuracy: 0.8417 - val_loss: 0.3647 - val_accuracy: 0.8560\n",
      "Epoch 64/100\n",
      "188/188 [==============================] - 0s 2ms/step - loss: 0.3667 - accuracy: 0.8491 - val_loss: 0.3588 - val_accuracy: 0.8587\n",
      "Epoch 65/100\n",
      "188/188 [==============================] - 0s 2ms/step - loss: 0.3655 - accuracy: 0.8479 - val_loss: 0.3618 - val_accuracy: 0.8540\n",
      "Epoch 66/100\n",
      "188/188 [==============================] - 0s 2ms/step - loss: 0.3653 - accuracy: 0.8413 - val_loss: 0.3656 - val_accuracy: 0.8560\n",
      "Epoch 67/100\n",
      "188/188 [==============================] - 0s 2ms/step - loss: 0.3587 - accuracy: 0.8526 - val_loss: 0.3612 - val_accuracy: 0.8540\n",
      "Epoch 68/100\n",
      "188/188 [==============================] - 0s 2ms/step - loss: 0.3544 - accuracy: 0.8533 - val_loss: 0.3623 - val_accuracy: 0.8560\n",
      "Epoch 69/100\n",
      "188/188 [==============================] - 0s 3ms/step - loss: 0.3658 - accuracy: 0.8473 - val_loss: 0.3607 - val_accuracy: 0.8553\n",
      "Epoch 70/100\n",
      "188/188 [==============================] - 0s 3ms/step - loss: 0.3488 - accuracy: 0.8578 - val_loss: 0.3626 - val_accuracy: 0.8567\n",
      "Epoch 71/100\n",
      "188/188 [==============================] - 0s 3ms/step - loss: 0.3601 - accuracy: 0.8503 - val_loss: 0.3593 - val_accuracy: 0.8600\n",
      "Epoch 72/100\n",
      "188/188 [==============================] - 0s 3ms/step - loss: 0.3515 - accuracy: 0.8593 - val_loss: 0.3606 - val_accuracy: 0.8547\n",
      "Epoch 73/100\n",
      "188/188 [==============================] - 0s 3ms/step - loss: 0.3542 - accuracy: 0.8529 - val_loss: 0.3620 - val_accuracy: 0.8560\n",
      "Epoch 74/100\n",
      "188/188 [==============================] - 0s 3ms/step - loss: 0.3732 - accuracy: 0.8435 - val_loss: 0.3637 - val_accuracy: 0.8520\n",
      "Epoch 75/100\n",
      "188/188 [==============================] - 0s 2ms/step - loss: 0.3690 - accuracy: 0.8448 - val_loss: 0.3654 - val_accuracy: 0.8547\n",
      "Epoch 76/100\n",
      "188/188 [==============================] - 0s 2ms/step - loss: 0.3589 - accuracy: 0.8511 - val_loss: 0.3616 - val_accuracy: 0.8500\n",
      "Epoch 77/100\n",
      "188/188 [==============================] - 0s 2ms/step - loss: 0.3435 - accuracy: 0.8626 - val_loss: 0.3567 - val_accuracy: 0.8627\n",
      "Epoch 78/100\n",
      "188/188 [==============================] - 0s 2ms/step - loss: 0.3688 - accuracy: 0.8421 - val_loss: 0.3582 - val_accuracy: 0.8620\n",
      "Epoch 79/100\n",
      "188/188 [==============================] - 0s 2ms/step - loss: 0.3510 - accuracy: 0.8621 - val_loss: 0.3624 - val_accuracy: 0.8533\n",
      "Epoch 80/100\n",
      "188/188 [==============================] - 0s 2ms/step - loss: 0.3507 - accuracy: 0.8594 - val_loss: 0.3643 - val_accuracy: 0.8520\n",
      "Epoch 81/100\n",
      "188/188 [==============================] - 0s 2ms/step - loss: 0.3464 - accuracy: 0.8500 - val_loss: 0.3697 - val_accuracy: 0.8480\n",
      "Epoch 82/100\n",
      "188/188 [==============================] - 0s 2ms/step - loss: 0.3529 - accuracy: 0.8526 - val_loss: 0.3629 - val_accuracy: 0.8567\n",
      "Epoch 83/100\n",
      "188/188 [==============================] - 0s 2ms/step - loss: 0.3604 - accuracy: 0.8506 - val_loss: 0.3599 - val_accuracy: 0.8567\n",
      "Epoch 84/100\n",
      "188/188 [==============================] - 0s 2ms/step - loss: 0.3574 - accuracy: 0.8506 - val_loss: 0.3627 - val_accuracy: 0.8553\n",
      "Epoch 85/100\n",
      "188/188 [==============================] - 0s 2ms/step - loss: 0.3529 - accuracy: 0.8546 - val_loss: 0.3634 - val_accuracy: 0.8540\n",
      "Epoch 86/100\n",
      "188/188 [==============================] - 0s 2ms/step - loss: 0.3518 - accuracy: 0.8560 - val_loss: 0.3608 - val_accuracy: 0.8580\n",
      "Epoch 87/100\n",
      "188/188 [==============================] - 0s 2ms/step - loss: 0.3657 - accuracy: 0.8464 - val_loss: 0.3635 - val_accuracy: 0.8540\n",
      "Epoch 88/100\n",
      "188/188 [==============================] - 0s 2ms/step - loss: 0.3686 - accuracy: 0.8427 - val_loss: 0.3638 - val_accuracy: 0.8553\n",
      "Epoch 89/100\n",
      "188/188 [==============================] - 0s 2ms/step - loss: 0.3554 - accuracy: 0.8517 - val_loss: 0.3653 - val_accuracy: 0.8520\n",
      "Epoch 90/100\n",
      "188/188 [==============================] - 0s 2ms/step - loss: 0.3410 - accuracy: 0.8576 - val_loss: 0.3639 - val_accuracy: 0.8513\n",
      "Epoch 91/100\n",
      "188/188 [==============================] - 0s 2ms/step - loss: 0.3676 - accuracy: 0.8415 - val_loss: 0.3640 - val_accuracy: 0.8533\n",
      "Epoch 92/100\n",
      "188/188 [==============================] - 0s 2ms/step - loss: 0.3692 - accuracy: 0.8441 - val_loss: 0.3657 - val_accuracy: 0.8533\n",
      "Epoch 93/100\n",
      "188/188 [==============================] - 0s 2ms/step - loss: 0.3523 - accuracy: 0.8571 - val_loss: 0.3654 - val_accuracy: 0.8560\n",
      "Epoch 94/100\n",
      "188/188 [==============================] - 0s 2ms/step - loss: 0.3593 - accuracy: 0.8514 - val_loss: 0.3659 - val_accuracy: 0.8553\n",
      "Epoch 95/100\n",
      "188/188 [==============================] - 0s 2ms/step - loss: 0.3501 - accuracy: 0.8544 - val_loss: 0.3625 - val_accuracy: 0.8547\n",
      "Epoch 96/100\n",
      "188/188 [==============================] - 0s 2ms/step - loss: 0.3774 - accuracy: 0.8381 - val_loss: 0.3641 - val_accuracy: 0.8533\n",
      "Epoch 97/100\n",
      "188/188 [==============================] - 0s 2ms/step - loss: 0.3560 - accuracy: 0.8500 - val_loss: 0.3663 - val_accuracy: 0.8507\n",
      "Epoch 98/100\n",
      "188/188 [==============================] - 0s 2ms/step - loss: 0.3683 - accuracy: 0.8524 - val_loss: 0.3661 - val_accuracy: 0.8500\n",
      "Epoch 99/100\n",
      "188/188 [==============================] - 0s 2ms/step - loss: 0.3647 - accuracy: 0.8464 - val_loss: 0.3682 - val_accuracy: 0.8533\n",
      "Epoch 100/100\n",
      "188/188 [==============================] - 0s 2ms/step - loss: 0.3562 - accuracy: 0.8518 - val_loss: 0.3636 - val_accuracy: 0.8507\n"
     ]
    }
   ],
   "source": [
    "import keras\n",
    "from keras.models import Sequential\n",
    "from keras.layers import Dense\n",
    "from keras.layers import Dropout\n",
    "from keras.layers import BatchNormalization\n",
    "\n",
    "# initializing ann\n",
    "model = Sequential()\n",
    "\n",
    "# adding the first input layer and the first hidden layer\n",
    "model.add(Dense(10, kernel_initializer = 'normal', activation = 'relu', input_shape = (10, )))\n",
    "\n",
    "# adding batch normalization and dropout layer\n",
    "model.add(Dropout(rate = 0.1))\n",
    "model.add(BatchNormalization())\n",
    "\n",
    "# adding the third hidden layer\n",
    "model.add(Dense(7, kernel_initializer = 'normal', activation = 'relu'))\n",
    "\n",
    "# adding batch normalization and dropout layer\n",
    "model.add(Dropout(rate = 0.1))\n",
    "model.add(BatchNormalization())\n",
    "\n",
    "# adding the output layer\n",
    "model.add(Dense(2, kernel_initializer = 'normal', activation = 'sigmoid'))\n",
    "\n",
    "# compiling the model\n",
    "model.compile(optimizer = 'adam', loss = 'binary_crossentropy', metrics = ['accuracy'])\n",
    "\n",
    "# fitting the model to the training set \n",
    "\n",
    "model_history = model.fit(X_train, y_train, validation_split = 0.20, validation_data = (X_test, y_test), epochs = 100)"
   ]
  },
  {
   "cell_type": "markdown",
   "id": "royal-clone",
   "metadata": {
    "papermill": {
     "duration": 0.250447,
     "end_time": "2021-07-01T16:15:31.655899",
     "exception": false,
     "start_time": "2021-07-01T16:15:31.405452",
     "status": "completed"
    },
    "tags": []
   },
   "source": [
    "<p style = \"font-size : 35px; color : #34656d ; font-family : 'Comic Sans MS'; text-align : center; background-color : #f9b208; border-radius: 5px 5px;\"><strong>Visualizing Training and Validation Loss</strong></p> "
   ]
  },
  {
   "cell_type": "code",
   "execution_count": 18,
   "id": "aggregate-voltage",
   "metadata": {
    "execution": {
     "iopub.execute_input": "2021-07-01T16:15:32.195785Z",
     "iopub.status.busy": "2021-07-01T16:15:32.194709Z",
     "iopub.status.idle": "2021-07-01T16:15:32.409207Z",
     "shell.execute_reply": "2021-07-01T16:15:32.409739Z",
     "shell.execute_reply.started": "2021-05-20T19:09:30.966486Z"
    },
    "papermill": {
     "duration": 0.501005,
     "end_time": "2021-07-01T16:15:32.409934",
     "exception": false,
     "start_time": "2021-07-01T16:15:31.908929",
     "status": "completed"
    },
    "tags": []
   },
   "outputs": [
    {
     "data": {
      "image/png": "[encoded data removed]",
      "text/plain": [
       "<Figure size 864x432 with 1 Axes>"
      ]
     },
     "metadata": {
      "needs_background": "light"
     },
     "output_type": "display_data"
    }
   ],
   "source": [
    "plt.figure(figsize = (12, 6))\n",
    "\n",
    "train_loss = model_history.history['loss']\n",
    "val_loss = model_history.history['val_loss'] \n",
    "epoch = range(1, 101)\n",
    "sns.lineplot(epoch, train_loss, label = 'Training Loss')\n",
    "sns.lineplot(epoch, val_loss, label = 'Validation Loss')\n",
    "plt.title('Training and Validation Loss\\n')\n",
    "plt.xlabel('Epochs')\n",
    "plt.ylabel('Loss')\n",
    "plt.legend()\n",
    "plt.show()"
   ]
  },
  {
   "cell_type": "markdown",
   "id": "narrative-faculty",
   "metadata": {
    "papermill": {
     "duration": 0.252691,
     "end_time": "2021-07-01T16:15:32.915471",
     "exception": false,
     "start_time": "2021-07-01T16:15:32.662780",
     "status": "completed"
    },
    "tags": []
   },
   "source": [
    "<p style = \"font-size : 35px; color : #34656d ; font-family : 'Comic Sans MS'; text-align : center; background-color : #f9b208; border-radius: 5px 5px;\"><strong>Visualizing Training and Validation accuracy</strong></p> "
   ]
  },
  {
   "cell_type": "code",
   "execution_count": 19,
   "id": "pleasant-journalist",
   "metadata": {
    "execution": {
     "iopub.execute_input": "2021-07-01T16:15:33.456198Z",
     "iopub.status.busy": "2021-07-01T16:15:33.455111Z",
     "iopub.status.idle": "2021-07-01T16:15:33.685429Z",
     "shell.execute_reply": "2021-07-01T16:15:33.685931Z",
     "shell.execute_reply.started": "2021-05-20T19:09:31.189198Z"
    },
    "papermill": {
     "duration": 0.515606,
     "end_time": "2021-07-01T16:15:33.686118",
     "exception": false,
     "start_time": "2021-07-01T16:15:33.170512",
     "status": "completed"
    },
    "tags": []
   },
   "outputs": [
    {
     "data": {
      "image/png": "[encoded data removed]",
      "text/plain": [
       "<Figure size 864x432 with 1 Axes>"
      ]
     },
     "metadata": {
      "needs_background": "light"
     },
     "output_type": "display_data"
    }
   ],
   "source": [
    "plt.figure(figsize = (12, 6))\n",
    "\n",
    "train_loss = model_history.history['accuracy']\n",
    "val_loss = model_history.history['val_accuracy'] \n",
    "epoch = range(1, 101)\n",
    "sns.lineplot(epoch, train_loss, label = 'Training accuracy')\n",
    "sns.lineplot(epoch, val_loss, label = 'Validation accuracy')\n",
    "plt.title('Training and Validation Accuracy\\n')\n",
    "plt.xlabel('Epochs')\n",
    "plt.ylabel('Accuracy')\n",
    "plt.legend()\n",
    "plt.show()"
   ]
  },
  {
   "cell_type": "code",
   "execution_count": 20,
   "id": "cardiovascular-nickname",
   "metadata": {
    "execution": {
     "iopub.execute_input": "2021-07-01T16:15:34.199414Z",
     "iopub.status.busy": "2021-07-01T16:15:34.198747Z",
     "iopub.status.idle": "2021-07-01T16:15:34.308345Z",
     "shell.execute_reply": "2021-07-01T16:15:34.307834Z",
     "shell.execute_reply.started": "2021-05-20T19:09:31.432034Z"
    },
    "papermill": {
     "duration": 0.369332,
     "end_time": "2021-07-01T16:15:34.308496",
     "exception": false,
     "start_time": "2021-07-01T16:15:33.939164",
     "status": "completed"
    },
    "tags": []
   },
   "outputs": [
    {
     "name": "stdout",
     "output_type": "stream",
     "text": [
      "79/79 [==============================] - 0s 796us/step - loss: 0.3366 - accuracy: 0.8672\n",
      "Accuracy of model is 0.8672000169754028\n"
     ]
    }
   ],
   "source": [
    "acc = model.evaluate(X_test, y_test)[1]\n",
    "\n",
    "print(f'Accuracy of model is {acc}')"
   ]
  }
 ],
 "metadata": {
  "kernelspec": {
   "display_name": "Python 3",
   "language": "python",
   "name": "python3"
  },
  "language_info": {
   "codemirror_mode": {
    "name": "ipython",
    "version": 3
   },
   "file_extension": ".py",
   "mimetype": "text/x-python",
   "name": "python",
   "nbconvert_exporter": "python",
   "pygments_lexer": "ipython3",
   "version": "3.8.12"
  },
  "papermill": {
   "default_parameters": {},
   "duration": 71.236377,
   "end_time": "2021-07-01T16:15:37.266441",
   "environment_variables": {},
   "exception": null,
   "input_path": "__notebook__.ipynb",
   "output_path": "__notebook__.ipynb",
   "parameters": {},
   "start_time": "2021-07-01T16:14:26.030064",
   "version": "2.3.3"
  }
 },
 "nbformat": 4,
 "nbformat_minor": 5
}
