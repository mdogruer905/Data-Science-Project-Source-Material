{
 "cells": [
  {
   "cell_type": "markdown",
   "metadata": {},
   "source": [
    "> ## GERMAN CREDIT DATASET ÜZERİNDE ÖZELLİK MÜHENDİSLİĞİ & VERİ ÖN İŞLEME"
   ]
  },
  {
   "cell_type": "markdown",
   "metadata": {},
   "source": [
    "### ****Veri Ön İşleme, veriden daha sağlıklı sonuçların çıkarılmasını sağlayan bir veri temizleme yöntemidir.Verinin bir modele girebilmesi için yapılan hazırlıktır.Aykırı ve gürültülü değerlerden veriyi temizlemek için uygulanır.****"
   ]
  },
  {
   "cell_type": "markdown",
   "metadata": {},
   "source": [
    "Kullanılan data bir banka datasıdır, hedef değişkeni risk olup gözlemlerin bazı parametrelere göre kredilerini ödeyip ödeyememe risklerini anlatır.Risk değişkeni 'good' ise riskli değil 'bad' ise riskli olduğunu belirtir."
   ]
  },
  {
   "cell_type": "markdown",
   "metadata": {},
   "source": [
    "* Gerekli kütüphanelerin import edilmesi\n",
    "### Dataset Link \n",
    "#### [Here](https://www.kaggle.com/uciml/german-credit/code)"
   ]
  },
  {
   "cell_type": "code",
   "execution_count": 1,
   "metadata": {
    "_cell_guid": "b1076dfc-b9ad-4769-8c92-a6c4dae69d19",
    "_uuid": "8f2839f25d086af736a60e9eeb907d3b93b6e0e5",
    "execution": {
     "iopub.execute_input": "2021-06-29T09:24:59.958921Z",
     "iopub.status.busy": "2021-06-29T09:24:59.958205Z",
     "iopub.status.idle": "2021-06-29T09:24:59.970194Z",
     "shell.execute_reply": "2021-06-29T09:24:59.969028Z",
     "shell.execute_reply.started": "2021-06-29T09:24:59.958791Z"
    }
   },
   "outputs": [],
   "source": [
    "import numpy as np \n",
    "import pandas as pd \n",
    "pd.set_option('display.max_columns', None)"
   ]
  },
  {
   "cell_type": "markdown",
   "metadata": {},
   "source": [
    "* Verinin okutulması"
   ]
  },
  {
   "cell_type": "code",
   "execution_count": 2,
   "metadata": {
    "execution": {
     "iopub.execute_input": "2021-06-29T09:24:59.976701Z",
     "iopub.status.busy": "2021-06-29T09:24:59.976364Z",
     "iopub.status.idle": "2021-06-29T09:25:00.011616Z",
     "shell.execute_reply": "2021-06-29T09:25:00.010216Z",
     "shell.execute_reply.started": "2021-06-29T09:24:59.976671Z"
    }
   },
   "outputs": [],
   "source": [
    "dff=pd.read_csv(\"../input/german-credit-data-with-risk/german_credit_data.csv\")"
   ]
  },
  {
   "cell_type": "markdown",
   "metadata": {},
   "source": [
    "* Son aşamada veri ön işleme yapılmadan veriyi modele katıp farkı görmek için burada veriyi kopyalıyoruz."
   ]
  },
  {
   "cell_type": "code",
   "execution_count": 3,
   "metadata": {
    "execution": {
     "iopub.execute_input": "2021-06-29T09:25:00.014247Z",
     "iopub.status.busy": "2021-06-29T09:25:00.013788Z",
     "iopub.status.idle": "2021-06-29T09:25:00.019554Z",
     "shell.execute_reply": "2021-06-29T09:25:00.018390Z",
     "shell.execute_reply.started": "2021-06-29T09:25:00.014200Z"
    }
   },
   "outputs": [],
   "source": [
    "df=dff.copy()"
   ]
  },
  {
   "cell_type": "markdown",
   "metadata": {},
   "source": [
    "* İlk 5 satırı görüntüleme"
   ]
  },
  {
   "cell_type": "code",
   "execution_count": 4,
   "metadata": {
    "execution": {
     "iopub.execute_input": "2021-06-29T09:25:00.022271Z",
     "iopub.status.busy": "2021-06-29T09:25:00.021639Z",
     "iopub.status.idle": "2021-06-29T09:25:00.065197Z",
     "shell.execute_reply": "2021-06-29T09:25:00.064020Z",
     "shell.execute_reply.started": "2021-06-29T09:25:00.022221Z"
    }
   },
   "outputs": [
    {
     "data": {
      "text/html": [
       "<div>\n",
       "<style scoped>\n",
       "    .dataframe tbody tr th:only-of-type {\n",
       "        vertical-align: middle;\n",
       "    }\n",
       "\n",
       "    .dataframe tbody tr th {\n",
       "        vertical-align: top;\n",
       "    }\n",
       "\n",
       "    .dataframe thead th {\n",
       "        text-align: right;\n",
       "    }\n",
       "</style>\n",
       "<table border=\"1\" class=\"dataframe\">\n",
       "  <thead>\n",
       "    <tr style=\"text-align: right;\">\n",
       "      <th></th>\n",
       "      <th>Unnamed: 0</th>\n",
       "      <th>Age</th>\n",
       "      <th>Sex</th>\n",
       "      <th>Job</th>\n",
       "      <th>Housing</th>\n",
       "      <th>Saving accounts</th>\n",
       "      <th>Checking account</th>\n",
       "      <th>Credit amount</th>\n",
       "      <th>Duration</th>\n",
       "      <th>Purpose</th>\n",
       "      <th>Risk</th>\n",
       "    </tr>\n",
       "  </thead>\n",
       "  <tbody>\n",
       "    <tr>\n",
       "      <th>0</th>\n",
       "      <td>0</td>\n",
       "      <td>67</td>\n",
       "      <td>male</td>\n",
       "      <td>2</td>\n",
       "      <td>own</td>\n",
       "      <td>NaN</td>\n",
       "      <td>little</td>\n",
       "      <td>1169</td>\n",
       "      <td>6</td>\n",
       "      <td>radio/TV</td>\n",
       "      <td>good</td>\n",
       "    </tr>\n",
       "    <tr>\n",
       "      <th>1</th>\n",
       "      <td>1</td>\n",
       "      <td>22</td>\n",
       "      <td>female</td>\n",
       "      <td>2</td>\n",
       "      <td>own</td>\n",
       "      <td>little</td>\n",
       "      <td>moderate</td>\n",
       "      <td>5951</td>\n",
       "      <td>48</td>\n",
       "      <td>radio/TV</td>\n",
       "      <td>bad</td>\n",
       "    </tr>\n",
       "    <tr>\n",
       "      <th>2</th>\n",
       "      <td>2</td>\n",
       "      <td>49</td>\n",
       "      <td>male</td>\n",
       "      <td>1</td>\n",
       "      <td>own</td>\n",
       "      <td>little</td>\n",
       "      <td>NaN</td>\n",
       "      <td>2096</td>\n",
       "      <td>12</td>\n",
       "      <td>education</td>\n",
       "      <td>good</td>\n",
       "    </tr>\n",
       "    <tr>\n",
       "      <th>3</th>\n",
       "      <td>3</td>\n",
       "      <td>45</td>\n",
       "      <td>male</td>\n",
       "      <td>2</td>\n",
       "      <td>free</td>\n",
       "      <td>little</td>\n",
       "      <td>little</td>\n",
       "      <td>7882</td>\n",
       "      <td>42</td>\n",
       "      <td>furniture/equipment</td>\n",
       "      <td>good</td>\n",
       "    </tr>\n",
       "    <tr>\n",
       "      <th>4</th>\n",
       "      <td>4</td>\n",
       "      <td>53</td>\n",
       "      <td>male</td>\n",
       "      <td>2</td>\n",
       "      <td>free</td>\n",
       "      <td>little</td>\n",
       "      <td>little</td>\n",
       "      <td>4870</td>\n",
       "      <td>24</td>\n",
       "      <td>car</td>\n",
       "      <td>bad</td>\n",
       "    </tr>\n",
       "  </tbody>\n",
       "</table>\n",
       "</div>"
      ],
      "text/plain": [
       "   Unnamed: 0  Age     Sex  Job Housing Saving accounts Checking account  \\\n",
       "0           0   67    male    2     own             NaN           little   \n",
       "1           1   22  female    2     own          little         moderate   \n",
       "2           2   49    male    1     own          little              NaN   \n",
       "3           3   45    male    2    free          little           little   \n",
       "4           4   53    male    2    free          little           little   \n",
       "\n",
       "   Credit amount  Duration              Purpose  Risk  \n",
       "0           1169         6             radio/TV  good  \n",
       "1           5951        48             radio/TV   bad  \n",
       "2           2096        12            education  good  \n",
       "3           7882        42  furniture/equipment  good  \n",
       "4           4870        24                  car   bad  "
      ]
     },
     "execution_count": 4,
     "metadata": {},
     "output_type": "execute_result"
    }
   ],
   "source": [
    "df.head()"
   ]
  },
  {
   "cell_type": "markdown",
   "metadata": {},
   "source": [
    "* Gereksiz bir column var indexle aynı o yüzden onu siliyoruz"
   ]
  },
  {
   "cell_type": "code",
   "execution_count": 5,
   "metadata": {
    "execution": {
     "iopub.execute_input": "2021-06-29T09:25:00.067687Z",
     "iopub.status.busy": "2021-06-29T09:25:00.067102Z",
     "iopub.status.idle": "2021-06-29T09:25:00.076441Z",
     "shell.execute_reply": "2021-06-29T09:25:00.075105Z",
     "shell.execute_reply.started": "2021-06-29T09:25:00.067641Z"
    }
   },
   "outputs": [],
   "source": [
    "df.drop(\"Unnamed: 0\",axis=1,inplace=True)"
   ]
  },
  {
   "cell_type": "markdown",
   "metadata": {},
   "source": [
    "### 1-Aykırı değerlerin belirlenmesi"
   ]
  },
  {
   "cell_type": "code",
   "execution_count": 6,
   "metadata": {
    "execution": {
     "iopub.execute_input": "2021-06-29T09:25:00.079094Z",
     "iopub.status.busy": "2021-06-29T09:25:00.078407Z",
     "iopub.status.idle": "2021-06-29T09:25:00.096119Z",
     "shell.execute_reply": "2021-06-29T09:25:00.094896Z",
     "shell.execute_reply.started": "2021-06-29T09:25:00.079044Z"
    }
   },
   "outputs": [],
   "source": [
    "q1 = df[\"Age\"].quantile(0.25)\n",
    "q3 = df[\"Age\"].quantile(0.80)\n",
    "iqr = q3 - q1\n",
    "up = q3 + 1.5 * iqr\n",
    "low = q1 - 1.5 * iqr"
   ]
  },
  {
   "cell_type": "code",
   "execution_count": 7,
   "metadata": {
    "execution": {
     "iopub.execute_input": "2021-06-29T09:25:00.098406Z",
     "iopub.status.busy": "2021-06-29T09:25:00.097972Z",
     "iopub.status.idle": "2021-06-29T09:25:00.106033Z",
     "shell.execute_reply": "2021-06-29T09:25:00.104947Z",
     "shell.execute_reply.started": "2021-06-29T09:25:00.098347Z"
    }
   },
   "outputs": [
    {
     "data": {
      "text/plain": [
       "72.0"
      ]
     },
     "execution_count": 7,
     "metadata": {},
     "output_type": "execute_result"
    }
   ],
   "source": [
    "up"
   ]
  },
  {
   "cell_type": "code",
   "execution_count": 8,
   "metadata": {
    "execution": {
     "iopub.execute_input": "2021-06-29T09:25:00.107944Z",
     "iopub.status.busy": "2021-06-29T09:25:00.107333Z",
     "iopub.status.idle": "2021-06-29T09:25:00.121047Z",
     "shell.execute_reply": "2021-06-29T09:25:00.119788Z",
     "shell.execute_reply.started": "2021-06-29T09:25:00.107896Z"
    }
   },
   "outputs": [
    {
     "data": {
      "text/plain": [
       "0.0"
      ]
     },
     "execution_count": 8,
     "metadata": {},
     "output_type": "execute_result"
    }
   ],
   "source": [
    "low"
   ]
  },
  {
   "cell_type": "markdown",
   "metadata": {},
   "source": [
    "* Aykırı değerlerin listelenmesi"
   ]
  },
  {
   "cell_type": "code",
   "execution_count": 9,
   "metadata": {
    "execution": {
     "iopub.execute_input": "2021-06-29T09:25:00.126353Z",
     "iopub.status.busy": "2021-06-29T09:25:00.126008Z",
     "iopub.status.idle": "2021-06-29T09:25:00.161084Z",
     "shell.execute_reply": "2021-06-29T09:25:00.159856Z",
     "shell.execute_reply.started": "2021-06-29T09:25:00.126315Z"
    }
   },
   "outputs": [
    {
     "data": {
      "text/html": [
       "<div>\n",
       "<style scoped>\n",
       "    .dataframe tbody tr th:only-of-type {\n",
       "        vertical-align: middle;\n",
       "    }\n",
       "\n",
       "    .dataframe tbody tr th {\n",
       "        vertical-align: top;\n",
       "    }\n",
       "\n",
       "    .dataframe thead th {\n",
       "        text-align: right;\n",
       "    }\n",
       "</style>\n",
       "<table border=\"1\" class=\"dataframe\">\n",
       "  <thead>\n",
       "    <tr style=\"text-align: right;\">\n",
       "      <th></th>\n",
       "      <th>Age</th>\n",
       "      <th>Sex</th>\n",
       "      <th>Job</th>\n",
       "      <th>Housing</th>\n",
       "      <th>Saving accounts</th>\n",
       "      <th>Checking account</th>\n",
       "      <th>Credit amount</th>\n",
       "      <th>Duration</th>\n",
       "      <th>Purpose</th>\n",
       "      <th>Risk</th>\n",
       "    </tr>\n",
       "  </thead>\n",
       "  <tbody>\n",
       "    <tr>\n",
       "      <th>186</th>\n",
       "      <td>74</td>\n",
       "      <td>female</td>\n",
       "      <td>3</td>\n",
       "      <td>free</td>\n",
       "      <td>little</td>\n",
       "      <td>moderate</td>\n",
       "      <td>5129</td>\n",
       "      <td>9</td>\n",
       "      <td>car</td>\n",
       "      <td>bad</td>\n",
       "    </tr>\n",
       "    <tr>\n",
       "      <th>330</th>\n",
       "      <td>75</td>\n",
       "      <td>male</td>\n",
       "      <td>3</td>\n",
       "      <td>free</td>\n",
       "      <td>little</td>\n",
       "      <td>little</td>\n",
       "      <td>6615</td>\n",
       "      <td>24</td>\n",
       "      <td>car</td>\n",
       "      <td>good</td>\n",
       "    </tr>\n",
       "    <tr>\n",
       "      <th>430</th>\n",
       "      <td>74</td>\n",
       "      <td>male</td>\n",
       "      <td>1</td>\n",
       "      <td>own</td>\n",
       "      <td>little</td>\n",
       "      <td>NaN</td>\n",
       "      <td>3448</td>\n",
       "      <td>5</td>\n",
       "      <td>business</td>\n",
       "      <td>good</td>\n",
       "    </tr>\n",
       "    <tr>\n",
       "      <th>536</th>\n",
       "      <td>75</td>\n",
       "      <td>female</td>\n",
       "      <td>3</td>\n",
       "      <td>own</td>\n",
       "      <td>NaN</td>\n",
       "      <td>little</td>\n",
       "      <td>1374</td>\n",
       "      <td>6</td>\n",
       "      <td>car</td>\n",
       "      <td>good</td>\n",
       "    </tr>\n",
       "    <tr>\n",
       "      <th>606</th>\n",
       "      <td>74</td>\n",
       "      <td>male</td>\n",
       "      <td>3</td>\n",
       "      <td>own</td>\n",
       "      <td>little</td>\n",
       "      <td>NaN</td>\n",
       "      <td>4526</td>\n",
       "      <td>24</td>\n",
       "      <td>business</td>\n",
       "      <td>good</td>\n",
       "    </tr>\n",
       "    <tr>\n",
       "      <th>756</th>\n",
       "      <td>74</td>\n",
       "      <td>male</td>\n",
       "      <td>0</td>\n",
       "      <td>own</td>\n",
       "      <td>little</td>\n",
       "      <td>rich</td>\n",
       "      <td>1299</td>\n",
       "      <td>6</td>\n",
       "      <td>car</td>\n",
       "      <td>good</td>\n",
       "    </tr>\n",
       "  </tbody>\n",
       "</table>\n",
       "</div>"
      ],
      "text/plain": [
       "     Age     Sex  Job Housing Saving accounts Checking account  Credit amount  \\\n",
       "186   74  female    3    free          little         moderate           5129   \n",
       "330   75    male    3    free          little           little           6615   \n",
       "430   74    male    1     own          little              NaN           3448   \n",
       "536   75  female    3     own             NaN           little           1374   \n",
       "606   74    male    3     own          little              NaN           4526   \n",
       "756   74    male    0     own          little             rich           1299   \n",
       "\n",
       "     Duration   Purpose  Risk  \n",
       "186         9       car   bad  \n",
       "330        24       car  good  \n",
       "430         5  business  good  \n",
       "536         6       car  good  \n",
       "606        24  business  good  \n",
       "756         6       car  good  "
      ]
     },
     "execution_count": 9,
     "metadata": {},
     "output_type": "execute_result"
    }
   ],
   "source": [
    "df[(df[\"Age\"] < low) | (df[\"Age\"] > up)]"
   ]
  },
  {
   "cell_type": "markdown",
   "metadata": {},
   "source": [
    "* Satırda veya sütunda aykırı değer var mı sorusunun cevabını döndürüyor"
   ]
  },
  {
   "cell_type": "code",
   "execution_count": 10,
   "metadata": {
    "execution": {
     "iopub.execute_input": "2021-06-29T09:25:00.163663Z",
     "iopub.status.busy": "2021-06-29T09:25:00.162925Z",
     "iopub.status.idle": "2021-06-29T09:25:00.175373Z",
     "shell.execute_reply": "2021-06-29T09:25:00.174416Z",
     "shell.execute_reply.started": "2021-06-29T09:25:00.163611Z"
    }
   },
   "outputs": [
    {
     "data": {
      "text/plain": [
       "True"
      ]
     },
     "execution_count": 10,
     "metadata": {},
     "output_type": "execute_result"
    }
   ],
   "source": [
    "df[(df[\"Age\"] > up) | (df[\"Age\"] < low)].any(axis=None)"
   ]
  },
  {
   "cell_type": "markdown",
   "metadata": {},
   "source": [
    "### 2-Aykırı değerleri belirlediğimiz çeyreklikteki değerlere baskılıyoruz.Yani 0'dan küçük age değeri varsa onlara 0 atıyoruz aynı şekilde 72'den büyük bir değer varsa da onları 72'ye eşitliyoruz bu şekilde aykırı değerler baskılanıyor."
   ]
  },
  {
   "cell_type": "code",
   "execution_count": 11,
   "metadata": {
    "execution": {
     "iopub.execute_input": "2021-06-29T09:25:00.177882Z",
     "iopub.status.busy": "2021-06-29T09:25:00.177080Z",
     "iopub.status.idle": "2021-06-29T09:25:00.191662Z",
     "shell.execute_reply": "2021-06-29T09:25:00.190150Z",
     "shell.execute_reply.started": "2021-06-29T09:25:00.177837Z"
    }
   },
   "outputs": [],
   "source": [
    "df.loc[df[\"Age\"] < low,\"Age\"]=low"
   ]
  },
  {
   "cell_type": "code",
   "execution_count": 12,
   "metadata": {
    "execution": {
     "iopub.execute_input": "2021-06-29T09:25:00.206670Z",
     "iopub.status.busy": "2021-06-29T09:25:00.205855Z",
     "iopub.status.idle": "2021-06-29T09:25:00.214153Z",
     "shell.execute_reply": "2021-06-29T09:25:00.212537Z",
     "shell.execute_reply.started": "2021-06-29T09:25:00.206622Z"
    }
   },
   "outputs": [],
   "source": [
    "df.loc[df[\"Age\"] > up,\"Age\"]=up"
   ]
  },
  {
   "cell_type": "markdown",
   "metadata": {},
   "source": [
    "* Aykırı değer kontrolü yapıyoruz, baskılama işlemimiz sorunsuz gerçekleşmiş mi diye.\n",
    "* False dönmesini bekliyoruz."
   ]
  },
  {
   "cell_type": "code",
   "execution_count": 13,
   "metadata": {
    "execution": {
     "iopub.execute_input": "2021-06-29T09:25:00.218036Z",
     "iopub.status.busy": "2021-06-29T09:25:00.217235Z",
     "iopub.status.idle": "2021-06-29T09:25:00.234932Z",
     "shell.execute_reply": "2021-06-29T09:25:00.233753Z",
     "shell.execute_reply.started": "2021-06-29T09:25:00.217987Z"
    }
   },
   "outputs": [
    {
     "data": {
      "text/plain": [
       "False"
      ]
     },
     "execution_count": 13,
     "metadata": {},
     "output_type": "execute_result"
    }
   ],
   "source": [
    "df[(df[\"Age\"] > up) | (df[\"Age\"] < low)].any(axis=None)"
   ]
  },
  {
   "cell_type": "markdown",
   "metadata": {},
   "source": [
    "### 3-Eksik değer sorunu ve null değerlerin doldurulması"
   ]
  },
  {
   "cell_type": "markdown",
   "metadata": {},
   "source": [
    "* Dataframedeki columnlara göre toplam boş değer sayısı"
   ]
  },
  {
   "cell_type": "code",
   "execution_count": 14,
   "metadata": {
    "execution": {
     "iopub.execute_input": "2021-06-29T09:25:00.237631Z",
     "iopub.status.busy": "2021-06-29T09:25:00.236969Z",
     "iopub.status.idle": "2021-06-29T09:25:00.251365Z",
     "shell.execute_reply": "2021-06-29T09:25:00.250283Z",
     "shell.execute_reply.started": "2021-06-29T09:25:00.237585Z"
    }
   },
   "outputs": [
    {
     "data": {
      "text/plain": [
       "Age                   0\n",
       "Sex                   0\n",
       "Job                   0\n",
       "Housing               0\n",
       "Saving accounts     183\n",
       "Checking account    394\n",
       "Credit amount         0\n",
       "Duration              0\n",
       "Purpose               0\n",
       "Risk                  0\n",
       "dtype: int64"
      ]
     },
     "execution_count": 14,
     "metadata": {},
     "output_type": "execute_result"
    }
   ],
   "source": [
    "df.isnull().sum()"
   ]
  },
  {
   "cell_type": "code",
   "execution_count": 15,
   "metadata": {
    "execution": {
     "iopub.execute_input": "2021-06-29T09:25:00.253525Z",
     "iopub.status.busy": "2021-06-29T09:25:00.252939Z",
     "iopub.status.idle": "2021-06-29T09:25:00.274721Z",
     "shell.execute_reply": "2021-06-29T09:25:00.273748Z",
     "shell.execute_reply.started": "2021-06-29T09:25:00.253480Z"
    }
   },
   "outputs": [
    {
     "data": {
      "text/html": [
       "<div>\n",
       "<style scoped>\n",
       "    .dataframe tbody tr th:only-of-type {\n",
       "        vertical-align: middle;\n",
       "    }\n",
       "\n",
       "    .dataframe tbody tr th {\n",
       "        vertical-align: top;\n",
       "    }\n",
       "\n",
       "    .dataframe thead th {\n",
       "        text-align: right;\n",
       "    }\n",
       "</style>\n",
       "<table border=\"1\" class=\"dataframe\">\n",
       "  <thead>\n",
       "    <tr style=\"text-align: right;\">\n",
       "      <th></th>\n",
       "      <th>Age</th>\n",
       "      <th>Sex</th>\n",
       "      <th>Job</th>\n",
       "      <th>Housing</th>\n",
       "      <th>Saving accounts</th>\n",
       "      <th>Checking account</th>\n",
       "      <th>Credit amount</th>\n",
       "      <th>Duration</th>\n",
       "      <th>Purpose</th>\n",
       "      <th>Risk</th>\n",
       "    </tr>\n",
       "  </thead>\n",
       "  <tbody>\n",
       "    <tr>\n",
       "      <th>0</th>\n",
       "      <td>67.0</td>\n",
       "      <td>male</td>\n",
       "      <td>2</td>\n",
       "      <td>own</td>\n",
       "      <td>NaN</td>\n",
       "      <td>little</td>\n",
       "      <td>1169</td>\n",
       "      <td>6</td>\n",
       "      <td>radio/TV</td>\n",
       "      <td>good</td>\n",
       "    </tr>\n",
       "    <tr>\n",
       "      <th>1</th>\n",
       "      <td>22.0</td>\n",
       "      <td>female</td>\n",
       "      <td>2</td>\n",
       "      <td>own</td>\n",
       "      <td>little</td>\n",
       "      <td>moderate</td>\n",
       "      <td>5951</td>\n",
       "      <td>48</td>\n",
       "      <td>radio/TV</td>\n",
       "      <td>bad</td>\n",
       "    </tr>\n",
       "    <tr>\n",
       "      <th>2</th>\n",
       "      <td>49.0</td>\n",
       "      <td>male</td>\n",
       "      <td>1</td>\n",
       "      <td>own</td>\n",
       "      <td>little</td>\n",
       "      <td>NaN</td>\n",
       "      <td>2096</td>\n",
       "      <td>12</td>\n",
       "      <td>education</td>\n",
       "      <td>good</td>\n",
       "    </tr>\n",
       "    <tr>\n",
       "      <th>3</th>\n",
       "      <td>45.0</td>\n",
       "      <td>male</td>\n",
       "      <td>2</td>\n",
       "      <td>free</td>\n",
       "      <td>little</td>\n",
       "      <td>little</td>\n",
       "      <td>7882</td>\n",
       "      <td>42</td>\n",
       "      <td>furniture/equipment</td>\n",
       "      <td>good</td>\n",
       "    </tr>\n",
       "    <tr>\n",
       "      <th>4</th>\n",
       "      <td>53.0</td>\n",
       "      <td>male</td>\n",
       "      <td>2</td>\n",
       "      <td>free</td>\n",
       "      <td>little</td>\n",
       "      <td>little</td>\n",
       "      <td>4870</td>\n",
       "      <td>24</td>\n",
       "      <td>car</td>\n",
       "      <td>bad</td>\n",
       "    </tr>\n",
       "  </tbody>\n",
       "</table>\n",
       "</div>"
      ],
      "text/plain": [
       "    Age     Sex  Job Housing Saving accounts Checking account  Credit amount  \\\n",
       "0  67.0    male    2     own             NaN           little           1169   \n",
       "1  22.0  female    2     own          little         moderate           5951   \n",
       "2  49.0    male    1     own          little              NaN           2096   \n",
       "3  45.0    male    2    free          little           little           7882   \n",
       "4  53.0    male    2    free          little           little           4870   \n",
       "\n",
       "   Duration              Purpose  Risk  \n",
       "0         6             radio/TV  good  \n",
       "1        48             radio/TV   bad  \n",
       "2        12            education  good  \n",
       "3        42  furniture/equipment  good  \n",
       "4        24                  car   bad  "
      ]
     },
     "execution_count": 15,
     "metadata": {},
     "output_type": "execute_result"
    }
   ],
   "source": [
    "df.head()"
   ]
  },
  {
   "cell_type": "markdown",
   "metadata": {},
   "source": [
    "* Kategorik değişkenlerde eksik değer olduğundan tipi object olan ve eşşiz sınıf sayısı 10'dan küçük olanların boş değerlerini mode'larıyla dolduruyoruz."
   ]
  },
  {
   "cell_type": "code",
   "execution_count": 16,
   "metadata": {
    "execution": {
     "iopub.execute_input": "2021-06-29T09:25:00.277322Z",
     "iopub.status.busy": "2021-06-29T09:25:00.276627Z",
     "iopub.status.idle": "2021-06-29T09:25:00.302057Z",
     "shell.execute_reply": "2021-06-29T09:25:00.300868Z",
     "shell.execute_reply.started": "2021-06-29T09:25:00.277273Z"
    }
   },
   "outputs": [],
   "source": [
    "df = df.apply(lambda x: x.fillna(x.mode()[0]) if (x.dtype == \"O\" and len(x.unique()) <= 10) else x, axis=0)"
   ]
  },
  {
   "cell_type": "code",
   "execution_count": 17,
   "metadata": {
    "execution": {
     "iopub.execute_input": "2021-06-29T09:25:00.306541Z",
     "iopub.status.busy": "2021-06-29T09:25:00.306166Z",
     "iopub.status.idle": "2021-06-29T09:25:00.325003Z",
     "shell.execute_reply": "2021-06-29T09:25:00.323919Z",
     "shell.execute_reply.started": "2021-06-29T09:25:00.306491Z"
    }
   },
   "outputs": [
    {
     "data": {
      "text/html": [
       "<div>\n",
       "<style scoped>\n",
       "    .dataframe tbody tr th:only-of-type {\n",
       "        vertical-align: middle;\n",
       "    }\n",
       "\n",
       "    .dataframe tbody tr th {\n",
       "        vertical-align: top;\n",
       "    }\n",
       "\n",
       "    .dataframe thead th {\n",
       "        text-align: right;\n",
       "    }\n",
       "</style>\n",
       "<table border=\"1\" class=\"dataframe\">\n",
       "  <thead>\n",
       "    <tr style=\"text-align: right;\">\n",
       "      <th></th>\n",
       "      <th>Age</th>\n",
       "      <th>Sex</th>\n",
       "      <th>Job</th>\n",
       "      <th>Housing</th>\n",
       "      <th>Saving accounts</th>\n",
       "      <th>Checking account</th>\n",
       "      <th>Credit amount</th>\n",
       "      <th>Duration</th>\n",
       "      <th>Purpose</th>\n",
       "      <th>Risk</th>\n",
       "    </tr>\n",
       "  </thead>\n",
       "  <tbody>\n",
       "    <tr>\n",
       "      <th>0</th>\n",
       "      <td>67.0</td>\n",
       "      <td>male</td>\n",
       "      <td>2</td>\n",
       "      <td>own</td>\n",
       "      <td>little</td>\n",
       "      <td>little</td>\n",
       "      <td>1169</td>\n",
       "      <td>6</td>\n",
       "      <td>radio/TV</td>\n",
       "      <td>good</td>\n",
       "    </tr>\n",
       "    <tr>\n",
       "      <th>1</th>\n",
       "      <td>22.0</td>\n",
       "      <td>female</td>\n",
       "      <td>2</td>\n",
       "      <td>own</td>\n",
       "      <td>little</td>\n",
       "      <td>moderate</td>\n",
       "      <td>5951</td>\n",
       "      <td>48</td>\n",
       "      <td>radio/TV</td>\n",
       "      <td>bad</td>\n",
       "    </tr>\n",
       "    <tr>\n",
       "      <th>2</th>\n",
       "      <td>49.0</td>\n",
       "      <td>male</td>\n",
       "      <td>1</td>\n",
       "      <td>own</td>\n",
       "      <td>little</td>\n",
       "      <td>little</td>\n",
       "      <td>2096</td>\n",
       "      <td>12</td>\n",
       "      <td>education</td>\n",
       "      <td>good</td>\n",
       "    </tr>\n",
       "    <tr>\n",
       "      <th>3</th>\n",
       "      <td>45.0</td>\n",
       "      <td>male</td>\n",
       "      <td>2</td>\n",
       "      <td>free</td>\n",
       "      <td>little</td>\n",
       "      <td>little</td>\n",
       "      <td>7882</td>\n",
       "      <td>42</td>\n",
       "      <td>furniture/equipment</td>\n",
       "      <td>good</td>\n",
       "    </tr>\n",
       "    <tr>\n",
       "      <th>4</th>\n",
       "      <td>53.0</td>\n",
       "      <td>male</td>\n",
       "      <td>2</td>\n",
       "      <td>free</td>\n",
       "      <td>little</td>\n",
       "      <td>little</td>\n",
       "      <td>4870</td>\n",
       "      <td>24</td>\n",
       "      <td>car</td>\n",
       "      <td>bad</td>\n",
       "    </tr>\n",
       "  </tbody>\n",
       "</table>\n",
       "</div>"
      ],
      "text/plain": [
       "    Age     Sex  Job Housing Saving accounts Checking account  Credit amount  \\\n",
       "0  67.0    male    2     own          little           little           1169   \n",
       "1  22.0  female    2     own          little         moderate           5951   \n",
       "2  49.0    male    1     own          little           little           2096   \n",
       "3  45.0    male    2    free          little           little           7882   \n",
       "4  53.0    male    2    free          little           little           4870   \n",
       "\n",
       "   Duration              Purpose  Risk  \n",
       "0         6             radio/TV  good  \n",
       "1        48             radio/TV   bad  \n",
       "2        12            education  good  \n",
       "3        42  furniture/equipment  good  \n",
       "4        24                  car   bad  "
      ]
     },
     "execution_count": 17,
     "metadata": {},
     "output_type": "execute_result"
    }
   ],
   "source": [
    "df.head()"
   ]
  },
  {
   "cell_type": "code",
   "execution_count": 18,
   "metadata": {
    "execution": {
     "iopub.execute_input": "2021-06-29T09:25:00.327665Z",
     "iopub.status.busy": "2021-06-29T09:25:00.327246Z",
     "iopub.status.idle": "2021-06-29T09:25:00.350870Z",
     "shell.execute_reply": "2021-06-29T09:25:00.349786Z",
     "shell.execute_reply.started": "2021-06-29T09:25:00.327619Z"
    }
   },
   "outputs": [
    {
     "name": "stdout",
     "output_type": "stream",
     "text": [
      "<class 'pandas.core.frame.DataFrame'>\n",
      "RangeIndex: 1000 entries, 0 to 999\n",
      "Data columns (total 10 columns):\n",
      " #   Column            Non-Null Count  Dtype  \n",
      "---  ------            --------------  -----  \n",
      " 0   Age               1000 non-null   float64\n",
      " 1   Sex               1000 non-null   object \n",
      " 2   Job               1000 non-null   int64  \n",
      " 3   Housing           1000 non-null   object \n",
      " 4   Saving accounts   1000 non-null   object \n",
      " 5   Checking account  1000 non-null   object \n",
      " 6   Credit amount     1000 non-null   int64  \n",
      " 7   Duration          1000 non-null   int64  \n",
      " 8   Purpose           1000 non-null   object \n",
      " 9   Risk              1000 non-null   object \n",
      "dtypes: float64(1), int64(3), object(6)\n",
      "memory usage: 78.2+ KB\n"
     ]
    }
   ],
   "source": [
    "df.info()"
   ]
  },
  {
   "cell_type": "markdown",
   "metadata": {},
   "source": [
    "* Age değerlerini integer'a çeviriyorum."
   ]
  },
  {
   "cell_type": "code",
   "execution_count": 19,
   "metadata": {
    "execution": {
     "iopub.execute_input": "2021-06-29T09:25:00.353099Z",
     "iopub.status.busy": "2021-06-29T09:25:00.352429Z",
     "iopub.status.idle": "2021-06-29T09:25:00.360202Z",
     "shell.execute_reply": "2021-06-29T09:25:00.359158Z",
     "shell.execute_reply.started": "2021-06-29T09:25:00.353052Z"
    }
   },
   "outputs": [],
   "source": [
    "df[\"Age\"]=[int(i) for i in df[\"Age\"]]"
   ]
  },
  {
   "cell_type": "markdown",
   "metadata": {},
   "source": [
    "* Eksik değer sorunu çözülmüş mü kontrol ediyorum."
   ]
  },
  {
   "cell_type": "code",
   "execution_count": 20,
   "metadata": {
    "execution": {
     "iopub.execute_input": "2021-06-29T09:25:00.362607Z",
     "iopub.status.busy": "2021-06-29T09:25:00.361934Z",
     "iopub.status.idle": "2021-06-29T09:25:00.376911Z",
     "shell.execute_reply": "2021-06-29T09:25:00.375788Z",
     "shell.execute_reply.started": "2021-06-29T09:25:00.362560Z"
    }
   },
   "outputs": [
    {
     "data": {
      "text/plain": [
       "Age                 0\n",
       "Sex                 0\n",
       "Job                 0\n",
       "Housing             0\n",
       "Saving accounts     0\n",
       "Checking account    0\n",
       "Credit amount       0\n",
       "Duration            0\n",
       "Purpose             0\n",
       "Risk                0\n",
       "dtype: int64"
      ]
     },
     "execution_count": 20,
     "metadata": {},
     "output_type": "execute_result"
    }
   ],
   "source": [
    "df.isnull().sum()"
   ]
  },
  {
   "cell_type": "code",
   "execution_count": 21,
   "metadata": {
    "execution": {
     "iopub.execute_input": "2021-06-29T09:25:00.380254Z",
     "iopub.status.busy": "2021-06-29T09:25:00.379883Z",
     "iopub.status.idle": "2021-06-29T09:25:00.392169Z",
     "shell.execute_reply": "2021-06-29T09:25:00.390785Z",
     "shell.execute_reply.started": "2021-06-29T09:25:00.380222Z"
    }
   },
   "outputs": [
    {
     "data": {
      "text/plain": [
       "count    1000.000000\n",
       "mean       35.532000\n",
       "std        11.328959\n",
       "min        19.000000\n",
       "25%        27.000000\n",
       "50%        33.000000\n",
       "75%        42.000000\n",
       "max        72.000000\n",
       "Name: Age, dtype: float64"
      ]
     },
     "execution_count": 21,
     "metadata": {},
     "output_type": "execute_result"
    }
   ],
   "source": [
    "df[\"Age\"].describe()"
   ]
  },
  {
   "cell_type": "markdown",
   "metadata": {},
   "source": [
    "* Age değişkenini belirlediğim quantile değerlerine göre kategorize ediyorum; genç,yetişkin,yaşlı olarak."
   ]
  },
  {
   "cell_type": "code",
   "execution_count": 22,
   "metadata": {
    "execution": {
     "iopub.execute_input": "2021-06-29T09:25:00.395588Z",
     "iopub.status.busy": "2021-06-29T09:25:00.395133Z",
     "iopub.status.idle": "2021-06-29T09:25:00.405041Z",
     "shell.execute_reply": "2021-06-29T09:25:00.403795Z",
     "shell.execute_reply.started": "2021-06-29T09:25:00.395540Z"
    }
   },
   "outputs": [],
   "source": [
    "q25 = df[\"Age\"].quantile(0.25)\n",
    "q90 = df[\"Age\"].quantile(0.90)"
   ]
  },
  {
   "cell_type": "code",
   "execution_count": 23,
   "metadata": {
    "execution": {
     "iopub.execute_input": "2021-06-29T09:25:00.408461Z",
     "iopub.status.busy": "2021-06-29T09:25:00.407619Z",
     "iopub.status.idle": "2021-06-29T09:25:00.417431Z",
     "shell.execute_reply": "2021-06-29T09:25:00.416354Z",
     "shell.execute_reply.started": "2021-06-29T09:25:00.408413Z"
    }
   },
   "outputs": [
    {
     "data": {
      "text/plain": [
       "27.0"
      ]
     },
     "execution_count": 23,
     "metadata": {},
     "output_type": "execute_result"
    }
   ],
   "source": [
    "q25"
   ]
  },
  {
   "cell_type": "code",
   "execution_count": 24,
   "metadata": {
    "execution": {
     "iopub.execute_input": "2021-06-29T09:25:00.419691Z",
     "iopub.status.busy": "2021-06-29T09:25:00.419275Z",
     "iopub.status.idle": "2021-06-29T09:25:00.429050Z",
     "shell.execute_reply": "2021-06-29T09:25:00.427832Z",
     "shell.execute_reply.started": "2021-06-29T09:25:00.419651Z"
    }
   },
   "outputs": [
    {
     "data": {
      "text/plain": [
       "52.0"
      ]
     },
     "execution_count": 24,
     "metadata": {},
     "output_type": "execute_result"
    }
   ],
   "source": [
    "q90"
   ]
  },
  {
   "cell_type": "code",
   "execution_count": 25,
   "metadata": {
    "execution": {
     "iopub.execute_input": "2021-06-29T09:25:00.431486Z",
     "iopub.status.busy": "2021-06-29T09:25:00.431004Z",
     "iopub.status.idle": "2021-06-29T09:25:00.442556Z",
     "shell.execute_reply": "2021-06-29T09:25:00.441496Z",
     "shell.execute_reply.started": "2021-06-29T09:25:00.431443Z"
    }
   },
   "outputs": [],
   "source": [
    "df.loc[df[\"Age\"]< q25,\"new_age\"]=\"young\""
   ]
  },
  {
   "cell_type": "code",
   "execution_count": 26,
   "metadata": {
    "execution": {
     "iopub.execute_input": "2021-06-29T09:25:00.445536Z",
     "iopub.status.busy": "2021-06-29T09:25:00.444899Z",
     "iopub.status.idle": "2021-06-29T09:25:00.454068Z",
     "shell.execute_reply": "2021-06-29T09:25:00.453277Z",
     "shell.execute_reply.started": "2021-06-29T09:25:00.445490Z"
    }
   },
   "outputs": [],
   "source": [
    "df.loc[(df[\"Age\"] >= q25) & (df[\"Age\"]< q90),\"new_age\"]=\"mature\""
   ]
  },
  {
   "cell_type": "code",
   "execution_count": 27,
   "metadata": {
    "execution": {
     "iopub.execute_input": "2021-06-29T09:25:00.455968Z",
     "iopub.status.busy": "2021-06-29T09:25:00.455361Z",
     "iopub.status.idle": "2021-06-29T09:25:00.467094Z",
     "shell.execute_reply": "2021-06-29T09:25:00.466102Z",
     "shell.execute_reply.started": "2021-06-29T09:25:00.455908Z"
    }
   },
   "outputs": [],
   "source": [
    "df.loc[(df[\"Age\"] >= q90),\"new_age\"]=\"senior\""
   ]
  },
  {
   "cell_type": "markdown",
   "metadata": {},
   "source": [
    "* İkili değerlere göre risk durumunu kontrol etmek istediğimden ve bunları teker teker yazmak zor olacağından fonksiyon yazıyorum."
   ]
  },
  {
   "cell_type": "code",
   "execution_count": 28,
   "metadata": {
    "execution": {
     "iopub.execute_input": "2021-06-29T09:25:00.469308Z",
     "iopub.status.busy": "2021-06-29T09:25:00.468652Z",
     "iopub.status.idle": "2021-06-29T09:25:00.479190Z",
     "shell.execute_reply": "2021-06-29T09:25:00.478072Z",
     "shell.execute_reply.started": "2021-06-29T09:25:00.469266Z"
    }
   },
   "outputs": [],
   "source": [
    "def twice_col(df,col1,col2):\n",
    "    n=df[col1].unique().tolist()\n",
    "    l=len(n)\n",
    "    n1=df[col2].unique().tolist()\n",
    "    l1=len(n1)\n",
    "    for i in n:\n",
    "        for j in range(l):\n",
    "            for z in n1:\n",
    "                for t in range(l1):\n",
    "                    df.loc[(df[col1] == n[j]) & (df[col2] == n1[t]), str(col1) + \"_\" + str(col2)]=str(n[j]) +\"_\"+ str(n1[t])\n",
    "        "
   ]
  },
  {
   "cell_type": "code",
   "execution_count": 29,
   "metadata": {
    "execution": {
     "iopub.execute_input": "2021-06-29T09:25:00.480615Z",
     "iopub.status.busy": "2021-06-29T09:25:00.480343Z",
     "iopub.status.idle": "2021-06-29T09:25:00.540969Z",
     "shell.execute_reply": "2021-06-29T09:25:00.540030Z",
     "shell.execute_reply.started": "2021-06-29T09:25:00.480588Z"
    }
   },
   "outputs": [],
   "source": [
    "twice_col(df,\"new_age\",\"Sex\")"
   ]
  },
  {
   "cell_type": "code",
   "execution_count": 30,
   "metadata": {
    "execution": {
     "iopub.execute_input": "2021-06-29T09:25:00.544038Z",
     "iopub.status.busy": "2021-06-29T09:25:00.543702Z",
     "iopub.status.idle": "2021-06-29T09:25:00.591280Z",
     "shell.execute_reply": "2021-06-29T09:25:00.590361Z",
     "shell.execute_reply.started": "2021-06-29T09:25:00.543998Z"
    }
   },
   "outputs": [],
   "source": [
    "twice_col(df,\"Sex\",\"Housing\")"
   ]
  },
  {
   "cell_type": "code",
   "execution_count": 31,
   "metadata": {
    "execution": {
     "iopub.execute_input": "2021-06-29T09:25:00.593337Z",
     "iopub.status.busy": "2021-06-29T09:25:00.593055Z",
     "iopub.status.idle": "2021-06-29T09:25:00.701693Z",
     "shell.execute_reply": "2021-06-29T09:25:00.700810Z",
     "shell.execute_reply.started": "2021-06-29T09:25:00.593310Z"
    }
   },
   "outputs": [],
   "source": [
    "twice_col(df,'new_age',\"Housing\")"
   ]
  },
  {
   "cell_type": "code",
   "execution_count": 32,
   "metadata": {
    "execution": {
     "iopub.execute_input": "2021-06-29T09:25:00.703231Z",
     "iopub.status.busy": "2021-06-29T09:25:00.702916Z",
     "iopub.status.idle": "2021-06-29T09:25:00.861766Z",
     "shell.execute_reply": "2021-06-29T09:25:00.860628Z",
     "shell.execute_reply.started": "2021-06-29T09:25:00.703202Z"
    }
   },
   "outputs": [],
   "source": [
    "twice_col(df,\"Job\",\"Housing\")"
   ]
  },
  {
   "cell_type": "markdown",
   "metadata": {},
   "source": [
    "* Job değişkenine ait frekansları saydırıyorum, 4 unique değer olduğunu görüyorum.Herhangi bir işlem yapmamıza gerek yok."
   ]
  },
  {
   "cell_type": "code",
   "execution_count": 33,
   "metadata": {
    "execution": {
     "iopub.execute_input": "2021-06-29T09:25:00.863229Z",
     "iopub.status.busy": "2021-06-29T09:25:00.862932Z",
     "iopub.status.idle": "2021-06-29T09:25:00.870396Z",
     "shell.execute_reply": "2021-06-29T09:25:00.869267Z",
     "shell.execute_reply.started": "2021-06-29T09:25:00.863202Z"
    }
   },
   "outputs": [
    {
     "data": {
      "text/plain": [
       "2    630\n",
       "1    200\n",
       "3    148\n",
       "0     22\n",
       "Name: Job, dtype: int64"
      ]
     },
     "execution_count": 33,
     "metadata": {},
     "output_type": "execute_result"
    }
   ],
   "source": [
    "df[\"Job\"].value_counts()"
   ]
  },
  {
   "cell_type": "markdown",
   "metadata": {},
   "source": [
    "* Kredi ödeme sürelerinde de fazla unique değer olduğundan model için 4 kategoriye ayıralım."
   ]
  },
  {
   "cell_type": "code",
   "execution_count": 34,
   "metadata": {
    "execution": {
     "iopub.execute_input": "2021-06-29T09:25:00.871993Z",
     "iopub.status.busy": "2021-06-29T09:25:00.871599Z",
     "iopub.status.idle": "2021-06-29T09:25:00.884006Z",
     "shell.execute_reply": "2021-06-29T09:25:00.882736Z",
     "shell.execute_reply.started": "2021-06-29T09:25:00.871945Z"
    }
   },
   "outputs": [
    {
     "data": {
      "text/plain": [
       "array([ 6, 48, 12, 42, 24, 36, 30, 15,  9, 10,  7, 60, 18, 45, 11, 27,  8,\n",
       "       54, 20, 14, 33, 21, 16,  4, 47, 13, 22, 39, 28,  5, 26, 72, 40])"
      ]
     },
     "execution_count": 34,
     "metadata": {},
     "output_type": "execute_result"
    }
   ],
   "source": [
    "df[\"Duration\"].unique()"
   ]
  },
  {
   "cell_type": "code",
   "execution_count": 35,
   "metadata": {
    "execution": {
     "iopub.execute_input": "2021-06-29T09:25:00.886096Z",
     "iopub.status.busy": "2021-06-29T09:25:00.885635Z",
     "iopub.status.idle": "2021-06-29T09:25:00.900616Z",
     "shell.execute_reply": "2021-06-29T09:25:00.899630Z",
     "shell.execute_reply.started": "2021-06-29T09:25:00.886046Z"
    }
   },
   "outputs": [
    {
     "data": {
      "text/plain": [
       "count    1000.000000\n",
       "mean       20.903000\n",
       "std        12.058814\n",
       "min         4.000000\n",
       "25%        12.000000\n",
       "50%        18.000000\n",
       "75%        24.000000\n",
       "max        72.000000\n",
       "Name: Duration, dtype: float64"
      ]
     },
     "execution_count": 35,
     "metadata": {},
     "output_type": "execute_result"
    }
   ],
   "source": [
    "df[\"Duration\"].describe().T"
   ]
  },
  {
   "cell_type": "code",
   "execution_count": 36,
   "metadata": {
    "execution": {
     "iopub.execute_input": "2021-06-29T09:25:00.902454Z",
     "iopub.status.busy": "2021-06-29T09:25:00.902149Z",
     "iopub.status.idle": "2021-06-29T09:25:00.917069Z",
     "shell.execute_reply": "2021-06-29T09:25:00.916163Z",
     "shell.execute_reply.started": "2021-06-29T09:25:00.902425Z"
    }
   },
   "outputs": [],
   "source": [
    "df.loc[df[\"Duration\"] < 18,\"new_duration\"]= \"A\"\n",
    "df.loc[(df[\"Duration\"] >= 18) & (df[\"Duration\"] <30),\"new_duration\"]= \"B\"\n",
    "df.loc[(df[\"Duration\"] >= 30) & (df[\"Duration\"] <48),\"new_duration\"]= \"C\"\n",
    "df.loc[df[\"Duration\"] >= 48,\"new_duration\"]= \"D\""
   ]
  },
  {
   "cell_type": "code",
   "execution_count": 37,
   "metadata": {
    "execution": {
     "iopub.execute_input": "2021-06-29T09:25:00.918805Z",
     "iopub.status.busy": "2021-06-29T09:25:00.918498Z",
     "iopub.status.idle": "2021-06-29T09:25:00.941678Z",
     "shell.execute_reply": "2021-06-29T09:25:00.940689Z",
     "shell.execute_reply.started": "2021-06-29T09:25:00.918775Z"
    }
   },
   "outputs": [
    {
     "data": {
      "text/html": [
       "<div>\n",
       "<style scoped>\n",
       "    .dataframe tbody tr th:only-of-type {\n",
       "        vertical-align: middle;\n",
       "    }\n",
       "\n",
       "    .dataframe tbody tr th {\n",
       "        vertical-align: top;\n",
       "    }\n",
       "\n",
       "    .dataframe thead th {\n",
       "        text-align: right;\n",
       "    }\n",
       "</style>\n",
       "<table border=\"1\" class=\"dataframe\">\n",
       "  <thead>\n",
       "    <tr style=\"text-align: right;\">\n",
       "      <th></th>\n",
       "      <th>Age</th>\n",
       "      <th>Sex</th>\n",
       "      <th>Job</th>\n",
       "      <th>Housing</th>\n",
       "      <th>Saving accounts</th>\n",
       "      <th>Checking account</th>\n",
       "      <th>Credit amount</th>\n",
       "      <th>Duration</th>\n",
       "      <th>Purpose</th>\n",
       "      <th>Risk</th>\n",
       "      <th>new_age</th>\n",
       "      <th>new_age_Sex</th>\n",
       "      <th>Sex_Housing</th>\n",
       "      <th>new_age_Housing</th>\n",
       "      <th>Job_Housing</th>\n",
       "      <th>new_duration</th>\n",
       "    </tr>\n",
       "  </thead>\n",
       "  <tbody>\n",
       "    <tr>\n",
       "      <th>0</th>\n",
       "      <td>67</td>\n",
       "      <td>male</td>\n",
       "      <td>2</td>\n",
       "      <td>own</td>\n",
       "      <td>little</td>\n",
       "      <td>little</td>\n",
       "      <td>1169</td>\n",
       "      <td>6</td>\n",
       "      <td>radio/TV</td>\n",
       "      <td>good</td>\n",
       "      <td>senior</td>\n",
       "      <td>senior_male</td>\n",
       "      <td>male_own</td>\n",
       "      <td>senior_own</td>\n",
       "      <td>2_own</td>\n",
       "      <td>A</td>\n",
       "    </tr>\n",
       "    <tr>\n",
       "      <th>1</th>\n",
       "      <td>22</td>\n",
       "      <td>female</td>\n",
       "      <td>2</td>\n",
       "      <td>own</td>\n",
       "      <td>little</td>\n",
       "      <td>moderate</td>\n",
       "      <td>5951</td>\n",
       "      <td>48</td>\n",
       "      <td>radio/TV</td>\n",
       "      <td>bad</td>\n",
       "      <td>young</td>\n",
       "      <td>young_female</td>\n",
       "      <td>female_own</td>\n",
       "      <td>young_own</td>\n",
       "      <td>2_own</td>\n",
       "      <td>D</td>\n",
       "    </tr>\n",
       "    <tr>\n",
       "      <th>2</th>\n",
       "      <td>49</td>\n",
       "      <td>male</td>\n",
       "      <td>1</td>\n",
       "      <td>own</td>\n",
       "      <td>little</td>\n",
       "      <td>little</td>\n",
       "      <td>2096</td>\n",
       "      <td>12</td>\n",
       "      <td>education</td>\n",
       "      <td>good</td>\n",
       "      <td>mature</td>\n",
       "      <td>mature_male</td>\n",
       "      <td>male_own</td>\n",
       "      <td>mature_own</td>\n",
       "      <td>1_own</td>\n",
       "      <td>A</td>\n",
       "    </tr>\n",
       "    <tr>\n",
       "      <th>3</th>\n",
       "      <td>45</td>\n",
       "      <td>male</td>\n",
       "      <td>2</td>\n",
       "      <td>free</td>\n",
       "      <td>little</td>\n",
       "      <td>little</td>\n",
       "      <td>7882</td>\n",
       "      <td>42</td>\n",
       "      <td>furniture/equipment</td>\n",
       "      <td>good</td>\n",
       "      <td>mature</td>\n",
       "      <td>mature_male</td>\n",
       "      <td>male_free</td>\n",
       "      <td>mature_free</td>\n",
       "      <td>2_free</td>\n",
       "      <td>C</td>\n",
       "    </tr>\n",
       "    <tr>\n",
       "      <th>4</th>\n",
       "      <td>53</td>\n",
       "      <td>male</td>\n",
       "      <td>2</td>\n",
       "      <td>free</td>\n",
       "      <td>little</td>\n",
       "      <td>little</td>\n",
       "      <td>4870</td>\n",
       "      <td>24</td>\n",
       "      <td>car</td>\n",
       "      <td>bad</td>\n",
       "      <td>senior</td>\n",
       "      <td>senior_male</td>\n",
       "      <td>male_free</td>\n",
       "      <td>senior_free</td>\n",
       "      <td>2_free</td>\n",
       "      <td>B</td>\n",
       "    </tr>\n",
       "  </tbody>\n",
       "</table>\n",
       "</div>"
      ],
      "text/plain": [
       "   Age     Sex  Job Housing Saving accounts Checking account  Credit amount  \\\n",
       "0   67    male    2     own          little           little           1169   \n",
       "1   22  female    2     own          little         moderate           5951   \n",
       "2   49    male    1     own          little           little           2096   \n",
       "3   45    male    2    free          little           little           7882   \n",
       "4   53    male    2    free          little           little           4870   \n",
       "\n",
       "   Duration              Purpose  Risk new_age   new_age_Sex Sex_Housing  \\\n",
       "0         6             radio/TV  good  senior   senior_male    male_own   \n",
       "1        48             radio/TV   bad   young  young_female  female_own   \n",
       "2        12            education  good  mature   mature_male    male_own   \n",
       "3        42  furniture/equipment  good  mature   mature_male   male_free   \n",
       "4        24                  car   bad  senior   senior_male   male_free   \n",
       "\n",
       "  new_age_Housing Job_Housing new_duration  \n",
       "0      senior_own       2_own            A  \n",
       "1       young_own       2_own            D  \n",
       "2      mature_own       1_own            A  \n",
       "3     mature_free      2_free            C  \n",
       "4     senior_free      2_free            B  "
      ]
     },
     "execution_count": 37,
     "metadata": {},
     "output_type": "execute_result"
    }
   ],
   "source": [
    "df.head()"
   ]
  },
  {
   "cell_type": "code",
   "execution_count": 38,
   "metadata": {
    "execution": {
     "iopub.execute_input": "2021-06-29T09:25:00.943233Z",
     "iopub.status.busy": "2021-06-29T09:25:00.942912Z",
     "iopub.status.idle": "2021-06-29T09:25:00.953161Z",
     "shell.execute_reply": "2021-06-29T09:25:00.951998Z",
     "shell.execute_reply.started": "2021-06-29T09:25:00.943202Z"
    }
   },
   "outputs": [
    {
     "data": {
      "text/plain": [
       "count     1000.000000\n",
       "mean      3271.258000\n",
       "std       2822.736876\n",
       "min        250.000000\n",
       "25%       1365.500000\n",
       "50%       2319.500000\n",
       "75%       3972.250000\n",
       "max      18424.000000\n",
       "Name: Credit amount, dtype: float64"
      ]
     },
     "execution_count": 38,
     "metadata": {},
     "output_type": "execute_result"
    }
   ],
   "source": [
    "df[\"Credit amount\"].describe().T"
   ]
  },
  {
   "cell_type": "markdown",
   "metadata": {},
   "source": [
    "* Kredi ödeme miktarlarında da aynı şekilde birçok unique değer olduğundan kategorize ediyorum."
   ]
  },
  {
   "cell_type": "code",
   "execution_count": 39,
   "metadata": {
    "execution": {
     "iopub.execute_input": "2021-06-29T09:25:00.954753Z",
     "iopub.status.busy": "2021-06-29T09:25:00.954459Z",
     "iopub.status.idle": "2021-06-29T09:25:00.968227Z",
     "shell.execute_reply": "2021-06-29T09:25:00.967063Z",
     "shell.execute_reply.started": "2021-06-29T09:25:00.954726Z"
    }
   },
   "outputs": [],
   "source": [
    "q25 = df[\"Credit amount\"].quantile(0.25)\n",
    "q50 = df[\"Credit amount\"].quantile(0.50)\n",
    "q75 = df[\"Credit amount\"].quantile(0.75)"
   ]
  },
  {
   "cell_type": "code",
   "execution_count": 40,
   "metadata": {
    "execution": {
     "iopub.execute_input": "2021-06-29T09:25:00.970343Z",
     "iopub.status.busy": "2021-06-29T09:25:00.969906Z",
     "iopub.status.idle": "2021-06-29T09:25:00.982097Z",
     "shell.execute_reply": "2021-06-29T09:25:00.981032Z",
     "shell.execute_reply.started": "2021-06-29T09:25:00.970255Z"
    }
   },
   "outputs": [],
   "source": [
    "df.loc[(df[\"Credit amount\"] < q25),\"new_Credit_amount\"]=\"A\""
   ]
  },
  {
   "cell_type": "code",
   "execution_count": 41,
   "metadata": {
    "execution": {
     "iopub.execute_input": "2021-06-29T09:25:00.984312Z",
     "iopub.status.busy": "2021-06-29T09:25:00.983794Z",
     "iopub.status.idle": "2021-06-29T09:25:00.998302Z",
     "shell.execute_reply": "2021-06-29T09:25:00.997066Z",
     "shell.execute_reply.started": "2021-06-29T09:25:00.984261Z"
    }
   },
   "outputs": [],
   "source": [
    "df.loc[(df[\"Credit amount\"] >= q25) & (df[\"Duration\"] < q50),\"new_Credit_amount\"]= \"B\""
   ]
  },
  {
   "cell_type": "code",
   "execution_count": 42,
   "metadata": {
    "execution": {
     "iopub.execute_input": "2021-06-29T09:25:01.000600Z",
     "iopub.status.busy": "2021-06-29T09:25:01.000086Z",
     "iopub.status.idle": "2021-06-29T09:25:01.013881Z",
     "shell.execute_reply": "2021-06-29T09:25:01.012395Z",
     "shell.execute_reply.started": "2021-06-29T09:25:01.000543Z"
    }
   },
   "outputs": [],
   "source": [
    "df.loc[(df[\"Credit amount\"] >= q50) & (df[\"Duration\"] < q75),\"new_Credit_amount\"]= \"C\""
   ]
  },
  {
   "cell_type": "code",
   "execution_count": 43,
   "metadata": {
    "execution": {
     "iopub.execute_input": "2021-06-29T09:25:01.016078Z",
     "iopub.status.busy": "2021-06-29T09:25:01.015711Z",
     "iopub.status.idle": "2021-06-29T09:25:01.026068Z",
     "shell.execute_reply": "2021-06-29T09:25:01.025192Z",
     "shell.execute_reply.started": "2021-06-29T09:25:01.016043Z"
    }
   },
   "outputs": [],
   "source": [
    "df.loc[(df[\"Credit amount\"] >= q75),\"new_Credit_amount\"]= \"D\""
   ]
  },
  {
   "cell_type": "code",
   "execution_count": 44,
   "metadata": {
    "execution": {
     "iopub.execute_input": "2021-06-29T09:25:01.027636Z",
     "iopub.status.busy": "2021-06-29T09:25:01.027225Z",
     "iopub.status.idle": "2021-06-29T09:25:01.057401Z",
     "shell.execute_reply": "2021-06-29T09:25:01.056404Z",
     "shell.execute_reply.started": "2021-06-29T09:25:01.027606Z"
    }
   },
   "outputs": [
    {
     "data": {
      "text/html": [
       "<div>\n",
       "<style scoped>\n",
       "    .dataframe tbody tr th:only-of-type {\n",
       "        vertical-align: middle;\n",
       "    }\n",
       "\n",
       "    .dataframe tbody tr th {\n",
       "        vertical-align: top;\n",
       "    }\n",
       "\n",
       "    .dataframe thead th {\n",
       "        text-align: right;\n",
       "    }\n",
       "</style>\n",
       "<table border=\"1\" class=\"dataframe\">\n",
       "  <thead>\n",
       "    <tr style=\"text-align: right;\">\n",
       "      <th></th>\n",
       "      <th>Age</th>\n",
       "      <th>Sex</th>\n",
       "      <th>Job</th>\n",
       "      <th>Housing</th>\n",
       "      <th>Saving accounts</th>\n",
       "      <th>Checking account</th>\n",
       "      <th>Credit amount</th>\n",
       "      <th>Duration</th>\n",
       "      <th>Purpose</th>\n",
       "      <th>Risk</th>\n",
       "      <th>new_age</th>\n",
       "      <th>new_age_Sex</th>\n",
       "      <th>Sex_Housing</th>\n",
       "      <th>new_age_Housing</th>\n",
       "      <th>Job_Housing</th>\n",
       "      <th>new_duration</th>\n",
       "      <th>new_Credit_amount</th>\n",
       "    </tr>\n",
       "  </thead>\n",
       "  <tbody>\n",
       "    <tr>\n",
       "      <th>0</th>\n",
       "      <td>67</td>\n",
       "      <td>male</td>\n",
       "      <td>2</td>\n",
       "      <td>own</td>\n",
       "      <td>little</td>\n",
       "      <td>little</td>\n",
       "      <td>1169</td>\n",
       "      <td>6</td>\n",
       "      <td>radio/TV</td>\n",
       "      <td>good</td>\n",
       "      <td>senior</td>\n",
       "      <td>senior_male</td>\n",
       "      <td>male_own</td>\n",
       "      <td>senior_own</td>\n",
       "      <td>2_own</td>\n",
       "      <td>A</td>\n",
       "      <td>A</td>\n",
       "    </tr>\n",
       "    <tr>\n",
       "      <th>1</th>\n",
       "      <td>22</td>\n",
       "      <td>female</td>\n",
       "      <td>2</td>\n",
       "      <td>own</td>\n",
       "      <td>little</td>\n",
       "      <td>moderate</td>\n",
       "      <td>5951</td>\n",
       "      <td>48</td>\n",
       "      <td>radio/TV</td>\n",
       "      <td>bad</td>\n",
       "      <td>young</td>\n",
       "      <td>young_female</td>\n",
       "      <td>female_own</td>\n",
       "      <td>young_own</td>\n",
       "      <td>2_own</td>\n",
       "      <td>D</td>\n",
       "      <td>D</td>\n",
       "    </tr>\n",
       "    <tr>\n",
       "      <th>2</th>\n",
       "      <td>49</td>\n",
       "      <td>male</td>\n",
       "      <td>1</td>\n",
       "      <td>own</td>\n",
       "      <td>little</td>\n",
       "      <td>little</td>\n",
       "      <td>2096</td>\n",
       "      <td>12</td>\n",
       "      <td>education</td>\n",
       "      <td>good</td>\n",
       "      <td>mature</td>\n",
       "      <td>mature_male</td>\n",
       "      <td>male_own</td>\n",
       "      <td>mature_own</td>\n",
       "      <td>1_own</td>\n",
       "      <td>A</td>\n",
       "      <td>B</td>\n",
       "    </tr>\n",
       "    <tr>\n",
       "      <th>3</th>\n",
       "      <td>45</td>\n",
       "      <td>male</td>\n",
       "      <td>2</td>\n",
       "      <td>free</td>\n",
       "      <td>little</td>\n",
       "      <td>little</td>\n",
       "      <td>7882</td>\n",
       "      <td>42</td>\n",
       "      <td>furniture/equipment</td>\n",
       "      <td>good</td>\n",
       "      <td>mature</td>\n",
       "      <td>mature_male</td>\n",
       "      <td>male_free</td>\n",
       "      <td>mature_free</td>\n",
       "      <td>2_free</td>\n",
       "      <td>C</td>\n",
       "      <td>D</td>\n",
       "    </tr>\n",
       "    <tr>\n",
       "      <th>4</th>\n",
       "      <td>53</td>\n",
       "      <td>male</td>\n",
       "      <td>2</td>\n",
       "      <td>free</td>\n",
       "      <td>little</td>\n",
       "      <td>little</td>\n",
       "      <td>4870</td>\n",
       "      <td>24</td>\n",
       "      <td>car</td>\n",
       "      <td>bad</td>\n",
       "      <td>senior</td>\n",
       "      <td>senior_male</td>\n",
       "      <td>male_free</td>\n",
       "      <td>senior_free</td>\n",
       "      <td>2_free</td>\n",
       "      <td>B</td>\n",
       "      <td>D</td>\n",
       "    </tr>\n",
       "  </tbody>\n",
       "</table>\n",
       "</div>"
      ],
      "text/plain": [
       "   Age     Sex  Job Housing Saving accounts Checking account  Credit amount  \\\n",
       "0   67    male    2     own          little           little           1169   \n",
       "1   22  female    2     own          little         moderate           5951   \n",
       "2   49    male    1     own          little           little           2096   \n",
       "3   45    male    2    free          little           little           7882   \n",
       "4   53    male    2    free          little           little           4870   \n",
       "\n",
       "   Duration              Purpose  Risk new_age   new_age_Sex Sex_Housing  \\\n",
       "0         6             radio/TV  good  senior   senior_male    male_own   \n",
       "1        48             radio/TV   bad   young  young_female  female_own   \n",
       "2        12            education  good  mature   mature_male    male_own   \n",
       "3        42  furniture/equipment  good  mature   mature_male   male_free   \n",
       "4        24                  car   bad  senior   senior_male   male_free   \n",
       "\n",
       "  new_age_Housing Job_Housing new_duration new_Credit_amount  \n",
       "0      senior_own       2_own            A                 A  \n",
       "1       young_own       2_own            D                 D  \n",
       "2      mature_own       1_own            A                 B  \n",
       "3     mature_free      2_free            C                 D  \n",
       "4     senior_free      2_free            B                 D  "
      ]
     },
     "execution_count": 44,
     "metadata": {},
     "output_type": "execute_result"
    }
   ],
   "source": [
    "df.head()"
   ]
  },
  {
   "cell_type": "code",
   "execution_count": 45,
   "metadata": {
    "execution": {
     "iopub.execute_input": "2021-06-29T09:25:01.059103Z",
     "iopub.status.busy": "2021-06-29T09:25:01.058696Z",
     "iopub.status.idle": "2021-06-29T09:25:01.070739Z",
     "shell.execute_reply": "2021-06-29T09:25:01.069770Z",
     "shell.execute_reply.started": "2021-06-29T09:25:01.059057Z"
    }
   },
   "outputs": [
    {
     "data": {
      "text/plain": [
       "array(['good', 'bad'], dtype=object)"
      ]
     },
     "execution_count": 45,
     "metadata": {},
     "output_type": "execute_result"
    }
   ],
   "source": [
    "df[\"Risk\"].unique()"
   ]
  },
  {
   "cell_type": "markdown",
   "metadata": {},
   "source": [
    "### 4-Encoding"
   ]
  },
  {
   "cell_type": "markdown",
   "metadata": {},
   "source": [
    "* Label encoder, kategorik değişkenleri numerik değişkenlere dönüştürmemizi sağlayan metottur.Risk de yukarıda görüldüğü gibi good ve bad olarak kategorize edilmiş bu yüzden 0 ve 1'e çevireceğiz."
   ]
  },
  {
   "cell_type": "code",
   "execution_count": 46,
   "metadata": {
    "execution": {
     "iopub.execute_input": "2021-06-29T09:25:01.072079Z",
     "iopub.status.busy": "2021-06-29T09:25:01.071794Z",
     "iopub.status.idle": "2021-06-29T09:25:02.040507Z",
     "shell.execute_reply": "2021-06-29T09:25:02.039244Z",
     "shell.execute_reply.started": "2021-06-29T09:25:01.072053Z"
    }
   },
   "outputs": [],
   "source": [
    "from sklearn.preprocessing import LabelEncoder"
   ]
  },
  {
   "cell_type": "code",
   "execution_count": 78,
   "metadata": {
    "execution": {
     "iopub.execute_input": "2021-06-29T09:28:08.241323Z",
     "iopub.status.busy": "2021-06-29T09:28:08.240903Z",
     "iopub.status.idle": "2021-06-29T09:28:08.246895Z",
     "shell.execute_reply": "2021-06-29T09:28:08.245688Z",
     "shell.execute_reply.started": "2021-06-29T09:28:08.241291Z"
    }
   },
   "outputs": [],
   "source": [
    "labelencoder = LabelEncoder()\n",
    "df[\"Risk\"] = labelencoder.fit_transform(df[\"Risk\"])"
   ]
  },
  {
   "cell_type": "code",
   "execution_count": 49,
   "metadata": {
    "execution": {
     "iopub.execute_input": "2021-06-29T09:25:02.064276Z",
     "iopub.status.busy": "2021-06-29T09:25:02.063852Z",
     "iopub.status.idle": "2021-06-29T09:25:02.099933Z",
     "shell.execute_reply": "2021-06-29T09:25:02.098744Z",
     "shell.execute_reply.started": "2021-06-29T09:25:02.064231Z"
    }
   },
   "outputs": [
    {
     "data": {
      "text/html": [
       "<div>\n",
       "<style scoped>\n",
       "    .dataframe tbody tr th:only-of-type {\n",
       "        vertical-align: middle;\n",
       "    }\n",
       "\n",
       "    .dataframe tbody tr th {\n",
       "        vertical-align: top;\n",
       "    }\n",
       "\n",
       "    .dataframe thead th {\n",
       "        text-align: right;\n",
       "    }\n",
       "</style>\n",
       "<table border=\"1\" class=\"dataframe\">\n",
       "  <thead>\n",
       "    <tr style=\"text-align: right;\">\n",
       "      <th></th>\n",
       "      <th>Age</th>\n",
       "      <th>Sex</th>\n",
       "      <th>Job</th>\n",
       "      <th>Housing</th>\n",
       "      <th>Saving accounts</th>\n",
       "      <th>Checking account</th>\n",
       "      <th>Credit amount</th>\n",
       "      <th>Duration</th>\n",
       "      <th>Purpose</th>\n",
       "      <th>Risk</th>\n",
       "      <th>new_age</th>\n",
       "      <th>new_age_Sex</th>\n",
       "      <th>Sex_Housing</th>\n",
       "      <th>new_age_Housing</th>\n",
       "      <th>Job_Housing</th>\n",
       "      <th>new_duration</th>\n",
       "      <th>new_Credit_amount</th>\n",
       "    </tr>\n",
       "  </thead>\n",
       "  <tbody>\n",
       "    <tr>\n",
       "      <th>0</th>\n",
       "      <td>67</td>\n",
       "      <td>male</td>\n",
       "      <td>2</td>\n",
       "      <td>own</td>\n",
       "      <td>little</td>\n",
       "      <td>little</td>\n",
       "      <td>1169</td>\n",
       "      <td>6</td>\n",
       "      <td>radio/TV</td>\n",
       "      <td>1</td>\n",
       "      <td>senior</td>\n",
       "      <td>senior_male</td>\n",
       "      <td>male_own</td>\n",
       "      <td>senior_own</td>\n",
       "      <td>2_own</td>\n",
       "      <td>A</td>\n",
       "      <td>A</td>\n",
       "    </tr>\n",
       "    <tr>\n",
       "      <th>1</th>\n",
       "      <td>22</td>\n",
       "      <td>female</td>\n",
       "      <td>2</td>\n",
       "      <td>own</td>\n",
       "      <td>little</td>\n",
       "      <td>moderate</td>\n",
       "      <td>5951</td>\n",
       "      <td>48</td>\n",
       "      <td>radio/TV</td>\n",
       "      <td>0</td>\n",
       "      <td>young</td>\n",
       "      <td>young_female</td>\n",
       "      <td>female_own</td>\n",
       "      <td>young_own</td>\n",
       "      <td>2_own</td>\n",
       "      <td>D</td>\n",
       "      <td>D</td>\n",
       "    </tr>\n",
       "    <tr>\n",
       "      <th>2</th>\n",
       "      <td>49</td>\n",
       "      <td>male</td>\n",
       "      <td>1</td>\n",
       "      <td>own</td>\n",
       "      <td>little</td>\n",
       "      <td>little</td>\n",
       "      <td>2096</td>\n",
       "      <td>12</td>\n",
       "      <td>education</td>\n",
       "      <td>1</td>\n",
       "      <td>mature</td>\n",
       "      <td>mature_male</td>\n",
       "      <td>male_own</td>\n",
       "      <td>mature_own</td>\n",
       "      <td>1_own</td>\n",
       "      <td>A</td>\n",
       "      <td>B</td>\n",
       "    </tr>\n",
       "    <tr>\n",
       "      <th>3</th>\n",
       "      <td>45</td>\n",
       "      <td>male</td>\n",
       "      <td>2</td>\n",
       "      <td>free</td>\n",
       "      <td>little</td>\n",
       "      <td>little</td>\n",
       "      <td>7882</td>\n",
       "      <td>42</td>\n",
       "      <td>furniture/equipment</td>\n",
       "      <td>1</td>\n",
       "      <td>mature</td>\n",
       "      <td>mature_male</td>\n",
       "      <td>male_free</td>\n",
       "      <td>mature_free</td>\n",
       "      <td>2_free</td>\n",
       "      <td>C</td>\n",
       "      <td>D</td>\n",
       "    </tr>\n",
       "    <tr>\n",
       "      <th>4</th>\n",
       "      <td>53</td>\n",
       "      <td>male</td>\n",
       "      <td>2</td>\n",
       "      <td>free</td>\n",
       "      <td>little</td>\n",
       "      <td>little</td>\n",
       "      <td>4870</td>\n",
       "      <td>24</td>\n",
       "      <td>car</td>\n",
       "      <td>0</td>\n",
       "      <td>senior</td>\n",
       "      <td>senior_male</td>\n",
       "      <td>male_free</td>\n",
       "      <td>senior_free</td>\n",
       "      <td>2_free</td>\n",
       "      <td>B</td>\n",
       "      <td>D</td>\n",
       "    </tr>\n",
       "  </tbody>\n",
       "</table>\n",
       "</div>"
      ],
      "text/plain": [
       "   Age     Sex  Job Housing Saving accounts Checking account  Credit amount  \\\n",
       "0   67    male    2     own          little           little           1169   \n",
       "1   22  female    2     own          little         moderate           5951   \n",
       "2   49    male    1     own          little           little           2096   \n",
       "3   45    male    2    free          little           little           7882   \n",
       "4   53    male    2    free          little           little           4870   \n",
       "\n",
       "   Duration              Purpose  Risk new_age   new_age_Sex Sex_Housing  \\\n",
       "0         6             radio/TV     1  senior   senior_male    male_own   \n",
       "1        48             radio/TV     0   young  young_female  female_own   \n",
       "2        12            education     1  mature   mature_male    male_own   \n",
       "3        42  furniture/equipment     1  mature   mature_male   male_free   \n",
       "4        24                  car     0  senior   senior_male   male_free   \n",
       "\n",
       "  new_age_Housing Job_Housing new_duration new_Credit_amount  \n",
       "0      senior_own       2_own            A                 A  \n",
       "1       young_own       2_own            D                 D  \n",
       "2      mature_own       1_own            A                 B  \n",
       "3     mature_free      2_free            C                 D  \n",
       "4     senior_free      2_free            B                 D  "
      ]
     },
     "execution_count": 49,
     "metadata": {},
     "output_type": "execute_result"
    }
   ],
   "source": [
    "df.head()"
   ]
  },
  {
   "cell_type": "markdown",
   "metadata": {},
   "source": [
    "* Oluşturduğumuz kategorilere göre risk ortalamasına bakmak istiyoruz, bunun için aşağıdaki gibi bir fonksiyon oluşturdum."
   ]
  },
  {
   "cell_type": "code",
   "execution_count": 50,
   "metadata": {
    "execution": {
     "iopub.execute_input": "2021-06-29T09:25:02.103262Z",
     "iopub.status.busy": "2021-06-29T09:25:02.102759Z",
     "iopub.status.idle": "2021-06-29T09:25:02.113194Z",
     "shell.execute_reply": "2021-06-29T09:25:02.112282Z",
     "shell.execute_reply.started": "2021-06-29T09:25:02.103212Z"
    }
   },
   "outputs": [],
   "source": [
    "def meann(df,b):\n",
    "    a={}\n",
    "    for i in b:\n",
    "        a[i]=df.groupby(i)[\"Risk\"].mean()\n",
    "        c=print(a,\"/n\")\n",
    "    return c   "
   ]
  },
  {
   "cell_type": "code",
   "execution_count": 51,
   "metadata": {
    "execution": {
     "iopub.execute_input": "2021-06-29T09:25:02.115395Z",
     "iopub.status.busy": "2021-06-29T09:25:02.114686Z",
     "iopub.status.idle": "2021-06-29T09:25:02.125476Z",
     "shell.execute_reply": "2021-06-29T09:25:02.124380Z",
     "shell.execute_reply.started": "2021-06-29T09:25:02.115347Z"
    }
   },
   "outputs": [],
   "source": [
    "b=['Sex_Housing','new_age_Housing','Job_Housing','new_age_Sex']"
   ]
  },
  {
   "cell_type": "code",
   "execution_count": 52,
   "metadata": {
    "execution": {
     "iopub.execute_input": "2021-06-29T09:25:02.127457Z",
     "iopub.status.busy": "2021-06-29T09:25:02.126867Z",
     "iopub.status.idle": "2021-06-29T09:25:02.152900Z",
     "shell.execute_reply": "2021-06-29T09:25:02.151824Z",
     "shell.execute_reply.started": "2021-06-29T09:25:02.127411Z"
    }
   },
   "outputs": [
    {
     "name": "stdout",
     "output_type": "stream",
     "text": [
      "{'Sex_Housing': Sex_Housing\n",
      "female_free    0.421053\n",
      "female_own     0.698980\n",
      "female_rent    0.589474\n",
      "male_free      0.629213\n",
      "male_own       0.754352\n",
      "male_rent      0.630952\n",
      "Name: Risk, dtype: float64} /n\n",
      "{'Sex_Housing': Sex_Housing\n",
      "female_free    0.421053\n",
      "female_own     0.698980\n",
      "female_rent    0.589474\n",
      "male_free      0.629213\n",
      "male_own       0.754352\n",
      "male_rent      0.630952\n",
      "Name: Risk, dtype: float64, 'new_age_Housing': new_age_Housing\n",
      "mature_free    0.600000\n",
      "mature_own     0.766932\n",
      "mature_rent    0.628205\n",
      "senior_free    0.571429\n",
      "senior_own     0.791045\n",
      "senior_rent    0.600000\n",
      "young_free     0.600000\n",
      "young_own      0.618056\n",
      "young_rent     0.593407\n",
      "Name: Risk, dtype: float64} /n\n",
      "{'Sex_Housing': Sex_Housing\n",
      "female_free    0.421053\n",
      "female_own     0.698980\n",
      "female_rent    0.589474\n",
      "male_free      0.629213\n",
      "male_own       0.754352\n",
      "male_rent      0.630952\n",
      "Name: Risk, dtype: float64, 'new_age_Housing': new_age_Housing\n",
      "mature_free    0.600000\n",
      "mature_own     0.766932\n",
      "mature_rent    0.628205\n",
      "senior_free    0.571429\n",
      "senior_own     0.791045\n",
      "senior_rent    0.600000\n",
      "young_free     0.600000\n",
      "young_own      0.618056\n",
      "young_rent     0.593407\n",
      "Name: Risk, dtype: float64, 'Job_Housing': Job_Housing\n",
      "0_free    0.750000\n",
      "0_own     0.692308\n",
      "0_rent    0.600000\n",
      "1_free    0.375000\n",
      "1_own     0.753247\n",
      "1_rent    0.657895\n",
      "2_free    0.571429\n",
      "2_own     0.756637\n",
      "2_rent    0.573913\n",
      "3_free    0.666667\n",
      "3_own     0.638298\n",
      "3_rent    0.714286\n",
      "Name: Risk, dtype: float64} /n\n",
      "{'Sex_Housing': Sex_Housing\n",
      "female_free    0.421053\n",
      "female_own     0.698980\n",
      "female_rent    0.589474\n",
      "male_free      0.629213\n",
      "male_own       0.754352\n",
      "male_rent      0.630952\n",
      "Name: Risk, dtype: float64, 'new_age_Housing': new_age_Housing\n",
      "mature_free    0.600000\n",
      "mature_own     0.766932\n",
      "mature_rent    0.628205\n",
      "senior_free    0.571429\n",
      "senior_own     0.791045\n",
      "senior_rent    0.600000\n",
      "young_free     0.600000\n",
      "young_own      0.618056\n",
      "young_rent     0.593407\n",
      "Name: Risk, dtype: float64, 'Job_Housing': Job_Housing\n",
      "0_free    0.750000\n",
      "0_own     0.692308\n",
      "0_rent    0.600000\n",
      "1_free    0.375000\n",
      "1_own     0.753247\n",
      "1_rent    0.657895\n",
      "2_free    0.571429\n",
      "2_own     0.756637\n",
      "2_rent    0.573913\n",
      "3_free    0.666667\n",
      "3_own     0.638298\n",
      "3_rent    0.714286\n",
      "Name: Risk, dtype: float64, 'new_age_Sex': new_age_Sex\n",
      "mature_female    0.682119\n",
      "mature_male      0.746032\n",
      "senior_female    0.794118\n",
      "senior_male      0.676056\n",
      "young_female     0.568000\n",
      "young_male       0.652174\n",
      "Name: Risk, dtype: float64} /n\n"
     ]
    }
   ],
   "source": [
    "#0 riskli olma durumu 1 olmama durumunu ifade ediyor.\n",
    "#Örneğin female_free(kadın ve evsiz)'nin risk durumu yüksek mantıken kredisini de ödeyememesini bekleriz \n",
    "#female_own ise(kendi evi olan ve kadın) 'nın 1'e daha yakın yani kendi evi olan birinin\n",
    "# kredisini ödemesini bekleriz\n",
    "meann(df,b)"
   ]
  },
  {
   "cell_type": "markdown",
   "metadata": {},
   "source": [
    "* Model için kategorik,numerik ve kategorik görünen fakat kardinal olan column'ları getiriyoruz."
   ]
  },
  {
   "cell_type": "code",
   "execution_count": 54,
   "metadata": {
    "execution": {
     "iopub.execute_input": "2021-06-29T09:25:02.166923Z",
     "iopub.status.busy": "2021-06-29T09:25:02.166356Z",
     "iopub.status.idle": "2021-06-29T09:25:02.195679Z",
     "shell.execute_reply": "2021-06-29T09:25:02.194903Z",
     "shell.execute_reply.started": "2021-06-29T09:25:02.166879Z"
    }
   },
   "outputs": [],
   "source": [
    "cat_cols, num_cols, cat_but_car=grab_col_names(df, cat_th=10, car_th=20)"
   ]
  },
  {
   "cell_type": "code",
   "execution_count": 55,
   "metadata": {
    "execution": {
     "iopub.execute_input": "2021-06-29T09:25:02.197088Z",
     "iopub.status.busy": "2021-06-29T09:25:02.196638Z",
     "iopub.status.idle": "2021-06-29T09:25:02.201571Z",
     "shell.execute_reply": "2021-06-29T09:25:02.200918Z",
     "shell.execute_reply.started": "2021-06-29T09:25:02.197059Z"
    }
   },
   "outputs": [
    {
     "data": {
      "text/plain": [
       "['Sex',\n",
       " 'Housing',\n",
       " 'Saving accounts',\n",
       " 'Checking account',\n",
       " 'Purpose',\n",
       " 'new_age',\n",
       " 'new_age_Sex',\n",
       " 'Sex_Housing',\n",
       " 'new_age_Housing',\n",
       " 'Job_Housing',\n",
       " 'new_duration',\n",
       " 'new_Credit_amount',\n",
       " 'Job',\n",
       " 'Risk']"
      ]
     },
     "execution_count": 55,
     "metadata": {},
     "output_type": "execute_result"
    }
   ],
   "source": [
    "cat_cols"
   ]
  },
  {
   "cell_type": "code",
   "execution_count": 56,
   "metadata": {
    "execution": {
     "iopub.execute_input": "2021-06-29T09:25:02.203043Z",
     "iopub.status.busy": "2021-06-29T09:25:02.202641Z",
     "iopub.status.idle": "2021-06-29T09:25:02.217807Z",
     "shell.execute_reply": "2021-06-29T09:25:02.217067Z",
     "shell.execute_reply.started": "2021-06-29T09:25:02.203014Z"
    }
   },
   "outputs": [
    {
     "data": {
      "text/plain": [
       "['Age', 'Credit amount', 'Duration']"
      ]
     },
     "execution_count": 56,
     "metadata": {},
     "output_type": "execute_result"
    }
   ],
   "source": [
    "num_cols"
   ]
  },
  {
   "cell_type": "code",
   "execution_count": 57,
   "metadata": {
    "execution": {
     "iopub.execute_input": "2021-06-29T09:25:02.219290Z",
     "iopub.status.busy": "2021-06-29T09:25:02.218836Z",
     "iopub.status.idle": "2021-06-29T09:25:02.232888Z",
     "shell.execute_reply": "2021-06-29T09:25:02.231871Z",
     "shell.execute_reply.started": "2021-06-29T09:25:02.219257Z"
    }
   },
   "outputs": [
    {
     "data": {
      "text/plain": [
       "[]"
      ]
     },
     "execution_count": 57,
     "metadata": {},
     "output_type": "execute_result"
    }
   ],
   "source": [
    "cat_but_car"
   ]
  },
  {
   "cell_type": "markdown",
   "metadata": {},
   "source": [
    "* Burada ise tüm columnlarda gezilmesini, iki eşsiz sınıfa sahip olan ama int ve float olmayan columnları döndürmesini istiyoruz.Dönen columnlar kategorik olduğundan da label encoder ile numerik'e çeviriyoruz."
   ]
  },
  {
   "cell_type": "code",
   "execution_count": 58,
   "metadata": {
    "execution": {
     "iopub.execute_input": "2021-06-29T09:25:02.234539Z",
     "iopub.status.busy": "2021-06-29T09:25:02.234233Z",
     "iopub.status.idle": "2021-06-29T09:25:02.252209Z",
     "shell.execute_reply": "2021-06-29T09:25:02.251119Z",
     "shell.execute_reply.started": "2021-06-29T09:25:02.234506Z"
    }
   },
   "outputs": [],
   "source": [
    "binary_cols = [col for col in df.columns if df[col].dtype not in [int, float]\n",
    "               and df[col].nunique() == 2]\n",
    "\n",
    "for col in binary_cols:\n",
    "    df = label_encoder(df, col)"
   ]
  },
  {
   "cell_type": "code",
   "execution_count": 59,
   "metadata": {
    "execution": {
     "iopub.execute_input": "2021-06-29T09:25:02.254018Z",
     "iopub.status.busy": "2021-06-29T09:25:02.253528Z",
     "iopub.status.idle": "2021-06-29T09:25:02.260679Z",
     "shell.execute_reply": "2021-06-29T09:25:02.259600Z",
     "shell.execute_reply.started": "2021-06-29T09:25:02.253972Z"
    }
   },
   "outputs": [
    {
     "data": {
      "text/plain": [
       "['Sex']"
      ]
     },
     "execution_count": 59,
     "metadata": {},
     "output_type": "execute_result"
    }
   ],
   "source": [
    "binary_cols"
   ]
  },
  {
   "cell_type": "code",
   "execution_count": 60,
   "metadata": {
    "execution": {
     "iopub.execute_input": "2021-06-29T09:25:02.262645Z",
     "iopub.status.busy": "2021-06-29T09:25:02.262227Z",
     "iopub.status.idle": "2021-06-29T09:25:02.287515Z",
     "shell.execute_reply": "2021-06-29T09:25:02.286501Z",
     "shell.execute_reply.started": "2021-06-29T09:25:02.262599Z"
    }
   },
   "outputs": [
    {
     "data": {
      "text/html": [
       "<div>\n",
       "<style scoped>\n",
       "    .dataframe tbody tr th:only-of-type {\n",
       "        vertical-align: middle;\n",
       "    }\n",
       "\n",
       "    .dataframe tbody tr th {\n",
       "        vertical-align: top;\n",
       "    }\n",
       "\n",
       "    .dataframe thead th {\n",
       "        text-align: right;\n",
       "    }\n",
       "</style>\n",
       "<table border=\"1\" class=\"dataframe\">\n",
       "  <thead>\n",
       "    <tr style=\"text-align: right;\">\n",
       "      <th></th>\n",
       "      <th>Age</th>\n",
       "      <th>Sex</th>\n",
       "      <th>Job</th>\n",
       "      <th>Housing</th>\n",
       "      <th>Saving accounts</th>\n",
       "      <th>Checking account</th>\n",
       "      <th>Credit amount</th>\n",
       "      <th>Duration</th>\n",
       "      <th>Purpose</th>\n",
       "      <th>Risk</th>\n",
       "      <th>new_age</th>\n",
       "      <th>new_age_Sex</th>\n",
       "      <th>Sex_Housing</th>\n",
       "      <th>new_age_Housing</th>\n",
       "      <th>Job_Housing</th>\n",
       "      <th>new_duration</th>\n",
       "      <th>new_Credit_amount</th>\n",
       "    </tr>\n",
       "  </thead>\n",
       "  <tbody>\n",
       "    <tr>\n",
       "      <th>0</th>\n",
       "      <td>67</td>\n",
       "      <td>1</td>\n",
       "      <td>2</td>\n",
       "      <td>own</td>\n",
       "      <td>little</td>\n",
       "      <td>little</td>\n",
       "      <td>1169</td>\n",
       "      <td>6</td>\n",
       "      <td>radio/TV</td>\n",
       "      <td>1</td>\n",
       "      <td>senior</td>\n",
       "      <td>senior_male</td>\n",
       "      <td>male_own</td>\n",
       "      <td>senior_own</td>\n",
       "      <td>2_own</td>\n",
       "      <td>A</td>\n",
       "      <td>A</td>\n",
       "    </tr>\n",
       "    <tr>\n",
       "      <th>1</th>\n",
       "      <td>22</td>\n",
       "      <td>0</td>\n",
       "      <td>2</td>\n",
       "      <td>own</td>\n",
       "      <td>little</td>\n",
       "      <td>moderate</td>\n",
       "      <td>5951</td>\n",
       "      <td>48</td>\n",
       "      <td>radio/TV</td>\n",
       "      <td>0</td>\n",
       "      <td>young</td>\n",
       "      <td>young_female</td>\n",
       "      <td>female_own</td>\n",
       "      <td>young_own</td>\n",
       "      <td>2_own</td>\n",
       "      <td>D</td>\n",
       "      <td>D</td>\n",
       "    </tr>\n",
       "    <tr>\n",
       "      <th>2</th>\n",
       "      <td>49</td>\n",
       "      <td>1</td>\n",
       "      <td>1</td>\n",
       "      <td>own</td>\n",
       "      <td>little</td>\n",
       "      <td>little</td>\n",
       "      <td>2096</td>\n",
       "      <td>12</td>\n",
       "      <td>education</td>\n",
       "      <td>1</td>\n",
       "      <td>mature</td>\n",
       "      <td>mature_male</td>\n",
       "      <td>male_own</td>\n",
       "      <td>mature_own</td>\n",
       "      <td>1_own</td>\n",
       "      <td>A</td>\n",
       "      <td>B</td>\n",
       "    </tr>\n",
       "    <tr>\n",
       "      <th>3</th>\n",
       "      <td>45</td>\n",
       "      <td>1</td>\n",
       "      <td>2</td>\n",
       "      <td>free</td>\n",
       "      <td>little</td>\n",
       "      <td>little</td>\n",
       "      <td>7882</td>\n",
       "      <td>42</td>\n",
       "      <td>furniture/equipment</td>\n",
       "      <td>1</td>\n",
       "      <td>mature</td>\n",
       "      <td>mature_male</td>\n",
       "      <td>male_free</td>\n",
       "      <td>mature_free</td>\n",
       "      <td>2_free</td>\n",
       "      <td>C</td>\n",
       "      <td>D</td>\n",
       "    </tr>\n",
       "    <tr>\n",
       "      <th>4</th>\n",
       "      <td>53</td>\n",
       "      <td>1</td>\n",
       "      <td>2</td>\n",
       "      <td>free</td>\n",
       "      <td>little</td>\n",
       "      <td>little</td>\n",
       "      <td>4870</td>\n",
       "      <td>24</td>\n",
       "      <td>car</td>\n",
       "      <td>0</td>\n",
       "      <td>senior</td>\n",
       "      <td>senior_male</td>\n",
       "      <td>male_free</td>\n",
       "      <td>senior_free</td>\n",
       "      <td>2_free</td>\n",
       "      <td>B</td>\n",
       "      <td>D</td>\n",
       "    </tr>\n",
       "  </tbody>\n",
       "</table>\n",
       "</div>"
      ],
      "text/plain": [
       "   Age  Sex  Job Housing Saving accounts Checking account  Credit amount  \\\n",
       "0   67    1    2     own          little           little           1169   \n",
       "1   22    0    2     own          little         moderate           5951   \n",
       "2   49    1    1     own          little           little           2096   \n",
       "3   45    1    2    free          little           little           7882   \n",
       "4   53    1    2    free          little           little           4870   \n",
       "\n",
       "   Duration              Purpose  Risk new_age   new_age_Sex Sex_Housing  \\\n",
       "0         6             radio/TV     1  senior   senior_male    male_own   \n",
       "1        48             radio/TV     0   young  young_female  female_own   \n",
       "2        12            education     1  mature   mature_male    male_own   \n",
       "3        42  furniture/equipment     1  mature   mature_male   male_free   \n",
       "4        24                  car     0  senior   senior_male   male_free   \n",
       "\n",
       "  new_age_Housing Job_Housing new_duration new_Credit_amount  \n",
       "0      senior_own       2_own            A                 A  \n",
       "1       young_own       2_own            D                 D  \n",
       "2      mature_own       1_own            A                 B  \n",
       "3     mature_free      2_free            C                 D  \n",
       "4     senior_free      2_free            B                 D  "
      ]
     },
     "execution_count": 60,
     "metadata": {},
     "output_type": "execute_result"
    }
   ],
   "source": [
    "df.head()"
   ]
  },
  {
   "cell_type": "markdown",
   "metadata": {},
   "source": [
    "* Rare analyser fonksiyonu ile girilen dataframe,target ve kategorik columns parametrelerinin dataframe'deki sayısını, o column'daki değerlerin sayısının toplam dataframe sayısına oranını ve columnlara göre groupby yapıldığında target değişkeninin(Risk) ortalamasını bize döndürür."
   ]
  },
  {
   "cell_type": "code",
   "execution_count": 62,
   "metadata": {
    "execution": {
     "iopub.execute_input": "2021-06-29T09:25:02.301104Z",
     "iopub.status.busy": "2021-06-29T09:25:02.300772Z",
     "iopub.status.idle": "2021-06-29T09:25:02.430681Z",
     "shell.execute_reply": "2021-06-29T09:25:02.429669Z",
     "shell.execute_reply.started": "2021-06-29T09:25:02.301074Z"
    }
   },
   "outputs": [
    {
     "name": "stdout",
     "output_type": "stream",
     "text": [
      "Sex : 2\n",
      "   COUNT  RATIO  TARGET_MEAN\n",
      "0    310   0.31     0.648387\n",
      "1    690   0.69     0.723188\n",
      "\n",
      "\n",
      "Housing : 3\n",
      "      COUNT  RATIO  TARGET_MEAN\n",
      "free    108  0.108     0.592593\n",
      "own     713  0.713     0.739130\n",
      "rent    179  0.179     0.608939\n",
      "\n",
      "\n",
      "Saving accounts : 4\n",
      "            COUNT  RATIO  TARGET_MEAN\n",
      "little        786  0.786     0.683206\n",
      "moderate      103  0.103     0.669903\n",
      "quite rich     63  0.063     0.825397\n",
      "rich           48  0.048     0.875000\n",
      "\n",
      "\n",
      "Checking account : 3\n",
      "          COUNT  RATIO  TARGET_MEAN\n",
      "little      668  0.668     0.729042\n",
      "moderate    269  0.269     0.609665\n",
      "rich         63  0.063     0.777778\n",
      "\n",
      "\n",
      "Purpose : 8\n",
      "                     COUNT  RATIO  TARGET_MEAN\n",
      "business                97  0.097     0.649485\n",
      "car                    337  0.337     0.685460\n",
      "domestic appliances     12  0.012     0.666667\n",
      "education               59  0.059     0.610169\n",
      "furniture/equipment    181  0.181     0.679558\n",
      "radio/TV               280  0.280     0.778571\n",
      "repairs                 22  0.022     0.636364\n",
      "vacation/others         12  0.012     0.583333\n",
      "\n",
      "\n",
      "new_age : 3\n",
      "        COUNT  RATIO  TARGET_MEAN\n",
      "mature    655  0.655     0.731298\n",
      "senior    105  0.105     0.714286\n",
      "young     240  0.240     0.608333\n",
      "\n",
      "\n",
      "new_age_Sex : 6\n",
      "               COUNT  RATIO  TARGET_MEAN\n",
      "mature_female    151  0.151     0.682119\n",
      "mature_male      504  0.504     0.746032\n",
      "senior_female     34  0.034     0.794118\n",
      "senior_male       71  0.071     0.676056\n",
      "young_female     125  0.125     0.568000\n",
      "young_male       115  0.115     0.652174\n",
      "\n",
      "\n",
      "Sex_Housing : 6\n",
      "             COUNT  RATIO  TARGET_MEAN\n",
      "female_free     19  0.019     0.421053\n",
      "female_own     196  0.196     0.698980\n",
      "female_rent     95  0.095     0.589474\n",
      "male_free       89  0.089     0.629213\n",
      "male_own       517  0.517     0.754352\n",
      "male_rent       84  0.084     0.630952\n",
      "\n",
      "\n",
      "new_age_Housing : 9\n",
      "             COUNT  RATIO  TARGET_MEAN\n",
      "mature_free     75  0.075     0.600000\n",
      "mature_own     502  0.502     0.766932\n",
      "mature_rent     78  0.078     0.628205\n",
      "senior_free     28  0.028     0.571429\n",
      "senior_own      67  0.067     0.791045\n",
      "senior_rent     10  0.010     0.600000\n",
      "young_free       5  0.005     0.600000\n",
      "young_own      144  0.144     0.618056\n",
      "young_rent      91  0.091     0.593407\n",
      "\n",
      "\n",
      "Job_Housing : 12\n",
      "        COUNT  RATIO  TARGET_MEAN\n",
      "0_free      4  0.004     0.750000\n",
      "0_own      13  0.013     0.692308\n",
      "0_rent      5  0.005     0.600000\n",
      "1_free      8  0.008     0.375000\n",
      "1_own     154  0.154     0.753247\n",
      "1_rent     38  0.038     0.657895\n",
      "2_free     63  0.063     0.571429\n",
      "2_own     452  0.452     0.756637\n",
      "2_rent    115  0.115     0.573913\n",
      "3_free     33  0.033     0.666667\n",
      "3_own      94  0.094     0.638298\n",
      "3_rent     21  0.021     0.714286\n",
      "\n",
      "\n",
      "new_duration : 4\n",
      "   COUNT  RATIO  TARGET_MEAN\n",
      "A    433  0.433     0.792148\n",
      "B    354  0.354     0.677966\n",
      "C    149  0.149     0.597315\n",
      "D     64  0.064     0.437500\n",
      "\n",
      "\n",
      "new_Credit_amount : 4\n",
      "   COUNT  RATIO  TARGET_MEAN\n",
      "A    250   0.25        0.692\n",
      "B    250   0.25        0.752\n",
      "C    250   0.25        0.776\n",
      "D    250   0.25        0.580\n",
      "\n",
      "\n",
      "Job : 4\n",
      "   COUNT  RATIO  TARGET_MEAN\n",
      "0     22  0.022     0.681818\n",
      "1    200  0.200     0.720000\n",
      "2    630  0.630     0.704762\n",
      "3    148  0.148     0.655405\n",
      "\n",
      "\n",
      "Risk : 2\n",
      "   COUNT  RATIO  TARGET_MEAN\n",
      "0    300    0.3            0\n",
      "1    700    0.7            1\n",
      "\n",
      "\n"
     ]
    }
   ],
   "source": [
    "rare_analyser(df, \"Risk\", cat_cols)\n",
    "#male:1 female:0 \n",
    "#Bu dataframede male'den 310 gözlem female'den 690 gözlem vardır. Oranları 310/1000'den 0.31,\n",
    "# 690/1000'den 0.69'dur.Ve erkeklerin risk durumu kadınlarınkinden daha yüksektir.\n",
    "#Devamı da bu şekilde yorumlanabilir."
   ]
  },
  {
   "cell_type": "markdown",
   "metadata": {},
   "source": [
    "* Rare encoder fonksiyonu  kendisine parametre olarak girilen dataframe ve oranla ilgili işlem yapıyor, girilen oran parametresini alt sınır kabul edip o sınırın altındakileri rare olarak adlandırıyor ve adlandırılan birçok değişken olursa hepsi rare olduğundan oranları ve sayıları toplanıyor.Kısacası diğer olarak döndürülüyor. Dataframede az sayıda gözlemlendiğinden tek tek değerlendirip modeli de kendimizi de yormuyoruz."
   ]
  },
  {
   "cell_type": "code",
   "execution_count": 64,
   "metadata": {
    "execution": {
     "iopub.execute_input": "2021-06-29T09:25:02.442183Z",
     "iopub.status.busy": "2021-06-29T09:25:02.441767Z",
     "iopub.status.idle": "2021-06-29T09:25:02.488563Z",
     "shell.execute_reply": "2021-06-29T09:25:02.487095Z",
     "shell.execute_reply.started": "2021-06-29T09:25:02.442141Z"
    }
   },
   "outputs": [],
   "source": [
    "df = rare_encoder(df, 0.05)"
   ]
  },
  {
   "cell_type": "markdown",
   "metadata": {},
   "source": [
    "* Rare değişkenlerimizi aşağıda görebilirsiniz."
   ]
  },
  {
   "cell_type": "code",
   "execution_count": 65,
   "metadata": {
    "execution": {
     "iopub.execute_input": "2021-06-29T09:25:02.489925Z",
     "iopub.status.busy": "2021-06-29T09:25:02.489652Z",
     "iopub.status.idle": "2021-06-29T09:25:02.618483Z",
     "shell.execute_reply": "2021-06-29T09:25:02.617387Z",
     "shell.execute_reply.started": "2021-06-29T09:25:02.489897Z"
    }
   },
   "outputs": [
    {
     "name": "stdout",
     "output_type": "stream",
     "text": [
      "Sex : 2\n",
      "   COUNT  RATIO  TARGET_MEAN\n",
      "0    310   0.31     0.648387\n",
      "1    690   0.69     0.723188\n",
      "\n",
      "\n",
      "Housing : 3\n",
      "      COUNT  RATIO  TARGET_MEAN\n",
      "free    108  0.108     0.592593\n",
      "own     713  0.713     0.739130\n",
      "rent    179  0.179     0.608939\n",
      "\n",
      "\n",
      "Saving accounts : 4\n",
      "            COUNT  RATIO  TARGET_MEAN\n",
      "Rare           48  0.048     0.875000\n",
      "little        786  0.786     0.683206\n",
      "moderate      103  0.103     0.669903\n",
      "quite rich     63  0.063     0.825397\n",
      "\n",
      "\n",
      "Checking account : 3\n",
      "          COUNT  RATIO  TARGET_MEAN\n",
      "little      668  0.668     0.729042\n",
      "moderate    269  0.269     0.609665\n",
      "rich         63  0.063     0.777778\n",
      "\n",
      "\n",
      "Purpose : 6\n",
      "                     COUNT  RATIO  TARGET_MEAN\n",
      "Rare                    46  0.046     0.630435\n",
      "business                97  0.097     0.649485\n",
      "car                    337  0.337     0.685460\n",
      "education               59  0.059     0.610169\n",
      "furniture/equipment    181  0.181     0.679558\n",
      "radio/TV               280  0.280     0.778571\n",
      "\n",
      "\n",
      "new_age : 3\n",
      "        COUNT  RATIO  TARGET_MEAN\n",
      "mature    655  0.655     0.731298\n",
      "senior    105  0.105     0.714286\n",
      "young     240  0.240     0.608333\n",
      "\n",
      "\n",
      "new_age_Sex : 6\n",
      "               COUNT  RATIO  TARGET_MEAN\n",
      "Rare              34  0.034     0.794118\n",
      "mature_female    151  0.151     0.682119\n",
      "mature_male      504  0.504     0.746032\n",
      "senior_male       71  0.071     0.676056\n",
      "young_female     125  0.125     0.568000\n",
      "young_male       115  0.115     0.652174\n",
      "\n",
      "\n",
      "Sex_Housing : 6\n",
      "             COUNT  RATIO  TARGET_MEAN\n",
      "Rare            19  0.019     0.421053\n",
      "female_own     196  0.196     0.698980\n",
      "female_rent     95  0.095     0.589474\n",
      "male_free       89  0.089     0.629213\n",
      "male_own       517  0.517     0.754352\n",
      "male_rent       84  0.084     0.630952\n",
      "\n",
      "\n",
      "new_age_Housing : 7\n",
      "             COUNT  RATIO  TARGET_MEAN\n",
      "Rare            43  0.043     0.581395\n",
      "mature_free     75  0.075     0.600000\n",
      "mature_own     502  0.502     0.766932\n",
      "mature_rent     78  0.078     0.628205\n",
      "senior_own      67  0.067     0.791045\n",
      "young_own      144  0.144     0.618056\n",
      "young_rent      91  0.091     0.593407\n",
      "\n",
      "\n",
      "Job_Housing : 6\n",
      "        COUNT  RATIO  TARGET_MEAN\n",
      "1_own     154  0.154     0.753247\n",
      "2_free     63  0.063     0.571429\n",
      "2_own     452  0.452     0.756637\n",
      "2_rent    115  0.115     0.573913\n",
      "3_own      94  0.094     0.638298\n",
      "Rare      122  0.122     0.655738\n",
      "\n",
      "\n",
      "new_duration : 4\n",
      "   COUNT  RATIO  TARGET_MEAN\n",
      "A    433  0.433     0.792148\n",
      "B    354  0.354     0.677966\n",
      "C    149  0.149     0.597315\n",
      "D     64  0.064     0.437500\n",
      "\n",
      "\n",
      "new_Credit_amount : 4\n",
      "   COUNT  RATIO  TARGET_MEAN\n",
      "A    250   0.25        0.692\n",
      "B    250   0.25        0.752\n",
      "C    250   0.25        0.776\n",
      "D    250   0.25        0.580\n",
      "\n",
      "\n",
      "Job : 4\n",
      "   COUNT  RATIO  TARGET_MEAN\n",
      "0     22  0.022     0.681818\n",
      "1    200  0.200     0.720000\n",
      "2    630  0.630     0.704762\n",
      "3    148  0.148     0.655405\n",
      "\n",
      "\n",
      "Risk : 2\n",
      "   COUNT  RATIO  TARGET_MEAN\n",
      "0    300    0.3            0\n",
      "1    700    0.7            1\n",
      "\n",
      "\n"
     ]
    }
   ],
   "source": [
    "rare_analyser(df, \"Risk\", cat_cols)"
   ]
  },
  {
   "cell_type": "markdown",
   "metadata": {},
   "source": [
    "* One hot encoder yine bir kategorik değişkenleri numerik'e dönüştürme yöntemidir.Kaç değişken döndürülecekse n-1 kadar column ile matrix oluşturulur.Örneğin;"
   ]
  },
  {
   "attachments": {
    "79e33fe5-f6d9-4ff5-be0b-da7ee0ffa9c5.png": {
     "image/png": "[encoded data removed]"
    }
   },
   "cell_type": "markdown",
   "metadata": {},
   "source": [
    "![image.png](attachment:79e33fe5-f6d9-4ff5-be0b-da7ee0ffa9c5.png)"
   ]
  },
  {
   "cell_type": "code",
   "execution_count": 66,
   "metadata": {
    "execution": {
     "iopub.execute_input": "2021-06-29T09:25:02.620393Z",
     "iopub.status.busy": "2021-06-29T09:25:02.619981Z",
     "iopub.status.idle": "2021-06-29T09:25:02.633395Z",
     "shell.execute_reply": "2021-06-29T09:25:02.632275Z",
     "shell.execute_reply.started": "2021-06-29T09:25:02.620349Z"
    }
   },
   "outputs": [],
   "source": [
    "ohe_cols = [col for col in df.columns if 10 >= df[col].nunique() > 2]"
   ]
  },
  {
   "cell_type": "code",
   "execution_count": 67,
   "metadata": {
    "execution": {
     "iopub.execute_input": "2021-06-29T09:25:02.635065Z",
     "iopub.status.busy": "2021-06-29T09:25:02.634746Z",
     "iopub.status.idle": "2021-06-29T09:25:02.641988Z",
     "shell.execute_reply": "2021-06-29T09:25:02.641012Z",
     "shell.execute_reply.started": "2021-06-29T09:25:02.635034Z"
    }
   },
   "outputs": [
    {
     "data": {
      "text/plain": [
       "['Job',\n",
       " 'Housing',\n",
       " 'Saving accounts',\n",
       " 'Checking account',\n",
       " 'Purpose',\n",
       " 'new_age',\n",
       " 'new_age_Sex',\n",
       " 'Sex_Housing',\n",
       " 'new_age_Housing',\n",
       " 'Job_Housing',\n",
       " 'new_duration',\n",
       " 'new_Credit_amount']"
      ]
     },
     "execution_count": 67,
     "metadata": {},
     "output_type": "execute_result"
    }
   ],
   "source": [
    "ohe_cols"
   ]
  },
  {
   "cell_type": "code",
   "execution_count": 68,
   "metadata": {
    "execution": {
     "iopub.execute_input": "2021-06-29T09:25:02.644730Z",
     "iopub.status.busy": "2021-06-29T09:25:02.644222Z",
     "iopub.status.idle": "2021-06-29T09:25:02.653943Z",
     "shell.execute_reply": "2021-06-29T09:25:02.652873Z",
     "shell.execute_reply.started": "2021-06-29T09:25:02.644615Z"
    }
   },
   "outputs": [],
   "source": [
    "#one_hot_encoder\n",
    "df= pd.get_dummies(df,ohe_cols, drop_first=False)"
   ]
  },
  {
   "cell_type": "code",
   "execution_count": 69,
   "metadata": {
    "execution": {
     "iopub.execute_input": "2021-06-29T09:25:02.655683Z",
     "iopub.status.busy": "2021-06-29T09:25:02.655232Z",
     "iopub.status.idle": "2021-06-29T09:25:02.682945Z",
     "shell.execute_reply": "2021-06-29T09:25:02.681941Z",
     "shell.execute_reply.started": "2021-06-29T09:25:02.655649Z"
    }
   },
   "outputs": [],
   "source": [
    "df=one_hot_encoder(df, ohe_cols)"
   ]
  },
  {
   "cell_type": "code",
   "execution_count": 70,
   "metadata": {
    "execution": {
     "iopub.execute_input": "2021-06-29T09:25:02.684353Z",
     "iopub.status.busy": "2021-06-29T09:25:02.684082Z",
     "iopub.status.idle": "2021-06-29T09:25:02.721588Z",
     "shell.execute_reply": "2021-06-29T09:25:02.720597Z",
     "shell.execute_reply.started": "2021-06-29T09:25:02.684326Z"
    }
   },
   "outputs": [
    {
     "data": {
      "text/html": [
       "<div>\n",
       "<style scoped>\n",
       "    .dataframe tbody tr th:only-of-type {\n",
       "        vertical-align: middle;\n",
       "    }\n",
       "\n",
       "    .dataframe tbody tr th {\n",
       "        vertical-align: top;\n",
       "    }\n",
       "\n",
       "    .dataframe thead th {\n",
       "        text-align: right;\n",
       "    }\n",
       "</style>\n",
       "<table border=\"1\" class=\"dataframe\">\n",
       "  <thead>\n",
       "    <tr style=\"text-align: right;\">\n",
       "      <th></th>\n",
       "      <th>Age</th>\n",
       "      <th>Sex</th>\n",
       "      <th>Credit amount</th>\n",
       "      <th>Duration</th>\n",
       "      <th>Risk</th>\n",
       "      <th>Job_0</th>\n",
       "      <th>Job_1</th>\n",
       "      <th>Job_2</th>\n",
       "      <th>Job_3</th>\n",
       "      <th>Housing_free</th>\n",
       "      <th>Housing_own</th>\n",
       "      <th>Housing_rent</th>\n",
       "      <th>Saving accounts_Rare</th>\n",
       "      <th>Saving accounts_little</th>\n",
       "      <th>Saving accounts_moderate</th>\n",
       "      <th>Saving accounts_quite rich</th>\n",
       "      <th>Checking account_little</th>\n",
       "      <th>Checking account_moderate</th>\n",
       "      <th>Checking account_rich</th>\n",
       "      <th>Purpose_Rare</th>\n",
       "      <th>Purpose_business</th>\n",
       "      <th>Purpose_car</th>\n",
       "      <th>Purpose_education</th>\n",
       "      <th>Purpose_furniture/equipment</th>\n",
       "      <th>Purpose_radio/TV</th>\n",
       "      <th>new_age_mature</th>\n",
       "      <th>new_age_senior</th>\n",
       "      <th>new_age_young</th>\n",
       "      <th>new_age_Sex_Rare</th>\n",
       "      <th>new_age_Sex_mature_female</th>\n",
       "      <th>new_age_Sex_mature_male</th>\n",
       "      <th>new_age_Sex_senior_male</th>\n",
       "      <th>new_age_Sex_young_female</th>\n",
       "      <th>new_age_Sex_young_male</th>\n",
       "      <th>Sex_Housing_Rare</th>\n",
       "      <th>Sex_Housing_female_own</th>\n",
       "      <th>Sex_Housing_female_rent</th>\n",
       "      <th>Sex_Housing_male_free</th>\n",
       "      <th>Sex_Housing_male_own</th>\n",
       "      <th>Sex_Housing_male_rent</th>\n",
       "      <th>new_age_Housing_Rare</th>\n",
       "      <th>new_age_Housing_mature_free</th>\n",
       "      <th>new_age_Housing_mature_own</th>\n",
       "      <th>new_age_Housing_mature_rent</th>\n",
       "      <th>new_age_Housing_senior_own</th>\n",
       "      <th>new_age_Housing_young_own</th>\n",
       "      <th>new_age_Housing_young_rent</th>\n",
       "      <th>Job_Housing_1_own</th>\n",
       "      <th>Job_Housing_2_free</th>\n",
       "      <th>Job_Housing_2_own</th>\n",
       "      <th>Job_Housing_2_rent</th>\n",
       "      <th>Job_Housing_3_own</th>\n",
       "      <th>Job_Housing_Rare</th>\n",
       "      <th>new_duration_A</th>\n",
       "      <th>new_duration_B</th>\n",
       "      <th>new_duration_C</th>\n",
       "      <th>new_duration_D</th>\n",
       "      <th>new_Credit_amount_A</th>\n",
       "      <th>new_Credit_amount_B</th>\n",
       "      <th>new_Credit_amount_C</th>\n",
       "      <th>new_Credit_amount_D</th>\n",
       "    </tr>\n",
       "  </thead>\n",
       "  <tbody>\n",
       "    <tr>\n",
       "      <th>0</th>\n",
       "      <td>67</td>\n",
       "      <td>1</td>\n",
       "      <td>1169</td>\n",
       "      <td>6</td>\n",
       "      <td>1</td>\n",
       "      <td>0</td>\n",
       "      <td>0</td>\n",
       "      <td>1</td>\n",
       "      <td>0</td>\n",
       "      <td>0</td>\n",
       "      <td>1</td>\n",
       "      <td>0</td>\n",
       "      <td>0</td>\n",
       "      <td>1</td>\n",
       "      <td>0</td>\n",
       "      <td>0</td>\n",
       "      <td>1</td>\n",
       "      <td>0</td>\n",
       "      <td>0</td>\n",
       "      <td>0</td>\n",
       "      <td>0</td>\n",
       "      <td>0</td>\n",
       "      <td>0</td>\n",
       "      <td>0</td>\n",
       "      <td>1</td>\n",
       "      <td>0</td>\n",
       "      <td>1</td>\n",
       "      <td>0</td>\n",
       "      <td>0</td>\n",
       "      <td>0</td>\n",
       "      <td>0</td>\n",
       "      <td>1</td>\n",
       "      <td>0</td>\n",
       "      <td>0</td>\n",
       "      <td>0</td>\n",
       "      <td>0</td>\n",
       "      <td>0</td>\n",
       "      <td>0</td>\n",
       "      <td>1</td>\n",
       "      <td>0</td>\n",
       "      <td>0</td>\n",
       "      <td>0</td>\n",
       "      <td>0</td>\n",
       "      <td>0</td>\n",
       "      <td>1</td>\n",
       "      <td>0</td>\n",
       "      <td>0</td>\n",
       "      <td>0</td>\n",
       "      <td>0</td>\n",
       "      <td>1</td>\n",
       "      <td>0</td>\n",
       "      <td>0</td>\n",
       "      <td>0</td>\n",
       "      <td>1</td>\n",
       "      <td>0</td>\n",
       "      <td>0</td>\n",
       "      <td>0</td>\n",
       "      <td>1</td>\n",
       "      <td>0</td>\n",
       "      <td>0</td>\n",
       "      <td>0</td>\n",
       "    </tr>\n",
       "    <tr>\n",
       "      <th>1</th>\n",
       "      <td>22</td>\n",
       "      <td>0</td>\n",
       "      <td>5951</td>\n",
       "      <td>48</td>\n",
       "      <td>0</td>\n",
       "      <td>0</td>\n",
       "      <td>0</td>\n",
       "      <td>1</td>\n",
       "      <td>0</td>\n",
       "      <td>0</td>\n",
       "      <td>1</td>\n",
       "      <td>0</td>\n",
       "      <td>0</td>\n",
       "      <td>1</td>\n",
       "      <td>0</td>\n",
       "      <td>0</td>\n",
       "      <td>0</td>\n",
       "      <td>1</td>\n",
       "      <td>0</td>\n",
       "      <td>0</td>\n",
       "      <td>0</td>\n",
       "      <td>0</td>\n",
       "      <td>0</td>\n",
       "      <td>0</td>\n",
       "      <td>1</td>\n",
       "      <td>0</td>\n",
       "      <td>0</td>\n",
       "      <td>1</td>\n",
       "      <td>0</td>\n",
       "      <td>0</td>\n",
       "      <td>0</td>\n",
       "      <td>0</td>\n",
       "      <td>1</td>\n",
       "      <td>0</td>\n",
       "      <td>0</td>\n",
       "      <td>1</td>\n",
       "      <td>0</td>\n",
       "      <td>0</td>\n",
       "      <td>0</td>\n",
       "      <td>0</td>\n",
       "      <td>0</td>\n",
       "      <td>0</td>\n",
       "      <td>0</td>\n",
       "      <td>0</td>\n",
       "      <td>0</td>\n",
       "      <td>1</td>\n",
       "      <td>0</td>\n",
       "      <td>0</td>\n",
       "      <td>0</td>\n",
       "      <td>1</td>\n",
       "      <td>0</td>\n",
       "      <td>0</td>\n",
       "      <td>0</td>\n",
       "      <td>0</td>\n",
       "      <td>0</td>\n",
       "      <td>0</td>\n",
       "      <td>1</td>\n",
       "      <td>0</td>\n",
       "      <td>0</td>\n",
       "      <td>0</td>\n",
       "      <td>1</td>\n",
       "    </tr>\n",
       "    <tr>\n",
       "      <th>2</th>\n",
       "      <td>49</td>\n",
       "      <td>1</td>\n",
       "      <td>2096</td>\n",
       "      <td>12</td>\n",
       "      <td>1</td>\n",
       "      <td>0</td>\n",
       "      <td>1</td>\n",
       "      <td>0</td>\n",
       "      <td>0</td>\n",
       "      <td>0</td>\n",
       "      <td>1</td>\n",
       "      <td>0</td>\n",
       "      <td>0</td>\n",
       "      <td>1</td>\n",
       "      <td>0</td>\n",
       "      <td>0</td>\n",
       "      <td>1</td>\n",
       "      <td>0</td>\n",
       "      <td>0</td>\n",
       "      <td>0</td>\n",
       "      <td>0</td>\n",
       "      <td>0</td>\n",
       "      <td>1</td>\n",
       "      <td>0</td>\n",
       "      <td>0</td>\n",
       "      <td>1</td>\n",
       "      <td>0</td>\n",
       "      <td>0</td>\n",
       "      <td>0</td>\n",
       "      <td>0</td>\n",
       "      <td>1</td>\n",
       "      <td>0</td>\n",
       "      <td>0</td>\n",
       "      <td>0</td>\n",
       "      <td>0</td>\n",
       "      <td>0</td>\n",
       "      <td>0</td>\n",
       "      <td>0</td>\n",
       "      <td>1</td>\n",
       "      <td>0</td>\n",
       "      <td>0</td>\n",
       "      <td>0</td>\n",
       "      <td>1</td>\n",
       "      <td>0</td>\n",
       "      <td>0</td>\n",
       "      <td>0</td>\n",
       "      <td>0</td>\n",
       "      <td>1</td>\n",
       "      <td>0</td>\n",
       "      <td>0</td>\n",
       "      <td>0</td>\n",
       "      <td>0</td>\n",
       "      <td>0</td>\n",
       "      <td>1</td>\n",
       "      <td>0</td>\n",
       "      <td>0</td>\n",
       "      <td>0</td>\n",
       "      <td>0</td>\n",
       "      <td>1</td>\n",
       "      <td>0</td>\n",
       "      <td>0</td>\n",
       "    </tr>\n",
       "    <tr>\n",
       "      <th>3</th>\n",
       "      <td>45</td>\n",
       "      <td>1</td>\n",
       "      <td>7882</td>\n",
       "      <td>42</td>\n",
       "      <td>1</td>\n",
       "      <td>0</td>\n",
       "      <td>0</td>\n",
       "      <td>1</td>\n",
       "      <td>0</td>\n",
       "      <td>1</td>\n",
       "      <td>0</td>\n",
       "      <td>0</td>\n",
       "      <td>0</td>\n",
       "      <td>1</td>\n",
       "      <td>0</td>\n",
       "      <td>0</td>\n",
       "      <td>1</td>\n",
       "      <td>0</td>\n",
       "      <td>0</td>\n",
       "      <td>0</td>\n",
       "      <td>0</td>\n",
       "      <td>0</td>\n",
       "      <td>0</td>\n",
       "      <td>1</td>\n",
       "      <td>0</td>\n",
       "      <td>1</td>\n",
       "      <td>0</td>\n",
       "      <td>0</td>\n",
       "      <td>0</td>\n",
       "      <td>0</td>\n",
       "      <td>1</td>\n",
       "      <td>0</td>\n",
       "      <td>0</td>\n",
       "      <td>0</td>\n",
       "      <td>0</td>\n",
       "      <td>0</td>\n",
       "      <td>0</td>\n",
       "      <td>1</td>\n",
       "      <td>0</td>\n",
       "      <td>0</td>\n",
       "      <td>0</td>\n",
       "      <td>1</td>\n",
       "      <td>0</td>\n",
       "      <td>0</td>\n",
       "      <td>0</td>\n",
       "      <td>0</td>\n",
       "      <td>0</td>\n",
       "      <td>0</td>\n",
       "      <td>1</td>\n",
       "      <td>0</td>\n",
       "      <td>0</td>\n",
       "      <td>0</td>\n",
       "      <td>0</td>\n",
       "      <td>0</td>\n",
       "      <td>0</td>\n",
       "      <td>1</td>\n",
       "      <td>0</td>\n",
       "      <td>0</td>\n",
       "      <td>0</td>\n",
       "      <td>0</td>\n",
       "      <td>1</td>\n",
       "    </tr>\n",
       "    <tr>\n",
       "      <th>4</th>\n",
       "      <td>53</td>\n",
       "      <td>1</td>\n",
       "      <td>4870</td>\n",
       "      <td>24</td>\n",
       "      <td>0</td>\n",
       "      <td>0</td>\n",
       "      <td>0</td>\n",
       "      <td>1</td>\n",
       "      <td>0</td>\n",
       "      <td>1</td>\n",
       "      <td>0</td>\n",
       "      <td>0</td>\n",
       "      <td>0</td>\n",
       "      <td>1</td>\n",
       "      <td>0</td>\n",
       "      <td>0</td>\n",
       "      <td>1</td>\n",
       "      <td>0</td>\n",
       "      <td>0</td>\n",
       "      <td>0</td>\n",
       "      <td>0</td>\n",
       "      <td>1</td>\n",
       "      <td>0</td>\n",
       "      <td>0</td>\n",
       "      <td>0</td>\n",
       "      <td>0</td>\n",
       "      <td>1</td>\n",
       "      <td>0</td>\n",
       "      <td>0</td>\n",
       "      <td>0</td>\n",
       "      <td>0</td>\n",
       "      <td>1</td>\n",
       "      <td>0</td>\n",
       "      <td>0</td>\n",
       "      <td>0</td>\n",
       "      <td>0</td>\n",
       "      <td>0</td>\n",
       "      <td>1</td>\n",
       "      <td>0</td>\n",
       "      <td>0</td>\n",
       "      <td>1</td>\n",
       "      <td>0</td>\n",
       "      <td>0</td>\n",
       "      <td>0</td>\n",
       "      <td>0</td>\n",
       "      <td>0</td>\n",
       "      <td>0</td>\n",
       "      <td>0</td>\n",
       "      <td>1</td>\n",
       "      <td>0</td>\n",
       "      <td>0</td>\n",
       "      <td>0</td>\n",
       "      <td>0</td>\n",
       "      <td>0</td>\n",
       "      <td>1</td>\n",
       "      <td>0</td>\n",
       "      <td>0</td>\n",
       "      <td>0</td>\n",
       "      <td>0</td>\n",
       "      <td>0</td>\n",
       "      <td>1</td>\n",
       "    </tr>\n",
       "  </tbody>\n",
       "</table>\n",
       "</div>"
      ],
      "text/plain": [
       "   Age  Sex  Credit amount  Duration  Risk  Job_0  Job_1  Job_2  Job_3  \\\n",
       "0   67    1           1169         6     1      0      0      1      0   \n",
       "1   22    0           5951        48     0      0      0      1      0   \n",
       "2   49    1           2096        12     1      0      1      0      0   \n",
       "3   45    1           7882        42     1      0      0      1      0   \n",
       "4   53    1           4870        24     0      0      0      1      0   \n",
       "\n",
       "   Housing_free  Housing_own  Housing_rent  Saving accounts_Rare  \\\n",
       "0             0            1             0                     0   \n",
       "1             0            1             0                     0   \n",
       "2             0            1             0                     0   \n",
       "3             1            0             0                     0   \n",
       "4             1            0             0                     0   \n",
       "\n",
       "   Saving accounts_little  Saving accounts_moderate  \\\n",
       "0                       1                         0   \n",
       "1                       1                         0   \n",
       "2                       1                         0   \n",
       "3                       1                         0   \n",
       "4                       1                         0   \n",
       "\n",
       "   Saving accounts_quite rich  Checking account_little  \\\n",
       "0                           0                        1   \n",
       "1                           0                        0   \n",
       "2                           0                        1   \n",
       "3                           0                        1   \n",
       "4                           0                        1   \n",
       "\n",
       "   Checking account_moderate  Checking account_rich  Purpose_Rare  \\\n",
       "0                          0                      0             0   \n",
       "1                          1                      0             0   \n",
       "2                          0                      0             0   \n",
       "3                          0                      0             0   \n",
       "4                          0                      0             0   \n",
       "\n",
       "   Purpose_business  Purpose_car  Purpose_education  \\\n",
       "0                 0            0                  0   \n",
       "1                 0            0                  0   \n",
       "2                 0            0                  1   \n",
       "3                 0            0                  0   \n",
       "4                 0            1                  0   \n",
       "\n",
       "   Purpose_furniture/equipment  Purpose_radio/TV  new_age_mature  \\\n",
       "0                            0                 1               0   \n",
       "1                            0                 1               0   \n",
       "2                            0                 0               1   \n",
       "3                            1                 0               1   \n",
       "4                            0                 0               0   \n",
       "\n",
       "   new_age_senior  new_age_young  new_age_Sex_Rare  new_age_Sex_mature_female  \\\n",
       "0               1              0                 0                          0   \n",
       "1               0              1                 0                          0   \n",
       "2               0              0                 0                          0   \n",
       "3               0              0                 0                          0   \n",
       "4               1              0                 0                          0   \n",
       "\n",
       "   new_age_Sex_mature_male  new_age_Sex_senior_male  new_age_Sex_young_female  \\\n",
       "0                        0                        1                         0   \n",
       "1                        0                        0                         1   \n",
       "2                        1                        0                         0   \n",
       "3                        1                        0                         0   \n",
       "4                        0                        1                         0   \n",
       "\n",
       "   new_age_Sex_young_male  Sex_Housing_Rare  Sex_Housing_female_own  \\\n",
       "0                       0                 0                       0   \n",
       "1                       0                 0                       1   \n",
       "2                       0                 0                       0   \n",
       "3                       0                 0                       0   \n",
       "4                       0                 0                       0   \n",
       "\n",
       "   Sex_Housing_female_rent  Sex_Housing_male_free  Sex_Housing_male_own  \\\n",
       "0                        0                      0                     1   \n",
       "1                        0                      0                     0   \n",
       "2                        0                      0                     1   \n",
       "3                        0                      1                     0   \n",
       "4                        0                      1                     0   \n",
       "\n",
       "   Sex_Housing_male_rent  new_age_Housing_Rare  new_age_Housing_mature_free  \\\n",
       "0                      0                     0                            0   \n",
       "1                      0                     0                            0   \n",
       "2                      0                     0                            0   \n",
       "3                      0                     0                            1   \n",
       "4                      0                     1                            0   \n",
       "\n",
       "   new_age_Housing_mature_own  new_age_Housing_mature_rent  \\\n",
       "0                           0                            0   \n",
       "1                           0                            0   \n",
       "2                           1                            0   \n",
       "3                           0                            0   \n",
       "4                           0                            0   \n",
       "\n",
       "   new_age_Housing_senior_own  new_age_Housing_young_own  \\\n",
       "0                           1                          0   \n",
       "1                           0                          1   \n",
       "2                           0                          0   \n",
       "3                           0                          0   \n",
       "4                           0                          0   \n",
       "\n",
       "   new_age_Housing_young_rent  Job_Housing_1_own  Job_Housing_2_free  \\\n",
       "0                           0                  0                   0   \n",
       "1                           0                  0                   0   \n",
       "2                           0                  1                   0   \n",
       "3                           0                  0                   1   \n",
       "4                           0                  0                   1   \n",
       "\n",
       "   Job_Housing_2_own  Job_Housing_2_rent  Job_Housing_3_own  Job_Housing_Rare  \\\n",
       "0                  1                   0                  0                 0   \n",
       "1                  1                   0                  0                 0   \n",
       "2                  0                   0                  0                 0   \n",
       "3                  0                   0                  0                 0   \n",
       "4                  0                   0                  0                 0   \n",
       "\n",
       "   new_duration_A  new_duration_B  new_duration_C  new_duration_D  \\\n",
       "0               1               0               0               0   \n",
       "1               0               0               0               1   \n",
       "2               1               0               0               0   \n",
       "3               0               0               1               0   \n",
       "4               0               1               0               0   \n",
       "\n",
       "   new_Credit_amount_A  new_Credit_amount_B  new_Credit_amount_C  \\\n",
       "0                    1                    0                    0   \n",
       "1                    0                    0                    0   \n",
       "2                    0                    1                    0   \n",
       "3                    0                    0                    0   \n",
       "4                    0                    0                    0   \n",
       "\n",
       "   new_Credit_amount_D  \n",
       "0                    0  \n",
       "1                    1  \n",
       "2                    0  \n",
       "3                    1  \n",
       "4                    1  "
      ]
     },
     "execution_count": 70,
     "metadata": {},
     "output_type": "execute_result"
    }
   ],
   "source": [
    "df.head()"
   ]
  },
  {
   "cell_type": "code",
   "execution_count": 71,
   "metadata": {
    "execution": {
     "iopub.execute_input": "2021-06-29T09:25:02.723178Z",
     "iopub.status.busy": "2021-06-29T09:25:02.722869Z",
     "iopub.status.idle": "2021-06-29T09:25:03.028291Z",
     "shell.execute_reply": "2021-06-29T09:25:03.027283Z",
     "shell.execute_reply.started": "2021-06-29T09:25:02.723148Z"
    }
   },
   "outputs": [],
   "source": [
    "from sklearn.preprocessing import MinMaxScaler, LabelEncoder, StandardScaler\n",
    "from sklearn.ensemble import RandomForestClassifier\n",
    "from sklearn.model_selection import train_test_split\n",
    "from sklearn.metrics import accuracy_score"
   ]
  },
  {
   "cell_type": "markdown",
   "metadata": {},
   "source": [
    "### 5-Standartlaştırma"
   ]
  },
  {
   "cell_type": "markdown",
   "metadata": {},
   "source": [
    "* Şimdi ise numerik değerlerimizi standartlaştıracağız çünkü modele girerken bu işlemi yapmamız gerekir.Standartlaştırma, verileri belli bir sayı arasında oranlamaktır yani verileri aynı ölçeğe indirger."
   ]
  },
  {
   "cell_type": "code",
   "execution_count": 72,
   "metadata": {
    "execution": {
     "iopub.execute_input": "2021-06-29T09:25:03.030013Z",
     "iopub.status.busy": "2021-06-29T09:25:03.029675Z",
     "iopub.status.idle": "2021-06-29T09:25:03.050904Z",
     "shell.execute_reply": "2021-06-29T09:25:03.049684Z",
     "shell.execute_reply.started": "2021-06-29T09:25:03.029979Z"
    }
   },
   "outputs": [
    {
     "data": {
      "text/html": [
       "<div>\n",
       "<style scoped>\n",
       "    .dataframe tbody tr th:only-of-type {\n",
       "        vertical-align: middle;\n",
       "    }\n",
       "\n",
       "    .dataframe tbody tr th {\n",
       "        vertical-align: top;\n",
       "    }\n",
       "\n",
       "    .dataframe thead th {\n",
       "        text-align: right;\n",
       "    }\n",
       "</style>\n",
       "<table border=\"1\" class=\"dataframe\">\n",
       "  <thead>\n",
       "    <tr style=\"text-align: right;\">\n",
       "      <th></th>\n",
       "      <th>Age</th>\n",
       "      <th>Credit amount</th>\n",
       "      <th>Duration</th>\n",
       "    </tr>\n",
       "  </thead>\n",
       "  <tbody>\n",
       "    <tr>\n",
       "      <th>0</th>\n",
       "      <td>2.779050</td>\n",
       "      <td>-0.745131</td>\n",
       "      <td>-1.236478</td>\n",
       "    </tr>\n",
       "    <tr>\n",
       "      <th>1</th>\n",
       "      <td>-1.195059</td>\n",
       "      <td>0.949817</td>\n",
       "      <td>2.248194</td>\n",
       "    </tr>\n",
       "    <tr>\n",
       "      <th>2</th>\n",
       "      <td>1.189407</td>\n",
       "      <td>-0.416562</td>\n",
       "      <td>-0.738668</td>\n",
       "    </tr>\n",
       "    <tr>\n",
       "      <th>3</th>\n",
       "      <td>0.836152</td>\n",
       "      <td>1.634247</td>\n",
       "      <td>1.750384</td>\n",
       "    </tr>\n",
       "    <tr>\n",
       "      <th>4</th>\n",
       "      <td>1.542661</td>\n",
       "      <td>0.566664</td>\n",
       "      <td>0.256953</td>\n",
       "    </tr>\n",
       "  </tbody>\n",
       "</table>\n",
       "</div>"
      ],
      "text/plain": [
       "        Age  Credit amount  Duration\n",
       "0  2.779050      -0.745131 -1.236478\n",
       "1 -1.195059       0.949817  2.248194\n",
       "2  1.189407      -0.416562 -0.738668\n",
       "3  0.836152       1.634247  1.750384\n",
       "4  1.542661       0.566664  0.256953"
      ]
     },
     "execution_count": 72,
     "metadata": {},
     "output_type": "execute_result"
    }
   ],
   "source": [
    "scaler = StandardScaler()\n",
    "df[num_cols] = scaler.fit_transform(df[num_cols])\n",
    "\n",
    "df[num_cols].head()"
   ]
  },
  {
   "cell_type": "code",
   "execution_count": 73,
   "metadata": {
    "execution": {
     "iopub.execute_input": "2021-06-29T09:25:03.052647Z",
     "iopub.status.busy": "2021-06-29T09:25:03.052342Z",
     "iopub.status.idle": "2021-06-29T09:25:03.091097Z",
     "shell.execute_reply": "2021-06-29T09:25:03.090003Z",
     "shell.execute_reply.started": "2021-06-29T09:25:03.052616Z"
    }
   },
   "outputs": [
    {
     "data": {
      "text/html": [
       "<div>\n",
       "<style scoped>\n",
       "    .dataframe tbody tr th:only-of-type {\n",
       "        vertical-align: middle;\n",
       "    }\n",
       "\n",
       "    .dataframe tbody tr th {\n",
       "        vertical-align: top;\n",
       "    }\n",
       "\n",
       "    .dataframe thead th {\n",
       "        text-align: right;\n",
       "    }\n",
       "</style>\n",
       "<table border=\"1\" class=\"dataframe\">\n",
       "  <thead>\n",
       "    <tr style=\"text-align: right;\">\n",
       "      <th></th>\n",
       "      <th>Age</th>\n",
       "      <th>Sex</th>\n",
       "      <th>Credit amount</th>\n",
       "      <th>Duration</th>\n",
       "      <th>Risk</th>\n",
       "      <th>Job_0</th>\n",
       "      <th>Job_1</th>\n",
       "      <th>Job_2</th>\n",
       "      <th>Job_3</th>\n",
       "      <th>Housing_free</th>\n",
       "      <th>Housing_own</th>\n",
       "      <th>Housing_rent</th>\n",
       "      <th>Saving accounts_Rare</th>\n",
       "      <th>Saving accounts_little</th>\n",
       "      <th>Saving accounts_moderate</th>\n",
       "      <th>Saving accounts_quite rich</th>\n",
       "      <th>Checking account_little</th>\n",
       "      <th>Checking account_moderate</th>\n",
       "      <th>Checking account_rich</th>\n",
       "      <th>Purpose_Rare</th>\n",
       "      <th>Purpose_business</th>\n",
       "      <th>Purpose_car</th>\n",
       "      <th>Purpose_education</th>\n",
       "      <th>Purpose_furniture/equipment</th>\n",
       "      <th>Purpose_radio/TV</th>\n",
       "      <th>new_age_mature</th>\n",
       "      <th>new_age_senior</th>\n",
       "      <th>new_age_young</th>\n",
       "      <th>new_age_Sex_Rare</th>\n",
       "      <th>new_age_Sex_mature_female</th>\n",
       "      <th>new_age_Sex_mature_male</th>\n",
       "      <th>new_age_Sex_senior_male</th>\n",
       "      <th>new_age_Sex_young_female</th>\n",
       "      <th>new_age_Sex_young_male</th>\n",
       "      <th>Sex_Housing_Rare</th>\n",
       "      <th>Sex_Housing_female_own</th>\n",
       "      <th>Sex_Housing_female_rent</th>\n",
       "      <th>Sex_Housing_male_free</th>\n",
       "      <th>Sex_Housing_male_own</th>\n",
       "      <th>Sex_Housing_male_rent</th>\n",
       "      <th>new_age_Housing_Rare</th>\n",
       "      <th>new_age_Housing_mature_free</th>\n",
       "      <th>new_age_Housing_mature_own</th>\n",
       "      <th>new_age_Housing_mature_rent</th>\n",
       "      <th>new_age_Housing_senior_own</th>\n",
       "      <th>new_age_Housing_young_own</th>\n",
       "      <th>new_age_Housing_young_rent</th>\n",
       "      <th>Job_Housing_1_own</th>\n",
       "      <th>Job_Housing_2_free</th>\n",
       "      <th>Job_Housing_2_own</th>\n",
       "      <th>Job_Housing_2_rent</th>\n",
       "      <th>Job_Housing_3_own</th>\n",
       "      <th>Job_Housing_Rare</th>\n",
       "      <th>new_duration_A</th>\n",
       "      <th>new_duration_B</th>\n",
       "      <th>new_duration_C</th>\n",
       "      <th>new_duration_D</th>\n",
       "      <th>new_Credit_amount_A</th>\n",
       "      <th>new_Credit_amount_B</th>\n",
       "      <th>new_Credit_amount_C</th>\n",
       "      <th>new_Credit_amount_D</th>\n",
       "    </tr>\n",
       "  </thead>\n",
       "  <tbody>\n",
       "    <tr>\n",
       "      <th>0</th>\n",
       "      <td>2.779050</td>\n",
       "      <td>1</td>\n",
       "      <td>-0.745131</td>\n",
       "      <td>-1.236478</td>\n",
       "      <td>1</td>\n",
       "      <td>0</td>\n",
       "      <td>0</td>\n",
       "      <td>1</td>\n",
       "      <td>0</td>\n",
       "      <td>0</td>\n",
       "      <td>1</td>\n",
       "      <td>0</td>\n",
       "      <td>0</td>\n",
       "      <td>1</td>\n",
       "      <td>0</td>\n",
       "      <td>0</td>\n",
       "      <td>1</td>\n",
       "      <td>0</td>\n",
       "      <td>0</td>\n",
       "      <td>0</td>\n",
       "      <td>0</td>\n",
       "      <td>0</td>\n",
       "      <td>0</td>\n",
       "      <td>0</td>\n",
       "      <td>1</td>\n",
       "      <td>0</td>\n",
       "      <td>1</td>\n",
       "      <td>0</td>\n",
       "      <td>0</td>\n",
       "      <td>0</td>\n",
       "      <td>0</td>\n",
       "      <td>1</td>\n",
       "      <td>0</td>\n",
       "      <td>0</td>\n",
       "      <td>0</td>\n",
       "      <td>0</td>\n",
       "      <td>0</td>\n",
       "      <td>0</td>\n",
       "      <td>1</td>\n",
       "      <td>0</td>\n",
       "      <td>0</td>\n",
       "      <td>0</td>\n",
       "      <td>0</td>\n",
       "      <td>0</td>\n",
       "      <td>1</td>\n",
       "      <td>0</td>\n",
       "      <td>0</td>\n",
       "      <td>0</td>\n",
       "      <td>0</td>\n",
       "      <td>1</td>\n",
       "      <td>0</td>\n",
       "      <td>0</td>\n",
       "      <td>0</td>\n",
       "      <td>1</td>\n",
       "      <td>0</td>\n",
       "      <td>0</td>\n",
       "      <td>0</td>\n",
       "      <td>1</td>\n",
       "      <td>0</td>\n",
       "      <td>0</td>\n",
       "      <td>0</td>\n",
       "    </tr>\n",
       "    <tr>\n",
       "      <th>1</th>\n",
       "      <td>-1.195059</td>\n",
       "      <td>0</td>\n",
       "      <td>0.949817</td>\n",
       "      <td>2.248194</td>\n",
       "      <td>0</td>\n",
       "      <td>0</td>\n",
       "      <td>0</td>\n",
       "      <td>1</td>\n",
       "      <td>0</td>\n",
       "      <td>0</td>\n",
       "      <td>1</td>\n",
       "      <td>0</td>\n",
       "      <td>0</td>\n",
       "      <td>1</td>\n",
       "      <td>0</td>\n",
       "      <td>0</td>\n",
       "      <td>0</td>\n",
       "      <td>1</td>\n",
       "      <td>0</td>\n",
       "      <td>0</td>\n",
       "      <td>0</td>\n",
       "      <td>0</td>\n",
       "      <td>0</td>\n",
       "      <td>0</td>\n",
       "      <td>1</td>\n",
       "      <td>0</td>\n",
       "      <td>0</td>\n",
       "      <td>1</td>\n",
       "      <td>0</td>\n",
       "      <td>0</td>\n",
       "      <td>0</td>\n",
       "      <td>0</td>\n",
       "      <td>1</td>\n",
       "      <td>0</td>\n",
       "      <td>0</td>\n",
       "      <td>1</td>\n",
       "      <td>0</td>\n",
       "      <td>0</td>\n",
       "      <td>0</td>\n",
       "      <td>0</td>\n",
       "      <td>0</td>\n",
       "      <td>0</td>\n",
       "      <td>0</td>\n",
       "      <td>0</td>\n",
       "      <td>0</td>\n",
       "      <td>1</td>\n",
       "      <td>0</td>\n",
       "      <td>0</td>\n",
       "      <td>0</td>\n",
       "      <td>1</td>\n",
       "      <td>0</td>\n",
       "      <td>0</td>\n",
       "      <td>0</td>\n",
       "      <td>0</td>\n",
       "      <td>0</td>\n",
       "      <td>0</td>\n",
       "      <td>1</td>\n",
       "      <td>0</td>\n",
       "      <td>0</td>\n",
       "      <td>0</td>\n",
       "      <td>1</td>\n",
       "    </tr>\n",
       "    <tr>\n",
       "      <th>2</th>\n",
       "      <td>1.189407</td>\n",
       "      <td>1</td>\n",
       "      <td>-0.416562</td>\n",
       "      <td>-0.738668</td>\n",
       "      <td>1</td>\n",
       "      <td>0</td>\n",
       "      <td>1</td>\n",
       "      <td>0</td>\n",
       "      <td>0</td>\n",
       "      <td>0</td>\n",
       "      <td>1</td>\n",
       "      <td>0</td>\n",
       "      <td>0</td>\n",
       "      <td>1</td>\n",
       "      <td>0</td>\n",
       "      <td>0</td>\n",
       "      <td>1</td>\n",
       "      <td>0</td>\n",
       "      <td>0</td>\n",
       "      <td>0</td>\n",
       "      <td>0</td>\n",
       "      <td>0</td>\n",
       "      <td>1</td>\n",
       "      <td>0</td>\n",
       "      <td>0</td>\n",
       "      <td>1</td>\n",
       "      <td>0</td>\n",
       "      <td>0</td>\n",
       "      <td>0</td>\n",
       "      <td>0</td>\n",
       "      <td>1</td>\n",
       "      <td>0</td>\n",
       "      <td>0</td>\n",
       "      <td>0</td>\n",
       "      <td>0</td>\n",
       "      <td>0</td>\n",
       "      <td>0</td>\n",
       "      <td>0</td>\n",
       "      <td>1</td>\n",
       "      <td>0</td>\n",
       "      <td>0</td>\n",
       "      <td>0</td>\n",
       "      <td>1</td>\n",
       "      <td>0</td>\n",
       "      <td>0</td>\n",
       "      <td>0</td>\n",
       "      <td>0</td>\n",
       "      <td>1</td>\n",
       "      <td>0</td>\n",
       "      <td>0</td>\n",
       "      <td>0</td>\n",
       "      <td>0</td>\n",
       "      <td>0</td>\n",
       "      <td>1</td>\n",
       "      <td>0</td>\n",
       "      <td>0</td>\n",
       "      <td>0</td>\n",
       "      <td>0</td>\n",
       "      <td>1</td>\n",
       "      <td>0</td>\n",
       "      <td>0</td>\n",
       "    </tr>\n",
       "    <tr>\n",
       "      <th>3</th>\n",
       "      <td>0.836152</td>\n",
       "      <td>1</td>\n",
       "      <td>1.634247</td>\n",
       "      <td>1.750384</td>\n",
       "      <td>1</td>\n",
       "      <td>0</td>\n",
       "      <td>0</td>\n",
       "      <td>1</td>\n",
       "      <td>0</td>\n",
       "      <td>1</td>\n",
       "      <td>0</td>\n",
       "      <td>0</td>\n",
       "      <td>0</td>\n",
       "      <td>1</td>\n",
       "      <td>0</td>\n",
       "      <td>0</td>\n",
       "      <td>1</td>\n",
       "      <td>0</td>\n",
       "      <td>0</td>\n",
       "      <td>0</td>\n",
       "      <td>0</td>\n",
       "      <td>0</td>\n",
       "      <td>0</td>\n",
       "      <td>1</td>\n",
       "      <td>0</td>\n",
       "      <td>1</td>\n",
       "      <td>0</td>\n",
       "      <td>0</td>\n",
       "      <td>0</td>\n",
       "      <td>0</td>\n",
       "      <td>1</td>\n",
       "      <td>0</td>\n",
       "      <td>0</td>\n",
       "      <td>0</td>\n",
       "      <td>0</td>\n",
       "      <td>0</td>\n",
       "      <td>0</td>\n",
       "      <td>1</td>\n",
       "      <td>0</td>\n",
       "      <td>0</td>\n",
       "      <td>0</td>\n",
       "      <td>1</td>\n",
       "      <td>0</td>\n",
       "      <td>0</td>\n",
       "      <td>0</td>\n",
       "      <td>0</td>\n",
       "      <td>0</td>\n",
       "      <td>0</td>\n",
       "      <td>1</td>\n",
       "      <td>0</td>\n",
       "      <td>0</td>\n",
       "      <td>0</td>\n",
       "      <td>0</td>\n",
       "      <td>0</td>\n",
       "      <td>0</td>\n",
       "      <td>1</td>\n",
       "      <td>0</td>\n",
       "      <td>0</td>\n",
       "      <td>0</td>\n",
       "      <td>0</td>\n",
       "      <td>1</td>\n",
       "    </tr>\n",
       "    <tr>\n",
       "      <th>4</th>\n",
       "      <td>1.542661</td>\n",
       "      <td>1</td>\n",
       "      <td>0.566664</td>\n",
       "      <td>0.256953</td>\n",
       "      <td>0</td>\n",
       "      <td>0</td>\n",
       "      <td>0</td>\n",
       "      <td>1</td>\n",
       "      <td>0</td>\n",
       "      <td>1</td>\n",
       "      <td>0</td>\n",
       "      <td>0</td>\n",
       "      <td>0</td>\n",
       "      <td>1</td>\n",
       "      <td>0</td>\n",
       "      <td>0</td>\n",
       "      <td>1</td>\n",
       "      <td>0</td>\n",
       "      <td>0</td>\n",
       "      <td>0</td>\n",
       "      <td>0</td>\n",
       "      <td>1</td>\n",
       "      <td>0</td>\n",
       "      <td>0</td>\n",
       "      <td>0</td>\n",
       "      <td>0</td>\n",
       "      <td>1</td>\n",
       "      <td>0</td>\n",
       "      <td>0</td>\n",
       "      <td>0</td>\n",
       "      <td>0</td>\n",
       "      <td>1</td>\n",
       "      <td>0</td>\n",
       "      <td>0</td>\n",
       "      <td>0</td>\n",
       "      <td>0</td>\n",
       "      <td>0</td>\n",
       "      <td>1</td>\n",
       "      <td>0</td>\n",
       "      <td>0</td>\n",
       "      <td>1</td>\n",
       "      <td>0</td>\n",
       "      <td>0</td>\n",
       "      <td>0</td>\n",
       "      <td>0</td>\n",
       "      <td>0</td>\n",
       "      <td>0</td>\n",
       "      <td>0</td>\n",
       "      <td>1</td>\n",
       "      <td>0</td>\n",
       "      <td>0</td>\n",
       "      <td>0</td>\n",
       "      <td>0</td>\n",
       "      <td>0</td>\n",
       "      <td>1</td>\n",
       "      <td>0</td>\n",
       "      <td>0</td>\n",
       "      <td>0</td>\n",
       "      <td>0</td>\n",
       "      <td>0</td>\n",
       "      <td>1</td>\n",
       "    </tr>\n",
       "  </tbody>\n",
       "</table>\n",
       "</div>"
      ],
      "text/plain": [
       "        Age  Sex  Credit amount  Duration  Risk  Job_0  Job_1  Job_2  Job_3  \\\n",
       "0  2.779050    1      -0.745131 -1.236478     1      0      0      1      0   \n",
       "1 -1.195059    0       0.949817  2.248194     0      0      0      1      0   \n",
       "2  1.189407    1      -0.416562 -0.738668     1      0      1      0      0   \n",
       "3  0.836152    1       1.634247  1.750384     1      0      0      1      0   \n",
       "4  1.542661    1       0.566664  0.256953     0      0      0      1      0   \n",
       "\n",
       "   Housing_free  Housing_own  Housing_rent  Saving accounts_Rare  \\\n",
       "0             0            1             0                     0   \n",
       "1             0            1             0                     0   \n",
       "2             0            1             0                     0   \n",
       "3             1            0             0                     0   \n",
       "4             1            0             0                     0   \n",
       "\n",
       "   Saving accounts_little  Saving accounts_moderate  \\\n",
       "0                       1                         0   \n",
       "1                       1                         0   \n",
       "2                       1                         0   \n",
       "3                       1                         0   \n",
       "4                       1                         0   \n",
       "\n",
       "   Saving accounts_quite rich  Checking account_little  \\\n",
       "0                           0                        1   \n",
       "1                           0                        0   \n",
       "2                           0                        1   \n",
       "3                           0                        1   \n",
       "4                           0                        1   \n",
       "\n",
       "   Checking account_moderate  Checking account_rich  Purpose_Rare  \\\n",
       "0                          0                      0             0   \n",
       "1                          1                      0             0   \n",
       "2                          0                      0             0   \n",
       "3                          0                      0             0   \n",
       "4                          0                      0             0   \n",
       "\n",
       "   Purpose_business  Purpose_car  Purpose_education  \\\n",
       "0                 0            0                  0   \n",
       "1                 0            0                  0   \n",
       "2                 0            0                  1   \n",
       "3                 0            0                  0   \n",
       "4                 0            1                  0   \n",
       "\n",
       "   Purpose_furniture/equipment  Purpose_radio/TV  new_age_mature  \\\n",
       "0                            0                 1               0   \n",
       "1                            0                 1               0   \n",
       "2                            0                 0               1   \n",
       "3                            1                 0               1   \n",
       "4                            0                 0               0   \n",
       "\n",
       "   new_age_senior  new_age_young  new_age_Sex_Rare  new_age_Sex_mature_female  \\\n",
       "0               1              0                 0                          0   \n",
       "1               0              1                 0                          0   \n",
       "2               0              0                 0                          0   \n",
       "3               0              0                 0                          0   \n",
       "4               1              0                 0                          0   \n",
       "\n",
       "   new_age_Sex_mature_male  new_age_Sex_senior_male  new_age_Sex_young_female  \\\n",
       "0                        0                        1                         0   \n",
       "1                        0                        0                         1   \n",
       "2                        1                        0                         0   \n",
       "3                        1                        0                         0   \n",
       "4                        0                        1                         0   \n",
       "\n",
       "   new_age_Sex_young_male  Sex_Housing_Rare  Sex_Housing_female_own  \\\n",
       "0                       0                 0                       0   \n",
       "1                       0                 0                       1   \n",
       "2                       0                 0                       0   \n",
       "3                       0                 0                       0   \n",
       "4                       0                 0                       0   \n",
       "\n",
       "   Sex_Housing_female_rent  Sex_Housing_male_free  Sex_Housing_male_own  \\\n",
       "0                        0                      0                     1   \n",
       "1                        0                      0                     0   \n",
       "2                        0                      0                     1   \n",
       "3                        0                      1                     0   \n",
       "4                        0                      1                     0   \n",
       "\n",
       "   Sex_Housing_male_rent  new_age_Housing_Rare  new_age_Housing_mature_free  \\\n",
       "0                      0                     0                            0   \n",
       "1                      0                     0                            0   \n",
       "2                      0                     0                            0   \n",
       "3                      0                     0                            1   \n",
       "4                      0                     1                            0   \n",
       "\n",
       "   new_age_Housing_mature_own  new_age_Housing_mature_rent  \\\n",
       "0                           0                            0   \n",
       "1                           0                            0   \n",
       "2                           1                            0   \n",
       "3                           0                            0   \n",
       "4                           0                            0   \n",
       "\n",
       "   new_age_Housing_senior_own  new_age_Housing_young_own  \\\n",
       "0                           1                          0   \n",
       "1                           0                          1   \n",
       "2                           0                          0   \n",
       "3                           0                          0   \n",
       "4                           0                          0   \n",
       "\n",
       "   new_age_Housing_young_rent  Job_Housing_1_own  Job_Housing_2_free  \\\n",
       "0                           0                  0                   0   \n",
       "1                           0                  0                   0   \n",
       "2                           0                  1                   0   \n",
       "3                           0                  0                   1   \n",
       "4                           0                  0                   1   \n",
       "\n",
       "   Job_Housing_2_own  Job_Housing_2_rent  Job_Housing_3_own  Job_Housing_Rare  \\\n",
       "0                  1                   0                  0                 0   \n",
       "1                  1                   0                  0                 0   \n",
       "2                  0                   0                  0                 0   \n",
       "3                  0                   0                  0                 0   \n",
       "4                  0                   0                  0                 0   \n",
       "\n",
       "   new_duration_A  new_duration_B  new_duration_C  new_duration_D  \\\n",
       "0               1               0               0               0   \n",
       "1               0               0               0               1   \n",
       "2               1               0               0               0   \n",
       "3               0               0               1               0   \n",
       "4               0               1               0               0   \n",
       "\n",
       "   new_Credit_amount_A  new_Credit_amount_B  new_Credit_amount_C  \\\n",
       "0                    1                    0                    0   \n",
       "1                    0                    0                    0   \n",
       "2                    0                    1                    0   \n",
       "3                    0                    0                    0   \n",
       "4                    0                    0                    0   \n",
       "\n",
       "   new_Credit_amount_D  \n",
       "0                    0  \n",
       "1                    1  \n",
       "2                    0  \n",
       "3                    1  \n",
       "4                    1  "
      ]
     },
     "execution_count": 73,
     "metadata": {},
     "output_type": "execute_result"
    }
   ],
   "source": [
    "df.head()"
   ]
  },
  {
   "cell_type": "markdown",
   "metadata": {},
   "source": [
    "### 6-Modelleme"
   ]
  },
  {
   "cell_type": "markdown",
   "metadata": {},
   "source": [
    "* Veri ön işlemesini bitirdiğimiz veriyi modele katıyoruz."
   ]
  },
  {
   "cell_type": "code",
   "execution_count": 74,
   "metadata": {
    "execution": {
     "iopub.execute_input": "2021-06-29T09:25:03.093095Z",
     "iopub.status.busy": "2021-06-29T09:25:03.092658Z",
     "iopub.status.idle": "2021-06-29T09:25:03.375090Z",
     "shell.execute_reply": "2021-06-29T09:25:03.374126Z",
     "shell.execute_reply.started": "2021-06-29T09:25:03.093049Z"
    }
   },
   "outputs": [
    {
     "data": {
      "text/plain": [
       "0.705"
      ]
     },
     "execution_count": 74,
     "metadata": {},
     "output_type": "execute_result"
    }
   ],
   "source": [
    "y = df[\"Risk\"]\n",
    "X = df.drop(\"Risk\",axis=1)\n",
    "X_train, X_test, y_train, y_test = train_test_split(X, y, test_size=0.20, random_state=10)\n",
    "rf_model = RandomForestClassifier(random_state=46).fit(X_train, y_train)\n",
    "y_pred = rf_model.predict(X_test)\n",
    "accuracy_score(y_pred, y_test)"
   ]
  },
  {
   "cell_type": "markdown",
   "metadata": {},
   "source": [
    "* Modelin ön işlemesini yaptığımız parametrelere göre hedef değişkeni tahmin etme oranı %70.5 'miş gayet iyi."
   ]
  },
  {
   "cell_type": "markdown",
   "metadata": {},
   "source": [
    "* Şimdi ise veri ön işlemenin önemini çok daha iyi anlayabilmek için veri ön işleme yapmadığımız yani verinin ilk okutulduğu halini modele katıyoruz."
   ]
  },
  {
   "cell_type": "code",
   "execution_count": 75,
   "metadata": {
    "execution": {
     "iopub.execute_input": "2021-06-29T09:25:03.376825Z",
     "iopub.status.busy": "2021-06-29T09:25:03.376410Z",
     "iopub.status.idle": "2021-06-29T09:25:03.385277Z",
     "shell.execute_reply": "2021-06-29T09:25:03.384266Z",
     "shell.execute_reply.started": "2021-06-29T09:25:03.376783Z"
    }
   },
   "outputs": [],
   "source": [
    "dff.dropna(inplace=True)"
   ]
  },
  {
   "cell_type": "code",
   "execution_count": 76,
   "metadata": {
    "execution": {
     "iopub.execute_input": "2021-06-29T09:25:03.386788Z",
     "iopub.status.busy": "2021-06-29T09:25:03.386505Z",
     "iopub.status.idle": "2021-06-29T09:25:03.400873Z",
     "shell.execute_reply": "2021-06-29T09:25:03.400003Z",
     "shell.execute_reply.started": "2021-06-29T09:25:03.386761Z"
    }
   },
   "outputs": [],
   "source": [
    "dff = pd.get_dummies(dff, columns=[\"Sex\"], drop_first=True)"
   ]
  },
  {
   "cell_type": "code",
   "execution_count": 77,
   "metadata": {
    "execution": {
     "iopub.execute_input": "2021-06-29T09:25:03.402599Z",
     "iopub.status.busy": "2021-06-29T09:25:03.402297Z",
     "iopub.status.idle": "2021-06-29T09:25:03.644940Z",
     "shell.execute_reply": "2021-06-29T09:25:03.644058Z",
     "shell.execute_reply.started": "2021-06-29T09:25:03.402571Z"
    }
   },
   "outputs": [
    {
     "data": {
      "text/plain": [
       "0.580952380952381"
      ]
     },
     "execution_count": 77,
     "metadata": {},
     "output_type": "execute_result"
    }
   ],
   "source": [
    "y = dff[\"Risk\"]\n",
    "X = dff.drop([\"Unnamed: 0\",\"Risk\",\"Housing\",\"Saving accounts\",\"Checking account\",\"Purpose\"],axis=1)\n",
    "X_train, X_test, y_train, y_test = train_test_split(X, y, test_size=0.20, random_state=10)\n",
    "rf_model = RandomForestClassifier(random_state=46).fit(X_train, y_train)\n",
    "y_pred = rf_model.predict(X_test)\n",
    "accuracy_score(y_pred, y_test)"
   ]
  },
  {
   "cell_type": "markdown",
   "metadata": {},
   "source": [
    "Görüldüğü üzere tahmin başarımız ön işleme yapılmadan %58.0 iken ön işleme yaptığımızda %70.5'e çıkmış.\n",
    "Kısacası veri ön işleme işlemi ne kadar iyi yapılırsa veriden o kadar anlamlı sonuçlar elde ederiz.\n",
    "Veri ön işleme hayat kurtarır :))"
   ]
  }
 ],
 "metadata": {
  "kernelspec": {
   "display_name": "Python 3",
   "language": "python",
   "name": "python3"
  },
  "language_info": {
   "codemirror_mode": {
    "name": "ipython",
    "version": 3
   },
   "file_extension": ".py",
   "mimetype": "text/x-python",
   "name": "python",
   "nbconvert_exporter": "python",
   "pygments_lexer": "ipython3",
   "version": "3.8.12"
  }
 },
 "nbformat": 4,
 "nbformat_minor": 4
}
