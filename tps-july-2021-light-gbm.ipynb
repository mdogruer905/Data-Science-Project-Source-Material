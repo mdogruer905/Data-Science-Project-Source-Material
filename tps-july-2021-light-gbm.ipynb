{
 "cells": [
  {
   "cell_type": "code",
   "execution_count": 1,
   "id": "irish-snake",
   "metadata": {
    "_cell_guid": "b1076dfc-b9ad-4769-8c92-a6c4dae69d19",
    "_uuid": "8f2839f25d086af736a60e9eeb907d3b93b6e0e5",
    "execution": {
     "iopub.execute_input": "2021-07-01T08:24:07.142403Z",
     "iopub.status.busy": "2021-07-01T08:24:07.141749Z",
     "iopub.status.idle": "2021-07-01T08:24:08.387962Z",
     "shell.execute_reply": "2021-07-01T08:24:08.387267Z",
     "shell.execute_reply.started": "2021-07-01T07:50:09.688475Z"
    },
    "papermill": {
     "duration": 1.271001,
     "end_time": "2021-07-01T08:24:08.388155",
     "exception": false,
     "start_time": "2021-07-01T08:24:07.117154",
     "status": "completed"
    },
    "tags": []
   },
   "outputs": [
    {
     "name": "stdout",
     "output_type": "stream",
     "text": [
      "/kaggle/input/tabular-playground-series-jul-2021/sample_submission.csv\n",
      "/kaggle/input/tabular-playground-series-jul-2021/train.csv\n",
      "/kaggle/input/tabular-playground-series-jul-2021/test.csv\n"
     ]
    }
   ],
   "source": [
    "import numpy as np # linear algebra\n",
    "import pandas as pd # data processing, CSV file I/O (e.g. pd.read_csv)\n",
    "from sklearn.linear_model import Ridge,Lasso\n",
    "from sklearn.metrics import mean_squared_error,r2_score \n",
    "from sklearn.model_selection import train_test_split\n",
    "from sklearn import model_selection \n",
    "import matplotlib.pyplot as plt\n",
    "import seaborn as sns\n",
    "from sklearn.linear_model import RidgeCV,LassoCV #Cross validation\n",
    "import os\n",
    "for dirname, _, filenames in os.walk('/kaggle/input'):\n",
    "    for filename in filenames:\n",
    "        print(os.path.join(dirname, filename))\n",
    "\n"
   ]
  },
  {
   "cell_type": "code",
   "execution_count": 2,
   "id": "protecting-crime",
   "metadata": {
    "execution": {
     "iopub.execute_input": "2021-07-01T08:24:08.413491Z",
     "iopub.status.busy": "2021-07-01T08:24:08.412815Z",
     "iopub.status.idle": "2021-07-01T08:24:08.477774Z",
     "shell.execute_reply": "2021-07-01T08:24:08.477214Z",
     "shell.execute_reply.started": "2021-07-01T07:48:28.693315Z"
    },
    "papermill": {
     "duration": 0.079458,
     "end_time": "2021-07-01T08:24:08.477925",
     "exception": false,
     "start_time": "2021-07-01T08:24:08.398467",
     "status": "completed"
    },
    "tags": []
   },
   "outputs": [],
   "source": [
    "train = pd.read_csv(\"/kaggle/input/tabular-playground-series-jul-2021/train.csv\")\n",
    "test = pd.read_csv(\"/kaggle/input/tabular-playground-series-jul-2021/test.csv\")\n",
    "subm = pd.read_csv(\"/kaggle/input/tabular-playground-series-jul-2021/sample_submission.csv\")"
   ]
  },
  {
   "cell_type": "code",
   "execution_count": 3,
   "id": "another-arabic",
   "metadata": {
    "execution": {
     "iopub.execute_input": "2021-07-01T08:24:08.507198Z",
     "iopub.status.busy": "2021-07-01T08:24:08.505677Z",
     "iopub.status.idle": "2021-07-01T08:24:08.538447Z",
     "shell.execute_reply": "2021-07-01T08:24:08.537833Z",
     "shell.execute_reply.started": "2021-07-01T07:52:02.086673Z"
    },
    "papermill": {
     "duration": 0.050982,
     "end_time": "2021-07-01T08:24:08.538637",
     "exception": false,
     "start_time": "2021-07-01T08:24:08.487655",
     "status": "completed"
    },
    "tags": []
   },
   "outputs": [
    {
     "data": {
      "text/html": [
       "<div>\n",
       "<style scoped>\n",
       "    .dataframe tbody tr th:only-of-type {\n",
       "        vertical-align: middle;\n",
       "    }\n",
       "\n",
       "    .dataframe tbody tr th {\n",
       "        vertical-align: top;\n",
       "    }\n",
       "\n",
       "    .dataframe thead th {\n",
       "        text-align: right;\n",
       "    }\n",
       "</style>\n",
       "<table border=\"1\" class=\"dataframe\">\n",
       "  <thead>\n",
       "    <tr style=\"text-align: right;\">\n",
       "      <th></th>\n",
       "      <th>date_time</th>\n",
       "      <th>deg_C</th>\n",
       "      <th>relative_humidity</th>\n",
       "      <th>absolute_humidity</th>\n",
       "      <th>sensor_1</th>\n",
       "      <th>sensor_2</th>\n",
       "      <th>sensor_3</th>\n",
       "      <th>sensor_4</th>\n",
       "      <th>sensor_5</th>\n",
       "      <th>target_carbon_monoxide</th>\n",
       "      <th>target_benzene</th>\n",
       "      <th>target_nitrogen_oxides</th>\n",
       "    </tr>\n",
       "  </thead>\n",
       "  <tbody>\n",
       "    <tr>\n",
       "      <th>0</th>\n",
       "      <td>2010-03-10 18:00:00</td>\n",
       "      <td>13.1</td>\n",
       "      <td>46.0</td>\n",
       "      <td>0.7578</td>\n",
       "      <td>1387.2</td>\n",
       "      <td>1087.8</td>\n",
       "      <td>1056.0</td>\n",
       "      <td>1742.8</td>\n",
       "      <td>1293.4</td>\n",
       "      <td>2.5</td>\n",
       "      <td>12.0</td>\n",
       "      <td>167.7</td>\n",
       "    </tr>\n",
       "    <tr>\n",
       "      <th>1</th>\n",
       "      <td>2010-03-10 19:00:00</td>\n",
       "      <td>13.2</td>\n",
       "      <td>45.3</td>\n",
       "      <td>0.7255</td>\n",
       "      <td>1279.1</td>\n",
       "      <td>888.2</td>\n",
       "      <td>1197.5</td>\n",
       "      <td>1449.9</td>\n",
       "      <td>1010.9</td>\n",
       "      <td>2.1</td>\n",
       "      <td>9.9</td>\n",
       "      <td>98.9</td>\n",
       "    </tr>\n",
       "    <tr>\n",
       "      <th>2</th>\n",
       "      <td>2010-03-10 20:00:00</td>\n",
       "      <td>12.6</td>\n",
       "      <td>56.2</td>\n",
       "      <td>0.7502</td>\n",
       "      <td>1331.9</td>\n",
       "      <td>929.6</td>\n",
       "      <td>1060.2</td>\n",
       "      <td>1586.1</td>\n",
       "      <td>1117.0</td>\n",
       "      <td>2.2</td>\n",
       "      <td>9.2</td>\n",
       "      <td>127.1</td>\n",
       "    </tr>\n",
       "    <tr>\n",
       "      <th>3</th>\n",
       "      <td>2010-03-10 21:00:00</td>\n",
       "      <td>11.0</td>\n",
       "      <td>62.4</td>\n",
       "      <td>0.7867</td>\n",
       "      <td>1321.0</td>\n",
       "      <td>929.0</td>\n",
       "      <td>1102.9</td>\n",
       "      <td>1536.5</td>\n",
       "      <td>1263.2</td>\n",
       "      <td>2.2</td>\n",
       "      <td>9.7</td>\n",
       "      <td>177.2</td>\n",
       "    </tr>\n",
       "    <tr>\n",
       "      <th>4</th>\n",
       "      <td>2010-03-10 22:00:00</td>\n",
       "      <td>11.9</td>\n",
       "      <td>59.0</td>\n",
       "      <td>0.7888</td>\n",
       "      <td>1272.0</td>\n",
       "      <td>852.7</td>\n",
       "      <td>1180.9</td>\n",
       "      <td>1415.5</td>\n",
       "      <td>1132.2</td>\n",
       "      <td>1.5</td>\n",
       "      <td>6.4</td>\n",
       "      <td>121.8</td>\n",
       "    </tr>\n",
       "  </tbody>\n",
       "</table>\n",
       "</div>"
      ],
      "text/plain": [
       "             date_time  deg_C  relative_humidity  absolute_humidity  sensor_1  \\\n",
       "0  2010-03-10 18:00:00   13.1               46.0             0.7578    1387.2   \n",
       "1  2010-03-10 19:00:00   13.2               45.3             0.7255    1279.1   \n",
       "2  2010-03-10 20:00:00   12.6               56.2             0.7502    1331.9   \n",
       "3  2010-03-10 21:00:00   11.0               62.4             0.7867    1321.0   \n",
       "4  2010-03-10 22:00:00   11.9               59.0             0.7888    1272.0   \n",
       "\n",
       "   sensor_2  sensor_3  sensor_4  sensor_5  target_carbon_monoxide  \\\n",
       "0    1087.8    1056.0    1742.8    1293.4                     2.5   \n",
       "1     888.2    1197.5    1449.9    1010.9                     2.1   \n",
       "2     929.6    1060.2    1586.1    1117.0                     2.2   \n",
       "3     929.0    1102.9    1536.5    1263.2                     2.2   \n",
       "4     852.7    1180.9    1415.5    1132.2                     1.5   \n",
       "\n",
       "   target_benzene  target_nitrogen_oxides  \n",
       "0            12.0                   167.7  \n",
       "1             9.9                    98.9  \n",
       "2             9.2                   127.1  \n",
       "3             9.7                   177.2  \n",
       "4             6.4                   121.8  "
      ]
     },
     "execution_count": 3,
     "metadata": {},
     "output_type": "execute_result"
    }
   ],
   "source": [
    "train.head()"
   ]
  },
  {
   "cell_type": "code",
   "execution_count": 4,
   "id": "framed-riverside",
   "metadata": {
    "execution": {
     "iopub.execute_input": "2021-07-01T08:24:08.577619Z",
     "iopub.status.busy": "2021-07-01T08:24:08.576686Z",
     "iopub.status.idle": "2021-07-01T08:24:08.581255Z",
     "shell.execute_reply": "2021-07-01T08:24:08.580684Z",
     "shell.execute_reply.started": "2021-07-01T07:48:28.746329Z"
    },
    "papermill": {
     "duration": 0.032174,
     "end_time": "2021-07-01T08:24:08.581397",
     "exception": false,
     "start_time": "2021-07-01T08:24:08.549223",
     "status": "completed"
    },
    "tags": []
   },
   "outputs": [
    {
     "data": {
      "text/html": [
       "<div>\n",
       "<style scoped>\n",
       "    .dataframe tbody tr th:only-of-type {\n",
       "        vertical-align: middle;\n",
       "    }\n",
       "\n",
       "    .dataframe tbody tr th {\n",
       "        vertical-align: top;\n",
       "    }\n",
       "\n",
       "    .dataframe thead th {\n",
       "        text-align: right;\n",
       "    }\n",
       "</style>\n",
       "<table border=\"1\" class=\"dataframe\">\n",
       "  <thead>\n",
       "    <tr style=\"text-align: right;\">\n",
       "      <th></th>\n",
       "      <th>date_time</th>\n",
       "      <th>deg_C</th>\n",
       "      <th>relative_humidity</th>\n",
       "      <th>absolute_humidity</th>\n",
       "      <th>sensor_1</th>\n",
       "      <th>sensor_2</th>\n",
       "      <th>sensor_3</th>\n",
       "      <th>sensor_4</th>\n",
       "      <th>sensor_5</th>\n",
       "    </tr>\n",
       "  </thead>\n",
       "  <tbody>\n",
       "    <tr>\n",
       "      <th>0</th>\n",
       "      <td>2011-01-01 00:00:00</td>\n",
       "      <td>8.0</td>\n",
       "      <td>41.3</td>\n",
       "      <td>0.4375</td>\n",
       "      <td>1108.8</td>\n",
       "      <td>745.7</td>\n",
       "      <td>797.1</td>\n",
       "      <td>880.0</td>\n",
       "      <td>1273.1</td>\n",
       "    </tr>\n",
       "    <tr>\n",
       "      <th>1</th>\n",
       "      <td>2011-01-01 01:00:00</td>\n",
       "      <td>5.1</td>\n",
       "      <td>51.7</td>\n",
       "      <td>0.4564</td>\n",
       "      <td>1249.5</td>\n",
       "      <td>864.9</td>\n",
       "      <td>687.9</td>\n",
       "      <td>972.8</td>\n",
       "      <td>1714.0</td>\n",
       "    </tr>\n",
       "    <tr>\n",
       "      <th>2</th>\n",
       "      <td>2011-01-01 02:00:00</td>\n",
       "      <td>5.8</td>\n",
       "      <td>51.5</td>\n",
       "      <td>0.4689</td>\n",
       "      <td>1102.6</td>\n",
       "      <td>878.0</td>\n",
       "      <td>693.7</td>\n",
       "      <td>941.9</td>\n",
       "      <td>1300.8</td>\n",
       "    </tr>\n",
       "    <tr>\n",
       "      <th>3</th>\n",
       "      <td>2011-01-01 03:00:00</td>\n",
       "      <td>5.0</td>\n",
       "      <td>52.3</td>\n",
       "      <td>0.4693</td>\n",
       "      <td>1139.7</td>\n",
       "      <td>916.2</td>\n",
       "      <td>725.6</td>\n",
       "      <td>1011.0</td>\n",
       "      <td>1283.0</td>\n",
       "    </tr>\n",
       "    <tr>\n",
       "      <th>4</th>\n",
       "      <td>2011-01-01 04:00:00</td>\n",
       "      <td>4.5</td>\n",
       "      <td>57.5</td>\n",
       "      <td>0.4650</td>\n",
       "      <td>1022.4</td>\n",
       "      <td>838.5</td>\n",
       "      <td>871.5</td>\n",
       "      <td>967.0</td>\n",
       "      <td>1142.3</td>\n",
       "    </tr>\n",
       "  </tbody>\n",
       "</table>\n",
       "</div>"
      ],
      "text/plain": [
       "             date_time  deg_C  relative_humidity  absolute_humidity  sensor_1  \\\n",
       "0  2011-01-01 00:00:00    8.0               41.3             0.4375    1108.8   \n",
       "1  2011-01-01 01:00:00    5.1               51.7             0.4564    1249.5   \n",
       "2  2011-01-01 02:00:00    5.8               51.5             0.4689    1102.6   \n",
       "3  2011-01-01 03:00:00    5.0               52.3             0.4693    1139.7   \n",
       "4  2011-01-01 04:00:00    4.5               57.5             0.4650    1022.4   \n",
       "\n",
       "   sensor_2  sensor_3  sensor_4  sensor_5  \n",
       "0     745.7     797.1     880.0    1273.1  \n",
       "1     864.9     687.9     972.8    1714.0  \n",
       "2     878.0     693.7     941.9    1300.8  \n",
       "3     916.2     725.6    1011.0    1283.0  \n",
       "4     838.5     871.5     967.0    1142.3  "
      ]
     },
     "execution_count": 4,
     "metadata": {},
     "output_type": "execute_result"
    }
   ],
   "source": [
    "test.head()"
   ]
  },
  {
   "cell_type": "code",
   "execution_count": 5,
   "id": "peaceful-production",
   "metadata": {
    "execution": {
     "iopub.execute_input": "2021-07-01T08:24:08.608150Z",
     "iopub.status.busy": "2021-07-01T08:24:08.607449Z",
     "iopub.status.idle": "2021-07-01T08:24:08.611314Z",
     "shell.execute_reply": "2021-07-01T08:24:08.610645Z",
     "shell.execute_reply.started": "2021-07-01T07:48:28.775133Z"
    },
    "papermill": {
     "duration": 0.019154,
     "end_time": "2021-07-01T08:24:08.611461",
     "exception": false,
     "start_time": "2021-07-01T08:24:08.592307",
     "status": "completed"
    },
    "tags": []
   },
   "outputs": [
    {
     "data": {
      "text/plain": [
       "(2247, 4)"
      ]
     },
     "execution_count": 5,
     "metadata": {},
     "output_type": "execute_result"
    }
   ],
   "source": [
    "subm.shape"
   ]
  },
  {
   "cell_type": "code",
   "execution_count": 6,
   "id": "heated-transcription",
   "metadata": {
    "execution": {
     "iopub.execute_input": "2021-07-01T08:24:08.640606Z",
     "iopub.status.busy": "2021-07-01T08:24:08.639635Z",
     "iopub.status.idle": "2021-07-01T08:24:08.643408Z",
     "shell.execute_reply": "2021-07-01T08:24:08.643934Z",
     "shell.execute_reply.started": "2021-07-01T07:48:28.788929Z"
    },
    "papermill": {
     "duration": 0.021277,
     "end_time": "2021-07-01T08:24:08.644127",
     "exception": false,
     "start_time": "2021-07-01T08:24:08.622850",
     "status": "completed"
    },
    "tags": []
   },
   "outputs": [
    {
     "data": {
      "text/plain": [
       "Index(['deg_C', 'relative_humidity', 'absolute_humidity', 'sensor_1',\n",
       "       'sensor_2', 'sensor_3', 'sensor_4', 'sensor_5'],\n",
       "      dtype='object')"
      ]
     },
     "execution_count": 6,
     "metadata": {},
     "output_type": "execute_result"
    }
   ],
   "source": [
    "columns = test.columns[1:]\n",
    "columns"
   ]
  },
  {
   "cell_type": "code",
   "execution_count": 7,
   "id": "shaped-brake",
   "metadata": {
    "execution": {
     "iopub.execute_input": "2021-07-01T08:24:08.679449Z",
     "iopub.status.busy": "2021-07-01T08:24:08.678782Z",
     "iopub.status.idle": "2021-07-01T08:24:08.682088Z",
     "shell.execute_reply": "2021-07-01T08:24:08.681424Z",
     "shell.execute_reply.started": "2021-07-01T07:48:28.803569Z"
    },
    "papermill": {
     "duration": 0.026503,
     "end_time": "2021-07-01T08:24:08.682234",
     "exception": false,
     "start_time": "2021-07-01T08:24:08.655731",
     "status": "completed"
    },
    "tags": []
   },
   "outputs": [],
   "source": [
    "X = train[columns].values\n",
    "X_test = test[columns].values\n",
    "value_1 = train['target_carbon_monoxide'].values.reshape(-1,1)\n",
    "value_2 = train['target_benzene'].values.reshape(-1,1)\n",
    "value_3 = train['target_nitrogen_oxides'].values.reshape(-1,1)"
   ]
  },
  {
   "cell_type": "code",
   "execution_count": 8,
   "id": "finished-bailey",
   "metadata": {
    "execution": {
     "iopub.execute_input": "2021-07-01T08:24:08.709908Z",
     "iopub.status.busy": "2021-07-01T08:24:08.709220Z",
     "iopub.status.idle": "2021-07-01T08:24:09.893124Z",
     "shell.execute_reply": "2021-07-01T08:24:09.892504Z",
     "shell.execute_reply.started": "2021-07-01T08:16:48.095666Z"
    },
    "papermill": {
     "duration": 1.199588,
     "end_time": "2021-07-01T08:24:09.893268",
     "exception": false,
     "start_time": "2021-07-01T08:24:08.693680",
     "status": "completed"
    },
    "tags": []
   },
   "outputs": [
    {
     "data": {
      "text/html": [
       "<style type='text/css'>\n",
       ".datatable table.frame { margin-bottom: 0; }\n",
       ".datatable table.frame thead { border-bottom: none; }\n",
       ".datatable table.frame tr.coltypes td {  color: #FFFFFF;  line-height: 6px;  padding: 0 0.5em;}\n",
       ".datatable .bool    { background: #DDDD99; }\n",
       ".datatable .object  { background: #565656; }\n",
       ".datatable .int     { background: #5D9E5D; }\n",
       ".datatable .float   { background: #4040CC; }\n",
       ".datatable .str     { background: #CC4040; }\n",
       ".datatable .row_index {  background: var(--jp-border-color3);  border-right: 1px solid var(--jp-border-color0);  color: var(--jp-ui-font-color3);  font-size: 9px;}\n",
       ".datatable .frame tr.coltypes .row_index {  background: var(--jp-border-color0);}\n",
       ".datatable th:nth-child(2) { padding-left: 12px; }\n",
       ".datatable .hellipsis {  color: var(--jp-cell-editor-border-color);}\n",
       ".datatable .vellipsis {  background: var(--jp-layout-color0);  color: var(--jp-cell-editor-border-color);}\n",
       ".datatable .na {  color: var(--jp-cell-editor-border-color);  font-size: 80%;}\n",
       ".datatable .footer { font-size: 9px; }\n",
       ".datatable .frame_dimensions {  background: var(--jp-border-color3);  border-top: 1px solid var(--jp-border-color0);  color: var(--jp-ui-font-color3);  display: inline-block;  opacity: 0.6;  padding: 1px 10px 1px 5px;}\n",
       "</style>\n"
      ],
      "text/plain": [
       "<IPython.core.display.HTML object>"
      ]
     },
     "metadata": {},
     "output_type": "display_data"
    }
   ],
   "source": [
    "from lightgbm import LGBMRegressor "
   ]
  },
  {
   "cell_type": "code",
   "execution_count": 9,
   "id": "robust-flower",
   "metadata": {
    "execution": {
     "iopub.execute_input": "2021-07-01T08:24:09.924357Z",
     "iopub.status.busy": "2021-07-01T08:24:09.923646Z",
     "iopub.status.idle": "2021-07-01T08:24:10.354242Z",
     "shell.execute_reply": "2021-07-01T08:24:10.355327Z",
     "shell.execute_reply.started": "2021-07-01T08:18:36.547042Z"
    },
    "papermill": {
     "duration": 0.450088,
     "end_time": "2021-07-01T08:24:10.355559",
     "exception": false,
     "start_time": "2021-07-01T08:24:09.905471",
     "status": "completed"
    },
    "tags": []
   },
   "outputs": [
    {
     "name": "stderr",
     "output_type": "stream",
     "text": [
      "/opt/conda/lib/python3.7/site-packages/sklearn/utils/validation.py:63: DataConversionWarning: A column-vector y was passed when a 1d array was expected. Please change the shape of y to (n_samples, ), for example using ravel().\n",
      "  return f(*args, **kwargs)\n",
      "/opt/conda/lib/python3.7/site-packages/sklearn/utils/validation.py:63: DataConversionWarning: A column-vector y was passed when a 1d array was expected. Please change the shape of y to (n_samples, ), for example using ravel().\n",
      "  return f(*args, **kwargs)\n",
      "/opt/conda/lib/python3.7/site-packages/sklearn/utils/validation.py:63: DataConversionWarning: A column-vector y was passed when a 1d array was expected. Please change the shape of y to (n_samples, ), for example using ravel().\n",
      "  return f(*args, **kwargs)\n"
     ]
    },
    {
     "data": {
      "text/html": [
       "<div>\n",
       "<style scoped>\n",
       "    .dataframe tbody tr th:only-of-type {\n",
       "        vertical-align: middle;\n",
       "    }\n",
       "\n",
       "    .dataframe tbody tr th {\n",
       "        vertical-align: top;\n",
       "    }\n",
       "\n",
       "    .dataframe thead th {\n",
       "        text-align: right;\n",
       "    }\n",
       "</style>\n",
       "<table border=\"1\" class=\"dataframe\">\n",
       "  <thead>\n",
       "    <tr style=\"text-align: right;\">\n",
       "      <th></th>\n",
       "      <th>date_time</th>\n",
       "      <th>target_carbon_monoxide</th>\n",
       "      <th>target_benzene</th>\n",
       "      <th>target_nitrogen_oxides</th>\n",
       "    </tr>\n",
       "  </thead>\n",
       "  <tbody>\n",
       "    <tr>\n",
       "      <th>0</th>\n",
       "      <td>2011-01-01 00:00:00</td>\n",
       "      <td>1.316455</td>\n",
       "      <td>5.152989</td>\n",
       "      <td>241.531248</td>\n",
       "    </tr>\n",
       "    <tr>\n",
       "      <th>1</th>\n",
       "      <td>2011-01-01 01:00:00</td>\n",
       "      <td>1.665661</td>\n",
       "      <td>7.325084</td>\n",
       "      <td>329.817757</td>\n",
       "    </tr>\n",
       "    <tr>\n",
       "      <th>2</th>\n",
       "      <td>2011-01-01 02:00:00</td>\n",
       "      <td>1.530902</td>\n",
       "      <td>7.524217</td>\n",
       "      <td>369.853116</td>\n",
       "    </tr>\n",
       "    <tr>\n",
       "      <th>3</th>\n",
       "      <td>2011-01-01 03:00:00</td>\n",
       "      <td>1.612576</td>\n",
       "      <td>8.343671</td>\n",
       "      <td>365.921118</td>\n",
       "    </tr>\n",
       "    <tr>\n",
       "      <th>4</th>\n",
       "      <td>2011-01-01 04:00:00</td>\n",
       "      <td>0.736210</td>\n",
       "      <td>6.682046</td>\n",
       "      <td>244.906688</td>\n",
       "    </tr>\n",
       "  </tbody>\n",
       "</table>\n",
       "</div>"
      ],
      "text/plain": [
       "             date_time  target_carbon_monoxide  target_benzene  \\\n",
       "0  2011-01-01 00:00:00                1.316455        5.152989   \n",
       "1  2011-01-01 01:00:00                1.665661        7.325084   \n",
       "2  2011-01-01 02:00:00                1.530902        7.524217   \n",
       "3  2011-01-01 03:00:00                1.612576        8.343671   \n",
       "4  2011-01-01 04:00:00                0.736210        6.682046   \n",
       "\n",
       "   target_nitrogen_oxides  \n",
       "0              241.531248  \n",
       "1              329.817757  \n",
       "2              369.853116  \n",
       "3              365.921118  \n",
       "4              244.906688  "
      ]
     },
     "execution_count": 9,
     "metadata": {},
     "output_type": "execute_result"
    }
   ],
   "source": [
    "LGMR = LGBMRegressor()\n",
    "LGMR.fit(X, value_1)\n",
    "subm['target_carbon_monoxide'] = LGMR.predict(X_test)\n",
    "\n",
    "LGMR = LGBMRegressor()\n",
    "LGMR.fit(X, value_2)\n",
    "subm['target_benzene'] = LGMR.predict(X_test)\n",
    "\n",
    "LGMR = LGBMRegressor()\n",
    "LGMR.fit(X, value_3)\n",
    "subm['target_nitrogen_oxides'] = LGMR.predict(X_test)\n",
    "\n",
    "subm.head()"
   ]
  },
  {
   "cell_type": "code",
   "execution_count": 10,
   "id": "competent-excellence",
   "metadata": {
    "execution": {
     "iopub.execute_input": "2021-07-01T08:24:10.387531Z",
     "iopub.status.busy": "2021-07-01T08:24:10.386885Z",
     "iopub.status.idle": "2021-07-01T08:24:10.412468Z",
     "shell.execute_reply": "2021-07-01T08:24:10.412967Z",
     "shell.execute_reply.started": "2021-07-01T07:49:47.103732Z"
    },
    "papermill": {
     "duration": 0.043738,
     "end_time": "2021-07-01T08:24:10.413151",
     "exception": false,
     "start_time": "2021-07-01T08:24:10.369413",
     "status": "completed"
    },
    "tags": []
   },
   "outputs": [],
   "source": [
    "subm.to_csv('submission_Light_0.csv', index=False)"
   ]
  }
 ],
 "metadata": {
  "kernelspec": {
   "display_name": "Python 3",
   "language": "python",
   "name": "python3"
  },
  "language_info": {
   "codemirror_mode": {
    "name": "ipython",
    "version": 3
   },
   "file_extension": ".py",
   "mimetype": "text/x-python",
   "name": "python",
   "nbconvert_exporter": "python",
   "pygments_lexer": "ipython3",
   "version": "3.8.12"
  },
  "papermill": {
   "default_parameters": {},
   "duration": 12.694805,
   "end_time": "2021-07-01T08:24:11.239203",
   "environment_variables": {},
   "exception": null,
   "input_path": "__notebook__.ipynb",
   "output_path": "__notebook__.ipynb",
   "parameters": {},
   "start_time": "2021-07-01T08:23:58.544398",
   "version": "2.3.3"
  }
 },
 "nbformat": 4,
 "nbformat_minor": 5
}
