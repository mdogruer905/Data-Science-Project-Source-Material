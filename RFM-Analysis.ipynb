{
 "cells": [
  {
   "cell_type": "markdown",
   "metadata": {},
   "source": [
    "# RFM Analizi ile Müşteri Segmentasyonu"
   ]
  },
  {
   "cell_type": "markdown",
   "metadata": {},
   "source": [
    "*Müşterilerini segmentlere ayırmak isteyen bir e-ticaret şirketi bu segmentlere göre pazarlama stratejileri belirlemek istemektedir. Bunu gerçekleştirebilmek için müşterilerin davranışları tanımlanacak ve oluşan öbeklenmelere göre gruplar oluşturulacaktır. Ortak davranışlar sergileyenler aynı gruplarda yer alacak ve bu gruplara özel satış ve pazarlama teknikleri geliştirmeye çalışacaktır.*"
   ]
  },
  {
   "cell_type": "markdown",
   "metadata": {},
   "source": [
    "https://archive.ics.uci.edu/ml/datasets/Online+Retail+II"
   ]
  },
  {
   "cell_type": "markdown",
   "metadata": {},
   "source": [
    "*Online Retail II isimli veri seti İngiltere merkezli online bir satış mağazasının 01/12/2009 - 09/12/2011 tarihleri arasındaki satışlarını içermektedir. Bu şirket hediyelik eşya satışı yapmaktadır. Promosyon ürünleri gibi düşünebilir ve müşterilerinin çoğu da toptancıdır.*"
   ]
  },
  {
   "cell_type": "markdown",
   "metadata": {},
   "source": [
    "**DEĞİŞKENLER**\n",
    "\n",
    "- **InvoiceNo:** *Fatura numarası. Her işleme yani faturaya ait eşsiz numara. Eğer bu kod C ile başlıyorsa işlemin iptal edildiğini ifade eder.*\n",
    "- **StockCode:** *Ürün kodu. Her bir ürün için eşsiz numara.*\n",
    "- **Description:** *Ürün ismi.*\n",
    "- **Quantity:** *Ürün adedi. Faturalardaki ürünlerden kaçar tane satıldığını ifade etmektedir.*\n",
    "- **InvoiceDate:** *Fatura tarihi ve zamanı.*\n",
    "- **UnitPrice:** *Ürün fiyatı.(Sterlin cinsinden)*\n",
    "- **CustomerID:** *Eşsiz müşteri numarası.*\n",
    "- **Country:** *Ülke ismi. Müşterinin yaşadığı ülke.*"
   ]
  },
  {
   "cell_type": "code",
   "execution_count": null,
   "metadata": {},
   "outputs": [],
   "source": [
    "import pandas as pd\n",
    "import numpy as np\n",
    "import seaborn as sns\n",
    "import matplotlib.pyplot as plt\n",
    "\n",
    "pd.set_option('display.max_columns', None); pd.set_option('display.max_rows', None);\n",
    "pd.set_option('display.float_format', lambda x: '%.0f' % x)"
   ]
  },
  {
   "cell_type": "code",
   "execution_count": null,
   "metadata": {},
   "outputs": [],
   "source": [
    "df_2010_2011 = pd.read_excel(\"online_retail_II.xlsx\", sheet_name = \"Year 2010-2011\")"
   ]
  },
  {
   "cell_type": "code",
   "execution_count": null,
   "metadata": {},
   "outputs": [],
   "source": [
    "df = df_2010_2011.copy()\n",
    "#Hangi üründen kaç tane var?\n",
    "df[\"Description\"].value_counts().head()"
   ]
  },
  {
   "cell_type": "code",
   "execution_count": null,
   "metadata": {},
   "outputs": [],
   "source": [
    "#Eşsiz ürün sayısı kaçtır?\n",
    "df[\"Description\"].nunique()"
   ]
  },
  {
   "cell_type": "code",
   "execution_count": null,
   "metadata": {},
   "outputs": [],
   "source": [
    "#En çok sipariş edilen ürün hangisidir?\n",
    "df.groupby(\"Description\").agg({\"Quantity\":\"sum\"}).sort_values(\"Quantity\", ascending = False).head()"
   ]
  },
  {
   "cell_type": "code",
   "execution_count": null,
   "metadata": {},
   "outputs": [],
   "source": [
    "#Toplam kaç fatura kesilmiştir?\n",
    "df[\"Invoice\"].nunique()"
   ]
  },
  {
   "cell_type": "code",
   "execution_count": null,
   "metadata": {},
   "outputs": [],
   "source": [
    "#Fatura başına ortalama kaç para kazanılmıştır?\n",
    "df[\"TotalPrice\"] = df[\"Quantity\"]*df[\"Price\"]"
   ]
  },
  {
   "cell_type": "code",
   "execution_count": null,
   "metadata": {},
   "outputs": [],
   "source": [
    "df.groupby(\"Invoice\").agg({\"TotalPrice\":\"sum\"}).head()\n",
    "df.head()"
   ]
  },
  {
   "cell_type": "code",
   "execution_count": null,
   "metadata": {},
   "outputs": [],
   "source": [
    "#En pahalı ürünler hangileridir?\n",
    "df.sort_values(\"Price\", ascending = False).head()"
   ]
  },
  {
   "cell_type": "code",
   "execution_count": null,
   "metadata": {},
   "outputs": [],
   "source": [
    "#Hangi ülkeden kaç sipariş geldi?\n",
    "df[\"Country\"].value_counts()"
   ]
  },
  {
   "cell_type": "code",
   "execution_count": null,
   "metadata": {},
   "outputs": [],
   "source": [
    "#Hangi ülke ne kadar kazandırdı?\n",
    "df.groupby(\"Country\").agg({\"TotalPrice\":\"sum\"}).sort_values(\"TotalPrice\", ascending = False).head()"
   ]
  },
  {
   "cell_type": "code",
   "execution_count": null,
   "metadata": {},
   "outputs": [],
   "source": [
    "#En çok iade alan ürün hangisidir? \n",
    "#Invoice değişkeninde başında \"C\" ifadesi yer alan ürünler iptal edilmiştir. Veri setinde şu anda boş yani değerler bulunmaktadır.\n",
    "#Bu yüzden str.contains komutu içinde na değerlerini False olarak tanımlayıp görmezden geliyoruz. \n",
    "#Adet işlemi için de \"Quantity\" değişkenini azalan şekilde sıralayarak en çoktan en aza doğru iadeleri sıralayabiliriz.\n",
    "return_ = df[df[\"Invoice\"].str.contains(\"C\", na=False)]\n",
    "return_.sort_values(\"Quantity\", ascending = True).head(3)"
   ]
  },
  {
   "cell_type": "markdown",
   "metadata": {},
   "source": [
    "# Veri Ön İşleme"
   ]
  },
  {
   "cell_type": "code",
   "execution_count": null,
   "metadata": {},
   "outputs": [],
   "source": [
    "#Eksik değer olup olmadığına bakıyoruz.\n",
    "df.isnull().sum()"
   ]
  },
  {
   "cell_type": "code",
   "execution_count": null,
   "metadata": {},
   "outputs": [],
   "source": [
    "df.shape"
   ]
  },
  {
   "cell_type": "code",
   "execution_count": null,
   "metadata": {},
   "outputs": [],
   "source": [
    "#Eksik değerleri veri setinden çıkarıyoruz.\n",
    "df.dropna(inplace = True)\n",
    "df.shape"
   ]
  },
  {
   "cell_type": "code",
   "execution_count": null,
   "metadata": {},
   "outputs": [],
   "source": [
    "#İstatistiksel değerleri, kartilleri inceleyerek veri seti hakkında bilgi ediniyoruz.\n",
    "df.describe([0.01,0.05,0.10,0.25,0.50,0.75,0.90,0.95, 0.99]).T"
   ]
  },
  {
   "cell_type": "markdown",
   "metadata": {},
   "source": [
    "# Kutu Grafiği ile Aykırı Gözlem Analizi"
   ]
  },
  {
   "cell_type": "code",
   "execution_count": null,
   "metadata": {},
   "outputs": [],
   "source": [
    "for feature in [\"Quantity\",\"Price\",\"TotalPrice\"]:\n",
    "\n",
    "    Q1 = df[feature].quantile(0.01)\n",
    "    Q3 = df[feature].quantile(0.99)\n",
    "    IQR = Q3-Q1\n",
    "    upper = Q3 + 1.5*IQR\n",
    "    lower = Q1 - 1.5*IQR\n",
    "\n",
    "    if df[(df[feature] > upper) | (df[feature] < lower)].any(axis=None):\n",
    "        print(feature,\"→ YES\")\n",
    "        print(df[(df[feature] > upper) | (df[feature] < lower)].shape[0])\n",
    "    else:\n",
    "        print(feature, \"→ NO\")"
   ]
  },
  {
   "cell_type": "markdown",
   "metadata": {},
   "source": [
    "temiz_df=df[~((df[feature] > upper) | (df[feature] < lower)).any(axis=None)]"
   ]
  },
  {
   "cell_type": "markdown",
   "metadata": {},
   "source": [
    "# RFM Skorları"
   ]
  },
  {
   "cell_type": "markdown",
   "metadata": {},
   "source": [
    "RFM ifadesi Recency, Frequency, Monetary ifadelerinin baş harflerinden oluşur.\n",
    "Müşterilerin satın alma alışkanlıkları üzerinden pazarlama ve satış stratejileri belirlemeye yardımcı olan bir tekniktir.\n",
    "\n",
    "- Recency (Yenilik): Müşterinin son satın almasından bugüne kadar geçen süre\n",
    "\n",
    "Diğer bir ifadesiyle “Müşterinin son temasından bugüne kadar geçen süre” dir. (Bugünün tarihi - Son satın alma) şeklinde bulunur.\n",
    "Bugünün tarihi - son ürün satın alma tarihi. Çıkan değeri küçük olması istenir.\n",
    "\n",
    "- Frequency (Sıklık): Toplam satın alma sayısı.\n",
    "\n",
    "- Monetary (Parasal Değer): Müşterinin yaptığı toplam harcama."
   ]
  },
  {
   "cell_type": "code",
   "execution_count": null,
   "metadata": {},
   "outputs": [],
   "source": [
    "df.info()"
   ]
  },
  {
   "cell_type": "markdown",
   "metadata": {},
   "source": [
    "# Recency Hesabı"
   ]
  },
  {
   "cell_type": "code",
   "execution_count": null,
   "metadata": {},
   "outputs": [],
   "source": [
    "#Alışveriş yapılan ilk günü buluyoruz.\n",
    "df[\"InvoiceDate\"].min()"
   ]
  },
  {
   "cell_type": "code",
   "execution_count": null,
   "metadata": {},
   "outputs": [],
   "source": [
    "#Alışveriş yapılan son günü buluyoruz.\n",
    "df[\"InvoiceDate\"].max()"
   ]
  },
  {
   "cell_type": "code",
   "execution_count": null,
   "metadata": {},
   "outputs": [],
   "source": [
    "#İnceleyeceğimiz veriler 2010-2011 yılları arasında olduğu için bugünün tarihini kendimiz belirliyoruz.\n",
    "import datetime as dt\n",
    "today_date = dt.datetime(2011,12,9)\n",
    "today_date"
   ]
  },
  {
   "cell_type": "code",
   "execution_count": null,
   "metadata": {},
   "outputs": [],
   "source": [
    "#Müşteri ID'sine göre son yapılan alışveriş tarihlerine ulaşıyoruz.\n",
    "df.groupby(\"Customer ID\").agg({\"InvoiceDate\":\"max\"}).head()"
   ]
  },
  {
   "cell_type": "code",
   "execution_count": null,
   "metadata": {},
   "outputs": [],
   "source": [
    "#(Bizim belirlediğimiz bugünün tarihi - alışveriş yapılan son tarih) işlemi yapıldığında recency değerini buluyoruz.\n",
    "temp_df = (today_date - df.groupby(\"Customer ID\").agg({\"InvoiceDate\":\"max\"}))\n",
    "temp_df.rename(columns={\"InvoiceDate\": \"Recency\"}, inplace = True)\n",
    "temp_df.head()"
   ]
  },
  {
   "cell_type": "code",
   "execution_count": null,
   "metadata": {},
   "outputs": [],
   "source": [
    "#Saat değerlerini silmek için, daha önce burası Invoice Date değişkeni ve veri tipi datetime olduğu için days'leri seçip saatleri siliyoruz.\n",
    "recency_df = temp_df[\"Recency\"].apply(lambda x: x.days)\n",
    "recency_df.head()"
   ]
  },
  {
   "cell_type": "markdown",
   "metadata": {},
   "source": [
    "# Frequency Hesabı"
   ]
  },
  {
   "cell_type": "code",
   "execution_count": null,
   "metadata": {},
   "outputs": [],
   "source": [
    "temp_df = df.groupby([\"Customer ID\",\"Invoice\"]).agg({\"Invoice\":\"count\"})\n",
    "temp_df.head()"
   ]
  },
  {
   "cell_type": "code",
   "execution_count": null,
   "metadata": {},
   "outputs": [],
   "source": [
    "#Her müşteri kaç alışveriş yapmış toplamda bunu buluyoruz.\n",
    "temp_df.groupby(\"Customer ID\").agg({\"Invoice\":\"count\"}).head()"
   ]
  },
  {
   "cell_type": "code",
   "execution_count": null,
   "metadata": {},
   "outputs": [],
   "source": [
    "#Yukarıda yapmış olduğumuz işlemi bir değişkene atayıp \"Invoice\" yazan değişkeni de \"Frequency\" olarak değiştirip gözlemliyoruz.\n",
    "freq_df = temp_df.groupby(\"Customer ID\").agg({\"Invoice\":\"count\"})\n",
    "freq_df.rename(columns={\"Invoice\": \"Frequency\"}, inplace = True)\n",
    "freq_df.head()"
   ]
  },
  {
   "cell_type": "markdown",
   "metadata": {},
   "source": [
    "# Monetary Hesabı"
   ]
  },
  {
   "cell_type": "code",
   "execution_count": null,
   "metadata": {},
   "outputs": [],
   "source": [
    "monetary_df = df.groupby(\"Customer ID\").agg({\"TotalPrice\":\"sum\"})\n",
    "monetary_df.head()"
   ]
  },
  {
   "cell_type": "code",
   "execution_count": null,
   "metadata": {},
   "outputs": [],
   "source": [
    "#Sutün adlandırmasını değiştiriyoruz.\n",
    "monetary_df.rename(columns={\"TotalPrice\": \"Monetary\"}, inplace = True)\n",
    "monetary_df.head()"
   ]
  },
  {
   "cell_type": "code",
   "execution_count": null,
   "metadata": {},
   "outputs": [],
   "source": [
    "print(recency_df.shape,freq_df.shape,monetary_df.shape)"
   ]
  },
  {
   "cell_type": "markdown",
   "metadata": {},
   "source": [
    "# RFM Analizi "
   ]
  },
  {
   "cell_type": "markdown",
   "metadata": {},
   "source": [
    "*RFM Analizi için gerekli olan parametreler hesaplandıktan sonra yorum yapabilmek için bazı işlemler yapacağız.*"
   ]
  },
  {
   "cell_type": "code",
   "execution_count": null,
   "metadata": {},
   "outputs": [],
   "source": [
    "#Parametreleri bir dataframe olarak concat fonksiyonu yardımı ile birleştiriyoruz.\n",
    "rfm = pd.concat([recency_df, freq_df, monetary_df],  axis=1)\n",
    "rfm.head()"
   ]
  },
  {
   "cell_type": "code",
   "execution_count": null,
   "metadata": {},
   "outputs": [],
   "source": [
    "#Değerler görüldüğü üzere 1 ile 5 arasında olan değerlerdir. 5 çok iyi, 1 ise çok kötü anlamına gelmektedir.\n",
    "rfm[\"RecencyScore\"] = pd.qcut(rfm['Recency'], 5, labels = [5, 4, 3, 2, 1])\n",
    "rfm[\"FrequencyScore\"] = pd.qcut(rfm['Frequency'].rank(method = \"first\"), 5, labels = [1,2,3,4,5])\n",
    "rfm[\"MonetaryScore\"] = pd.qcut(rfm['Monetary'], 5, labels = [1, 2, 3, 4, 5])\n",
    "rfm.head()"
   ]
  },
  {
   "cell_type": "code",
   "execution_count": null,
   "metadata": {},
   "outputs": [],
   "source": [
    "#Skorları yanyana yazdırıyoruz.\n",
    "(rfm['RecencyScore'].astype(str) + \n",
    " rfm['FrequencyScore'].astype(str) + \n",
    " rfm['MonetaryScore'].astype(str)).head()"
   ]
  },
  {
   "cell_type": "code",
   "execution_count": null,
   "metadata": {},
   "outputs": [],
   "source": [
    "#RFM_SCORE sütununu Dataframe tablosuna ekliyoruz.\n",
    "rfm[\"RFM_SCORE\"] = rfm['RecencyScore'].astype(str) + rfm['FrequencyScore'].astype(str) + rfm['MonetaryScore'].astype(str)\n",
    "rfm.head()"
   ]
  },
  {
   "cell_type": "code",
   "execution_count": null,
   "metadata": {},
   "outputs": [],
   "source": [
    "#Betimsel istatistikleri inceliyoruz.\n",
    "rfm.describe().T"
   ]
  },
  {
   "cell_type": "code",
   "execution_count": null,
   "metadata": {},
   "outputs": [],
   "source": [
    "#En iyi müşteriler gösterilmektedir.\n",
    "rfm[rfm[\"RFM_SCORE\"] == \"555\"].head()"
   ]
  },
  {
   "cell_type": "code",
   "execution_count": null,
   "metadata": {},
   "outputs": [],
   "source": [
    "#En kötü müşteriler gösterilmektedir.\n",
    "rfm[rfm[\"RFM_SCORE\"] == \"111\"].head()"
   ]
  },
  {
   "attachments": {
    "image.png": {
     "image/png": "[encoded data removed]"
    }
   },
   "cell_type": "markdown",
   "metadata": {},
   "source": [
    "![image.png](attachment:image.png)"
   ]
  },
  {
   "cell_type": "code",
   "execution_count": null,
   "metadata": {},
   "outputs": [],
   "source": [
    "#RFM skorlarına göre müşterileri sınıflara atıyoruz. Bu sınıfların hangi skor aralığında olacağı aşağıda belirtilmiştir. \n",
    "#Örnek olarak Hibernating sınıfı şu skor değerlerine sahiptir. \n",
    "#Recency değeri 1-2, Frequency değeri 1-2 olanlardır diğer sınıflarda bu şekilde okunmaktadır.\n",
    "#Buraya sadece Recency ve Frequency eklenmesinin sebebi tabloda sadece bu iki parametre yer almaktadır.\n",
    "#Ancak Monetary de eklenebilir.\n",
    "seg_map = {\n",
    "    r'[1-2][1-2]': 'Hibernating',\n",
    "    r'[1-2][3-4]': 'At Risk',\n",
    "    r'[1-2]5': 'Can\\'t Loose',\n",
    "    r'3[1-2]': 'About to Sleep',\n",
    "    r'33': 'Need Attention',\n",
    "    r'[3-4][4-5]': 'Loyal Customers',\n",
    "    r'41': 'Promising',\n",
    "    r'51': 'New Customers',\n",
    "    r'[4-5][2-3]': 'Potential Loyalists',\n",
    "    r'5[4-5]': 'Champions'\n",
    "}"
   ]
  },
  {
   "cell_type": "code",
   "execution_count": null,
   "metadata": {},
   "outputs": [],
   "source": [
    "#Yukarıda tanımlanan seg_map'i dataframe tablosuna dahil ediyoruz.\n",
    "rfm['Segment'] = rfm['RecencyScore'].astype(str) + rfm['FrequencyScore'].astype(str)\n",
    "rfm['Segment'] = rfm['Segment'].replace(seg_map, regex=True)\n",
    "rfm.head()"
   ]
  },
  {
   "cell_type": "code",
   "execution_count": null,
   "metadata": {},
   "outputs": [],
   "source": [
    "#Segmentlere göre groupby yaparak elde edilen 3 parametrenin ortalama ve kaç adet olduğunu buluyoruz.\n",
    "rfm[[\"Segment\", \"Recency\",\"Frequency\",\"Monetary\"]].groupby(\"Segment\").agg([\"mean\",\"count\"])"
   ]
  },
  {
   "cell_type": "code",
   "execution_count": null,
   "metadata": {},
   "outputs": [],
   "source": [
    "#\"Need Attention\" grubunu yakalıyoruz.\n",
    "rfm[rfm[\"Segment\"] == \"Need Attention\"].head()"
   ]
  },
  {
   "cell_type": "code",
   "execution_count": null,
   "metadata": {},
   "outputs": [],
   "source": [
    "#Dikkat gerektiren müşterilerin Customer ID (indeks) değerlerine erişilmiştir.\n",
    "#Yeni müşterilere özel promosyonlar ve mailler bu ID'ler sayesinde atılabilir.\n",
    "rfm[rfm[\"Segment\"] == \"Need Attention\"].index"
   ]
  },
  {
   "cell_type": "code",
   "execution_count": null,
   "metadata": {},
   "outputs": [],
   "source": [
    "#Yeni bir dataframe oluşturularak içerisine Need Attention grubuna ait müşterilerin ID bilgileri atıyoruz.\n",
    "new_df = pd.DataFrame()\n",
    "new_df[\"NewCustomerID\"] = rfm[rfm[\"Segment\"] == \"Need Attention\"].index\n",
    "new_df.head()"
   ]
  },
  {
   "cell_type": "code",
   "execution_count": null,
   "metadata": {},
   "outputs": [],
   "source": [
    "#Atanan bu ID'ler csv çıktısı alınarak kullanıma hazır hale getirilmiştir.\n",
    "new_df.to_csv(\"new_customers.csv\")"
   ]
  },
  {
   "cell_type": "markdown",
   "metadata": {},
   "source": [
    "# Yorumlama"
   ]
  },
  {
   "cell_type": "code",
   "execution_count": null,
   "metadata": {},
   "outputs": [],
   "source": [
    "rfm[[\"Segment\", \"Recency\",\"Frequency\",\"Monetary\"]].groupby(\"Segment\").agg([\"mean\",\"count\",\"max\"]).head(10)"
   ]
  },
  {
   "cell_type": "markdown",
   "metadata": {},
   "source": [
    "Yorum yaparken Recency değerinin düşük, Frequency değerinin yüksek ve Monetary değerinin yüksek olmasını dikkate alacağız.\n",
    "Buna göre seçilecek olan 4 grup şunlardır;\n",
    "\n",
    "- Champions\n",
    "- Can't Loose\n",
    "- Loyal Customers\n",
    "- Need Attention\n",
    "\n",
    "**Champions**\n",
    "\n",
    "665 kişi bulunan bu grupta ortalama olarak en son alışveriş 4 gün önce gerçekleşmiş,\n",
    "alışveriş sıklıkları 15, toplamda 248 alışveriş var, ort. 6510 dolar/TL harcamaları var.\n",
    "\n",
    "**Can't Loose**\n",
    "\n",
    "68 kişi bulunan bu grupta ortalama olarak en son alışveriş 132 gün önce gerçekleşmiş,\n",
    "alışveriş sıklıkları 10, toplamda 35 alışverişleri var, ort. 2381 dolar/TL harcamaları var.\n",
    "\n",
    "**Loyal Customers**\n",
    "\n",
    "795 kişi bulunan bu grupta ortalama olarak en son alışveriş 31 gün önce gerçekleşmiş,\n",
    "alışveriş sıklıkları 8, toplamda 76 alışverişleri var, ort. 2703 dolar/TL harcamaları var.\n",
    "\n",
    "**Need Attention**\n",
    "\n",
    "190 kişi bulunan bu grupta ortalama olarak en son alışveriş 48 gün önce gerçekleşmiş,\n",
    "alışveriş sıklıkları 3, toplamda 4 alışverişleri var, ort. 790 dolar/TL harcamaları var.\n",
    "\n",
    "\n",
    "_**AKSİYON ÇALIŞMALARI**_\n",
    "\n",
    "Champions grubundaki müşteriler büyük ihtimalle toplam gelirin yüksek bir yüzdesini oluşturmaktadır. Bu nedenle onları memnun etmeye odaklanmak en büyük öncelik olmalıdır. Tercihlerini daha iyi araştırıp analiz ederek, daha kişiselleştirilmiş ve özel fırsatlar oluşturulmalıdır. Ürünleri onlar için özelleştirerek promosyon şeklinde göndermek hem onları memnun edeceek hem de ürünün tanıtımı açısından yararlı olacaktır.\n",
    "\n",
    "Can't Loose grubuna çok dikkat ve önem verilmelidir. Bu kaybedilmek istenmeyen gruptur. Toplam gelirde hatrı sayılır yüzdeye sahiplerdir. Toplu bir şekilde alışveriş yapıp uzun bir süre tekrar alışveriş yapmamaktadırlar. Bu gruba özel promosyonlar hazırlanarak firma bünyesinde tutulabilirler.\n",
    "\n",
    "Loyal Customers grubundaki kişilere popüler ürünler indirimli olarak önerilebilir. Toplam yapılan alışveriş sayısı 76'dır ve oldukça yüksek bir sayıdır.\n",
    "\n",
    "Need Attention grubundaki kişilere sınırlı süreli teklifler yapılabilir. Bu onları harekete geçirerek alışveriş yapma eylemine itecektir. Geçmiş satın alımlar incelenerek tavsiyelerde bulunulmalıdır. Bu onları yeniden etkin hale getirecektir."
   ]
  },
  {
   "cell_type": "code",
   "execution_count": null,
   "metadata": {},
   "outputs": [],
   "source": []
  },
  {
   "cell_type": "code",
   "execution_count": null,
   "metadata": {},
   "outputs": [],
   "source": []
  }
 ],
 "metadata": {
  "kernelspec": {
   "display_name": "Python 3",
   "language": "python",
   "name": "python3"
  },
  "language_info": {
   "codemirror_mode": {
    "name": "ipython",
    "version": 3
   },
   "file_extension": ".py",
   "mimetype": "text/x-python",
   "name": "python",
   "nbconvert_exporter": "python",
   "pygments_lexer": "ipython3",
   "version": "3.8.12"
  }
 },
 "nbformat": 4,
 "nbformat_minor": 4
}
